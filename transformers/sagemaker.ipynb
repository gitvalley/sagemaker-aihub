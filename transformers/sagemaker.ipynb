{
 "cells": [
  {
   "cell_type": "markdown",
   "metadata": {},
   "source": [
    "# How to train a new language model from scratch using Transformers and Tokenizers Sagemaker\n",
    "* https://colab.research.google.com/github/huggingface/blog/blob/master/notebooks/01_how_to_train.ipynb"
   ]
  },
  {
   "cell_type": "markdown",
   "metadata": {},
   "source": [
    "## Setup\n",
    "First install `sagemaker` and `sagemaker[local]1. Also install the latest transformers from HuggingFace."
   ]
  },
  {
   "cell_type": "code",
   "execution_count": 1,
   "metadata": {},
   "outputs": [
    {
     "output_type": "stream",
     "name": "stdout",
     "text": "\u001b[33mYou are using pip version 19.0.3, however version 20.2b1 is available.\nYou should consider upgrading via the 'pip install --upgrade pip' command.\u001b[0m\n\u001b[33mYou are using pip version 19.0.3, however version 20.2b1 is available.\nYou should consider upgrading via the 'pip install --upgrade pip' command.\u001b[0m\nsagemaker           1.60.2    \ntokenizers          0.7.0     \ntransformers        2.11.0    \n\u001b[33mYou are using pip version 19.0.3, however version 20.2b1 is available.\nYou should consider upgrading via the 'pip install --upgrade pip' command.\u001b[0m\n"
    }
   ],
   "source": [
    "!pip install -q sagemaker sagemaker[local]\n",
    "\n",
    "# Install `transformers` from master\n",
    "!pip install -q git+https://github.com/huggingface/transformers\n",
    "!pip list | grep -E 'transformers|tokenizers|sagemaker'"
   ]
  },
  {
   "cell_type": "markdown",
   "metadata": {},
   "source": [
    "### Open session and bucket\n",
    "Open sagemaker session and setup the bucket for data upload"
   ]
  },
  {
   "cell_type": "code",
   "execution_count": 2,
   "metadata": {},
   "outputs": [
    {
     "output_type": "stream",
     "name": "stderr",
     "text": "WARNING:root:pandas failed to import. Analytics features will be impaired or broken.\n"
    }
   ],
   "source": [
    "import sagemaker\n",
    "import boto3\n",
    "\n",
    "sagemaker_session = sagemaker.Session()\n",
    "\n",
    "bucket = sagemaker_session.default_bucket()\n",
    "prefix = 'sagemaker/hunkim-transformer'"
   ]
  },
  {
   "cell_type": "markdown",
   "metadata": {},
   "source": [
    "### Set a role\n",
    "You need a role that can execute sagemaker and read/write S3. Create a role in your IAM setting, and use the role name "
   ]
  },
  {
   "cell_type": "code",
   "execution_count": 3,
   "metadata": {},
   "outputs": [
    {
     "output_type": "stream",
     "name": "stderr",
     "text": "WARNING:sagemaker:Couldn't call 'get_role' to get Role ARN from role name airesearch to get Role path.\narn:aws:iam::294038372338:role/hunkimSagemaker\n"
    }
   ],
   "source": [
    "try:\n",
    "    role = sagemaker.get_execution_role()\n",
    "except ValueError:\n",
    "    iam = boto3.client('iam')\n",
    "    role = iam.get_role(RoleName='hunkimSagemaker')['Role']['Arn']\n",
    "    \n",
    "print(role)"
   ]
  },
  {
   "cell_type": "markdown",
   "metadata": {},
   "source": [
    "### Data downlaod\n",
    "In this example, we are using a tinyshakespeare."
   ]
  },
  {
   "cell_type": "code",
   "execution_count": 4,
   "metadata": {},
   "outputs": [
    {
     "output_type": "stream",
     "name": "stdout",
     "text": "--2020-06-11 10:53:28--  https://cdn-datasets.huggingface.co/EsperBERTo/data/oscar.eo.txt\nResolving cdn-datasets.huggingface.co (cdn-datasets.huggingface.co)... 52.85.193.66, 52.85.193.97, 52.85.193.210, ...\nConnecting to cdn-datasets.huggingface.co (cdn-datasets.huggingface.co)|52.85.193.66|:443... connected.\nHTTP request sent, awaiting response... 200 OK\nLength: 312733741 (298M) [text/plain]\nSaving to: ‘data/oscar.eo.txt’\n\ndata/oscar.eo.txt   100%[===================>] 298.25M   846KB/s    in 13m 11s \n\n2020-06-11 11:06:38 (386 KB/s) - ‘data/oscar.eo.txt’ saved [312733741/312733741]\n\n"
    }
   ],
   "source": [
    "# in this notebook we'll only get one of the files (the Oscar one) for the sake of simplicity and performance\n",
    "!mkdir -p data\n",
    "!wget -O data/oscar.eo.txt -c https://cdn-datasets.huggingface.co/EsperBERTo/data/oscar.eo.txt"
   ]
  },
  {
   "cell_type": "markdown",
   "metadata": {},
   "source": [
    "### Uplaod data to S3\n",
    "Upload the data to S3 and the S3 path will be passed to the train"
   ]
  },
  {
   "cell_type": "code",
   "execution_count": 5,
   "metadata": {},
   "outputs": [
    {
     "output_type": "stream",
     "name": "stderr",
     "text": "WARNING:sagemaker:'upload_data' method will be deprecated in favor of 'S3Uploader' class (https://sagemaker.readthedocs.io/en/stable/s3.html#sagemaker.s3.S3Uploader) in SageMaker Python SDK v2.\ninput spec (in this case, just an S3 path): s3://sagemaker-us-west-2-294038372338/sagemaker/hunkim-transformer\n"
    }
   ],
   "source": [
    "inputs = sagemaker_session.upload_data(path='data', bucket=bucket, key_prefix=prefix)\n",
    "print('input spec (in this case, just an S3 path): {}'.format(inputs))"
   ]
  },
  {
   "cell_type": "markdown",
   "metadata": {},
   "source": [
    "## Train\n",
    "First we need to have a code directory which includes requrements.txt and train/infer code. Then, we will create pytorch container in the Sagemaker and execute the train. Finally, the train program will save models and necessary data in the `model_dir` and upload it to S3.\n",
    "\n",
    "Later the uploaded model in S3 will be used for model serving (endpoint)"
   ]
  },
  {
   "cell_type": "code",
   "execution_count": 6,
   "metadata": {},
   "outputs": [
    {
     "output_type": "stream",
     "name": "stdout",
     "text": "transformers == 2.11.0\nboto3\n"
    }
   ],
   "source": [
    "!pygmentize code/requirements.txt"
   ]
  },
  {
   "cell_type": "code",
   "execution_count": 7,
   "metadata": {},
   "outputs": [
    {
     "output_type": "stream",
     "name": "stdout",
     "text": "\u001b[34mfrom\u001b[39;49;00m \u001b[04m\u001b[36mtokenizers\u001b[39;49;00m\u001b[04m\u001b[36m.\u001b[39;49;00m\u001b[04m\u001b[36mimplementations\u001b[39;49;00m \u001b[34mimport\u001b[39;49;00m ByteLevelBPETokenizer\n\u001b[34mfrom\u001b[39;49;00m \u001b[04m\u001b[36mtokenizers\u001b[39;49;00m\u001b[04m\u001b[36m.\u001b[39;49;00m\u001b[04m\u001b[36mprocessors\u001b[39;49;00m \u001b[34mimport\u001b[39;49;00m BertProcessing\n\u001b[34mfrom\u001b[39;49;00m \u001b[04m\u001b[36mpathlib\u001b[39;49;00m \u001b[34mimport\u001b[39;49;00m Path\n\u001b[34mfrom\u001b[39;49;00m \u001b[04m\u001b[36mtokenizers\u001b[39;49;00m \u001b[34mimport\u001b[39;49;00m ByteLevelBPETokenizer\n\n\u001b[37m# Based on github.com/pytorch/examples/blob/master/word_language_model\u001b[39;49;00m\n\u001b[34mimport\u001b[39;49;00m \u001b[04m\u001b[36margparse\u001b[39;49;00m\n\u001b[34mimport\u001b[39;49;00m \u001b[04m\u001b[36mmath\u001b[39;49;00m\n\u001b[34mimport\u001b[39;49;00m \u001b[04m\u001b[36mos\u001b[39;49;00m\n\u001b[34mfrom\u001b[39;49;00m \u001b[04m\u001b[36mshutil\u001b[39;49;00m \u001b[34mimport\u001b[39;49;00m copy\n\u001b[34mimport\u001b[39;49;00m \u001b[04m\u001b[36mtime\u001b[39;49;00m\n\u001b[34mimport\u001b[39;49;00m \u001b[04m\u001b[36mtorch\u001b[39;49;00m\n\u001b[34mimport\u001b[39;49;00m \u001b[04m\u001b[36mtorch\u001b[39;49;00m\u001b[04m\u001b[36m.\u001b[39;49;00m\u001b[04m\u001b[36mnn\u001b[39;49;00m \u001b[34mas\u001b[39;49;00m \u001b[04m\u001b[36mnn\u001b[39;49;00m\n\n\u001b[37m# Run outside of SM for quick testing\u001b[39;49;00m\n\u001b[34mif\u001b[39;49;00m \u001b[33m'\u001b[39;49;00m\u001b[33mSM_MODEL_DIR\u001b[39;49;00m\u001b[33m'\u001b[39;49;00m \u001b[35mnot\u001b[39;49;00m \u001b[35min\u001b[39;49;00m os.environ:\n    \u001b[36mprint\u001b[39;49;00m(\u001b[33m\"\u001b[39;49;00m\u001b[33mRunning locally?\u001b[39;49;00m\u001b[33m\"\u001b[39;49;00m)\n\n    os.environ[\u001b[33m'\u001b[39;49;00m\u001b[33mSM_MODEL_DIR\u001b[39;49;00m\u001b[33m'\u001b[39;49;00m] = \u001b[33m\"\u001b[39;49;00m\u001b[33m./.model_dir\u001b[39;49;00m\u001b[33m\"\u001b[39;49;00m\n    os.environ[\u001b[33m'\u001b[39;49;00m\u001b[33mSM_OUTPUT_DATA_DIR\u001b[39;49;00m\u001b[33m'\u001b[39;49;00m] = \u001b[33m\"\u001b[39;49;00m\u001b[33m./.out_data\u001b[39;49;00m\u001b[33m\"\u001b[39;49;00m\n    os.environ[\u001b[33m'\u001b[39;49;00m\u001b[33mSM_CHANNEL_TRAINING\u001b[39;49;00m\u001b[33m'\u001b[39;49;00m]=\u001b[33m\"\u001b[39;49;00m\u001b[33m./.train_data\u001b[39;49;00m\u001b[33m\"\u001b[39;49;00m\n\n    \u001b[37m# Make a sample data \u001b[39;49;00m\n    os.makedirs(\u001b[33m'\u001b[39;49;00m\u001b[33m./.model_dir\u001b[39;49;00m\u001b[33m'\u001b[39;49;00m, exist_ok=\u001b[34mTrue\u001b[39;49;00m)\n    os.makedirs(\u001b[33m'\u001b[39;49;00m\u001b[33m./.out_data\u001b[39;49;00m\u001b[33m'\u001b[39;49;00m, exist_ok=\u001b[34mTrue\u001b[39;49;00m)\n    os.makedirs(\u001b[33m'\u001b[39;49;00m\u001b[33m./.train_data\u001b[39;49;00m\u001b[33m'\u001b[39;49;00m, exist_ok=\u001b[34mTrue\u001b[39;49;00m)\n\n    \u001b[37m#f = open(os.path.join(os.environ['SM_CHANNEL_TRAINING'],\"sample.txt\"), \"a\")\u001b[39;49;00m\n    \u001b[37m#f.write(\"Now the file has more content!\\nThis is cool\\n\")\u001b[39;49;00m\n    \u001b[37m#f.close()\u001b[39;49;00m\n\n\nparser = argparse.ArgumentParser(description=\u001b[33m'\u001b[39;49;00m\u001b[33mTransformer Language Model\u001b[39;49;00m\u001b[33m'\u001b[39;49;00m)\n\n\u001b[37m# Hyperparameters sent by the client are passed as command-line arguments to the script.\u001b[39;49;00m\n\nparser.add_argument(\u001b[33m'\u001b[39;49;00m\u001b[33m--num-train-epochs\u001b[39;49;00m\u001b[33m'\u001b[39;49;00m, \u001b[36mtype\u001b[39;49;00m=\u001b[36mint\u001b[39;49;00m, default=\u001b[34m1\u001b[39;49;00m)\nparser.add_argument(\u001b[33m'\u001b[39;49;00m\u001b[33m--per-gpu-train-batch-size\u001b[39;49;00m\u001b[33m'\u001b[39;49;00m, \u001b[36mtype\u001b[39;49;00m=\u001b[36mint\u001b[39;49;00m, default=\u001b[34m64\u001b[39;49;00m)\nparser.add_argument(\u001b[33m'\u001b[39;49;00m\u001b[33m--save-steps\u001b[39;49;00m\u001b[33m'\u001b[39;49;00m, \u001b[36mtype\u001b[39;49;00m=\u001b[36mint\u001b[39;49;00m, default=\u001b[34m10_000\u001b[39;49;00m)\nparser.add_argument(\u001b[33m'\u001b[39;49;00m\u001b[33m--save-total-limit\u001b[39;49;00m\u001b[33m'\u001b[39;49;00m, \u001b[36mtype\u001b[39;49;00m=\u001b[36mint\u001b[39;49;00m, default=\u001b[34m2\u001b[39;49;00m)\nparser.add_argument(\u001b[33m'\u001b[39;49;00m\u001b[33m--overwrite-output-dir\u001b[39;49;00m\u001b[33m'\u001b[39;49;00m, \u001b[36mtype\u001b[39;49;00m=\u001b[36mbool\u001b[39;49;00m, default=\u001b[34mTrue\u001b[39;49;00m)\nparser.add_argument(\u001b[33m'\u001b[39;49;00m\u001b[33m--vocab-size\u001b[39;49;00m\u001b[33m'\u001b[39;49;00m, \u001b[36mtype\u001b[39;49;00m=\u001b[36mint\u001b[39;49;00m, default=\u001b[34m52_000\u001b[39;49;00m)\nparser.add_argument(\u001b[33m'\u001b[39;49;00m\u001b[33m--max-position-embeddings\u001b[39;49;00m\u001b[33m'\u001b[39;49;00m, \u001b[36mtype\u001b[39;49;00m=\u001b[36mint\u001b[39;49;00m, default=\u001b[34m514\u001b[39;49;00m)\nparser.add_argument(\u001b[33m'\u001b[39;49;00m\u001b[33m--num-attention-heads\u001b[39;49;00m\u001b[33m'\u001b[39;49;00m, \u001b[36mtype\u001b[39;49;00m=\u001b[36mint\u001b[39;49;00m, default=\u001b[34m12\u001b[39;49;00m)\nparser.add_argument(\u001b[33m'\u001b[39;49;00m\u001b[33m--num-hidden-layers\u001b[39;49;00m\u001b[33m'\u001b[39;49;00m, \u001b[36mtype\u001b[39;49;00m=\u001b[36mint\u001b[39;49;00m, default=\u001b[34m6\u001b[39;49;00m)\nparser.add_argument(\u001b[33m'\u001b[39;49;00m\u001b[33m--type-vocab-size\u001b[39;49;00m\u001b[33m'\u001b[39;49;00m, \u001b[36mtype\u001b[39;49;00m=\u001b[36mint\u001b[39;49;00m, default=\u001b[34m1\u001b[39;49;00m)\nparser.add_argument(\u001b[33m'\u001b[39;49;00m\u001b[33m--token-max-len\u001b[39;49;00m\u001b[33m'\u001b[39;49;00m, \u001b[36mtype\u001b[39;49;00m=\u001b[36mint\u001b[39;49;00m, default=\u001b[34m512\u001b[39;49;00m)\n\n\u001b[37m# Data and model checkpoints/otput directories from the container environment\u001b[39;49;00m\nparser.add_argument(\u001b[33m'\u001b[39;49;00m\u001b[33m--model-dir\u001b[39;49;00m\u001b[33m'\u001b[39;49;00m, \u001b[36mtype\u001b[39;49;00m=\u001b[36mstr\u001b[39;49;00m, default=os.environ[\u001b[33m'\u001b[39;49;00m\u001b[33mSM_MODEL_DIR\u001b[39;49;00m\u001b[33m'\u001b[39;49;00m])\nparser.add_argument(\u001b[33m'\u001b[39;49;00m\u001b[33m--output-data-dir\u001b[39;49;00m\u001b[33m'\u001b[39;49;00m, \u001b[36mtype\u001b[39;49;00m=\u001b[36mstr\u001b[39;49;00m, default=os.environ[\u001b[33m'\u001b[39;49;00m\u001b[33mSM_OUTPUT_DATA_DIR\u001b[39;49;00m\u001b[33m'\u001b[39;49;00m])\nparser.add_argument(\u001b[33m'\u001b[39;49;00m\u001b[33m--data-dir\u001b[39;49;00m\u001b[33m'\u001b[39;49;00m, \u001b[36mtype\u001b[39;49;00m=\u001b[36mstr\u001b[39;49;00m, default=os.environ[\u001b[33m'\u001b[39;49;00m\u001b[33mSM_CHANNEL_TRAINING\u001b[39;49;00m\u001b[33m'\u001b[39;49;00m])\n\nargs = parser.parse_args()\n\npaths = [\u001b[36mstr\u001b[39;49;00m(x) \u001b[34mfor\u001b[39;49;00m x \u001b[35min\u001b[39;49;00m Path(args.data_dir).glob(\u001b[33m\"\u001b[39;49;00m\u001b[33m**/*.txt\u001b[39;49;00m\u001b[33m\"\u001b[39;49;00m)]\n\u001b[36mprint\u001b[39;49;00m(\u001b[33m\"\u001b[39;49;00m\u001b[33mdata files\u001b[39;49;00m\u001b[33m\"\u001b[39;49;00m)\n\u001b[36mprint\u001b[39;49;00m(paths)\n\n\u001b[37m# Initialize a tokenizer\u001b[39;49;00m\ntokenizer = ByteLevelBPETokenizer()\n\n\u001b[37m# Customize training\u001b[39;49;00m\ntokenizer.train(\n    files=paths, \n    vocab_size=\u001b[34m52_000\u001b[39;49;00m, \n    min_frequency=\u001b[34m2\u001b[39;49;00m, \n    special_tokens=[\n        \u001b[33m\"\u001b[39;49;00m\u001b[33m<s>\u001b[39;49;00m\u001b[33m\"\u001b[39;49;00m,\n        \u001b[33m\"\u001b[39;49;00m\u001b[33m<pad>\u001b[39;49;00m\u001b[33m\"\u001b[39;49;00m,\n        \u001b[33m\"\u001b[39;49;00m\u001b[33m</s>\u001b[39;49;00m\u001b[33m\"\u001b[39;49;00m,\n        \u001b[33m\"\u001b[39;49;00m\u001b[33m<unk>\u001b[39;49;00m\u001b[33m\"\u001b[39;49;00m,\n        \u001b[33m\"\u001b[39;49;00m\u001b[33m<mask>\u001b[39;49;00m\u001b[33m\"\u001b[39;49;00m]\n)\n\n\u001b[37m# Need to save it to model dir for inference\u001b[39;49;00m\ntokenizer.save(args.model_dir)\n\ntokenizer = ByteLevelBPETokenizer(\n    os.path.join(args.model_dir, \u001b[33m\"\u001b[39;49;00m\u001b[33mvocab.json\u001b[39;49;00m\u001b[33m\"\u001b[39;49;00m),\n    os.path.join(args.model_dir, \u001b[33m\"\u001b[39;49;00m\u001b[33mmerges.txt\u001b[39;49;00m\u001b[33m\"\u001b[39;49;00m)\n)\n\ntokenizer._tokenizer.post_processor = BertProcessing(\n    (\u001b[33m\"\u001b[39;49;00m\u001b[33m</s>\u001b[39;49;00m\u001b[33m\"\u001b[39;49;00m, tokenizer.token_to_id(\u001b[33m\"\u001b[39;49;00m\u001b[33m</s>\u001b[39;49;00m\u001b[33m\"\u001b[39;49;00m)),\n    (\u001b[33m\"\u001b[39;49;00m\u001b[33m<s>\u001b[39;49;00m\u001b[33m\"\u001b[39;49;00m, tokenizer.token_to_id(\u001b[33m\"\u001b[39;49;00m\u001b[33m<s>\u001b[39;49;00m\u001b[33m\"\u001b[39;49;00m))\n)\ntokenizer.enable_truncation(max_length=args.token_max_len)\n\n\u001b[36mprint\u001b[39;49;00m(tokenizer.encode(\u001b[33m\"\u001b[39;49;00m\u001b[33mNay, but speak not.\u001b[39;49;00m\u001b[33m\"\u001b[39;49;00m))\n\u001b[36mprint\u001b[39;49;00m(tokenizer.encode(\u001b[33m\"\u001b[39;49;00m\u001b[33mNay, but speak not.\u001b[39;49;00m\u001b[33m\"\u001b[39;49;00m).tokens)\n\n\u001b[34mfrom\u001b[39;49;00m \u001b[04m\u001b[36mtransformers\u001b[39;49;00m \u001b[34mimport\u001b[39;49;00m RobertaConfig\n\nconfig = RobertaConfig(\n    vocab_size=args.vocab_size,\n    max_position_embeddings=args.max_position_embeddings,\n    num_attention_heads=args.num_attention_heads,\n    num_hidden_layers=args.num_hidden_layers,\n    type_vocab_size=args.type_vocab_size\n)\n\n\u001b[34mfrom\u001b[39;49;00m \u001b[04m\u001b[36mtransformers\u001b[39;49;00m \u001b[34mimport\u001b[39;49;00m RobertaTokenizerFast\n\ntokenizer = RobertaTokenizerFast.from_pretrained(\n    args.model_dir, \n    max_len=args.token_max_len\n)\n\n\u001b[34mfrom\u001b[39;49;00m \u001b[04m\u001b[36mtransformers\u001b[39;49;00m \u001b[34mimport\u001b[39;49;00m RobertaForMaskedLM\n\nmodel = RobertaForMaskedLM(config=config)\nmodel.num_parameters()\n\u001b[37m# => 84 million parameters\u001b[39;49;00m\n\n\u001b[34mfrom\u001b[39;49;00m \u001b[04m\u001b[36mtransformers\u001b[39;49;00m \u001b[34mimport\u001b[39;49;00m LineByLineTextDataset\n\ndataset = LineByLineTextDataset(\n    tokenizer=tokenizer,\n    \u001b[37m#file_path=os.path.join(args.data_dir,\"oscar.eo.txt\"),\u001b[39;49;00m\n    file_path=paths[\u001b[34m0\u001b[39;49;00m], \u001b[37m# Get the first file\u001b[39;49;00m\n    block_size=\u001b[34m128\u001b[39;49;00m\n)\n\n\u001b[34mfrom\u001b[39;49;00m \u001b[04m\u001b[36mtransformers\u001b[39;49;00m \u001b[34mimport\u001b[39;49;00m DataCollatorForLanguageModeling\n\ndata_collator = DataCollatorForLanguageModeling(\n    tokenizer=tokenizer, mlm=\u001b[34mTrue\u001b[39;49;00m, mlm_probability=\u001b[34m0.15\u001b[39;49;00m\n)\n\n\u001b[34mfrom\u001b[39;49;00m \u001b[04m\u001b[36mtransformers\u001b[39;49;00m \u001b[34mimport\u001b[39;49;00m Trainer, TrainingArguments\n\ntraining_args = TrainingArguments(\n    output_dir=args.output_data_dir,\n    overwrite_output_dir=args.overwrite_output_dir,\n    num_train_epochs=args.num_train_epochs,\n    per_gpu_train_batch_size=args.per_gpu_train_batch_size,\n    save_steps=args.save_steps,\n    save_total_limit=args.save_total_limit\n)\n\ntrainer = Trainer(\n    model=model,\n    args=training_args,\n    data_collator=data_collator,\n    train_dataset=dataset,\n    prediction_loss_only=\u001b[34mTrue\u001b[39;49;00m\n)\n\n\u001b[36mprint\u001b[39;49;00m(\u001b[33m\"\u001b[39;49;00m\u001b[33mTraining...\u001b[39;49;00m\u001b[33m\"\u001b[39;49;00m)\ntrainer.train()\n\n\u001b[36mprint\u001b[39;49;00m(\u001b[33m\"\u001b[39;49;00m\u001b[33mSaving model...\u001b[39;49;00m\u001b[33m\"\u001b[39;49;00m)\ntrainer.save_model(args.model_dir)\n\nsaved_files = [\u001b[36mstr\u001b[39;49;00m(x) \u001b[34mfor\u001b[39;49;00m x \u001b[35min\u001b[39;49;00m Path(args.model_dir).glob(\u001b[33m\"\u001b[39;49;00m\u001b[33m**/*\u001b[39;49;00m\u001b[33m\"\u001b[39;49;00m)]\n\u001b[36mprint\u001b[39;49;00m(saved_files)\n"
    }
   ],
   "source": [
    "!pygmentize code/train.py"
   ]
  },
  {
   "cell_type": "markdown",
   "metadata": {},
   "source": [
    "### PyTorch Container\n",
    "define the container (framework) version and other options including hyperparameters. For local testing, use the `local` or `local_gpu` for the train_instance_type.\n",
    "\n",
    "specify the `source_dir` and `entry_pint` to point the train code."
   ]
  },
  {
   "cell_type": "code",
   "execution_count": 8,
   "metadata": {},
   "outputs": [],
   "source": [
    "from sagemaker.pytorch import PyTorch\n",
    "\n",
    "estimator = PyTorch(entry_point='train.py',\n",
    "                    role=role,\n",
    "                    framework_version='1.5.0',\n",
    "                    train_instance_count=1,\n",
    "                    train_instance_type='ml.p2.xlarge',\n",
    "                    #train_instance_type='local',\n",
    "                    source_dir='code',\n",
    "                    hyperparameters={\n",
    "                        \"vocab-size\": 52_000,\n",
    "                        \"max-position-embeddings\": 514,\n",
    "                        \"num-attention-heads\": 12,\n",
    "                        \"num-hidden-layers\": 6,\n",
    "                        \"type-vocab-size\": 1,\n",
    "                        \"overwrite-output-dir\": True,\n",
    "                        \"num-train-epochs\": 1,\n",
    "                        \"per-gpu-train-batch-size\": 64,\n",
    "                        \"save-steps\": 10_000,\n",
    "                        \"save-total-limit\": 2,\n",
    "                        \"token-max-len\": 512\n",
    "                    })"
   ]
  },
  {
   "cell_type": "markdown",
   "metadata": {},
   "source": [
    "### Fire training\n",
    "`fit` will sectue the train code we specified. Make sure we pass the training data"
   ]
  },
  {
   "cell_type": "code",
   "execution_count": 9,
   "metadata": {
    "tags": [
     "outputPrepend",
     "outputPrepend",
     "outputPrepend",
     "outputPrepend",
     "outputPrepend"
    ]
   },
   "outputs": [
    {
     "output_type": "stream",
     "name": "stderr",
     "text": "gz\",\n    \"module_name\": \"train\",\n    \"network_interface_name\": \"eth0\",\n    \"num_cpus\": 4,\n    \"num_gpus\": 1,\n    \"output_data_dir\": \"/opt/ml/output/data\",\n    \"output_dir\": \"/opt/ml/output\",\n    \"output_intermediate_dir\": \"/opt/ml/output/intermediate\",\n    \"resource_config\": {\n        \"current_host\": \"algo-1\",\n        \"hosts\": [\n            \"algo-1\"\n        ],\n        \"network_interface_name\": \"eth0\"\n    },\n    \"user_entry_point\": \"train.py\"\u001b[0m\n\u001b[34m}\n\u001b[0m\n\u001b[34mEnvironment variables:\n\u001b[0m\n\u001b[34mSM_HOSTS=[\"algo-1\"]\u001b[0m\n\u001b[34mSM_NETWORK_INTERFACE_NAME=eth0\u001b[0m\n\u001b[34mSM_HPS={\"max-position-embeddings\":514,\"num-attention-heads\":12,\"num-hidden-layers\":6,\"num-train-epochs\":1,\"overwrite-output-dir\":true,\"per-gpu-train-batch-size\":64,\"save-steps\":10000,\"save-total-limit\":2,\"token-max-len\":512,\"type-vocab-size\":1,\"vocab-size\":52000}\u001b[0m\n\u001b[34mSM_USER_ENTRY_POINT=train.py\u001b[0m\n\u001b[34mSM_FRAMEWORK_PARAMS={}\u001b[0m\n\u001b[34mSM_RESOURCE_CONFIG={\"current_host\":\"algo-1\",\"hosts\":[\"algo-1\"],\"network_interface_name\":\"eth0\"}\u001b[0m\n\u001b[34mSM_INPUT_DATA_CONFIG={\"training\":{\"RecordWrapperType\":\"None\",\"S3DistributionType\":\"FullyReplicated\",\"TrainingInputMode\":\"File\"}}\u001b[0m\n\u001b[34mSM_OUTPUT_DATA_DIR=/opt/ml/output/data\u001b[0m\n\u001b[34mSM_CHANNELS=[\"training\"]\u001b[0m\n\u001b[34mSM_CURRENT_HOST=algo-1\u001b[0m\n\u001b[34mSM_MODULE_NAME=train\u001b[0m\n\u001b[34mSM_LOG_LEVEL=20\u001b[0m\n\u001b[34mSM_FRAMEWORK_MODULE=sagemaker_pytorch_container.training:main\u001b[0m\n\u001b[34mSM_INPUT_DIR=/opt/ml/input\u001b[0m\n\u001b[34mSM_INPUT_CONFIG_DIR=/opt/ml/input/config\u001b[0m\n\u001b[34mSM_OUTPUT_DIR=/opt/ml/output\u001b[0m\n\u001b[34mSM_NUM_CPUS=4\u001b[0m\n\u001b[34mSM_NUM_GPUS=1\u001b[0m\n\u001b[34mSM_MODEL_DIR=/opt/ml/model\u001b[0m\n\u001b[34mSM_MODULE_DIR=s3://sagemaker-us-west-2-294038372338/pytorch-training-2020-06-11-02-07-01-602/source/sourcedir.tar.gz\u001b[0m\n\u001b[34mSM_TRAINING_ENV={\"additional_framework_parameters\":{},\"channel_input_dirs\":{\"training\":\"/opt/ml/input/data/training\"},\"current_host\":\"algo-1\",\"framework_module\":\"sagemaker_pytorch_container.training:main\",\"hosts\":[\"algo-1\"],\"hyperparameters\":{\"max-position-embeddings\":514,\"num-attention-heads\":12,\"num-hidden-layers\":6,\"num-train-epochs\":1,\"overwrite-output-dir\":true,\"per-gpu-train-batch-size\":64,\"save-steps\":10000,\"save-total-limit\":2,\"token-max-len\":512,\"type-vocab-size\":1,\"vocab-size\":52000},\"input_config_dir\":\"/opt/ml/input/config\",\"input_data_config\":{\"training\":{\"RecordWrapperType\":\"None\",\"S3DistributionType\":\"FullyReplicated\",\"TrainingInputMode\":\"File\"}},\"input_dir\":\"/opt/ml/input\",\"is_master\":true,\"job_name\":\"pytorch-training-2020-06-11-02-07-01-602\",\"log_level\":20,\"master_hostname\":\"algo-1\",\"model_dir\":\"/opt/ml/model\",\"module_dir\":\"s3://sagemaker-us-west-2-294038372338/pytorch-training-2020-06-11-02-07-01-602/source/sourcedir.tar.gz\",\"module_name\":\"train\",\"network_interface_name\":\"eth0\",\"num_cpus\":4,\"num_gpus\":1,\"output_data_dir\":\"/opt/ml/output/data\",\"output_dir\":\"/opt/ml/output\",\"output_intermediate_dir\":\"/opt/ml/output/intermediate\",\"resource_config\":{\"current_host\":\"algo-1\",\"hosts\":[\"algo-1\"],\"network_interface_name\":\"eth0\"},\"user_entry_point\":\"train.py\"}\u001b[0m\n\u001b[34mSM_USER_ARGS=[\"--max-position-embeddings\",\"514\",\"--num-attention-heads\",\"12\",\"--num-hidden-layers\",\"6\",\"--num-train-epochs\",\"1\",\"--overwrite-output-dir\",\"True\",\"--per-gpu-train-batch-size\",\"64\",\"--save-steps\",\"10000\",\"--save-total-limit\",\"2\",\"--token-max-len\",\"512\",\"--type-vocab-size\",\"1\",\"--vocab-size\",\"52000\"]\u001b[0m\n\u001b[34mSM_OUTPUT_INTERMEDIATE_DIR=/opt/ml/output/intermediate\u001b[0m\n\u001b[34mSM_CHANNEL_TRAINING=/opt/ml/input/data/training\u001b[0m\n\u001b[34mSM_HP_MAX-POSITION-EMBEDDINGS=514\u001b[0m\n\u001b[34mSM_HP_VOCAB-SIZE=52000\u001b[0m\n\u001b[34mSM_HP_PER-GPU-TRAIN-BATCH-SIZE=64\u001b[0m\n\u001b[34mSM_HP_TOKEN-MAX-LEN=512\u001b[0m\n\u001b[34mSM_HP_TYPE-VOCAB-SIZE=1\u001b[0m\n\u001b[34mSM_HP_SAVE-TOTAL-LIMIT=2\u001b[0m\n\u001b[34mSM_HP_NUM-ATTENTION-HEADS=12\u001b[0m\n\u001b[34mSM_HP_NUM-TRAIN-EPOCHS=1\u001b[0m\n\u001b[34mSM_HP_OVERWRITE-OUTPUT-DIR=true\u001b[0m\n\u001b[34mSM_HP_SAVE-STEPS=10000\u001b[0m\n\u001b[34mSM_HP_NUM-HIDDEN-LAYERS=6\u001b[0m\n\u001b[34mPYTHONPATH=/opt/ml/code:/opt/conda/bin:/opt/conda/lib/python36.zip:/opt/conda/lib/python3.6:/opt/conda/lib/python3.6/lib-dynload:/opt/conda/lib/python3.6/site-packages\n\u001b[0m\n\u001b[34mInvoking script with the following command:\n\u001b[0m\n\u001b[34m/opt/conda/bin/python train.py --max-position-embeddings 514 --num-attention-heads 12 --num-hidden-layers 6 --num-train-epochs 1 --overwrite-output-dir True --per-gpu-train-batch-size 64 --save-steps 10000 --save-total-limit 2 --token-max-len 512 --type-vocab-size 1 --vocab-size 52000\n\n\u001b[0m\n\u001b[34mdata files\u001b[0m\n\u001b[34m['/opt/ml/input/data/training/input.txt', '/opt/ml/input/data/training/merges.txt', '/opt/ml/input/data/training/oscar.eo.txt']\u001b[0m\n\u001b[34mEncoding(num_tokens=8, attributes=[ids, type_ids, tokens, offsets, attention_mask, special_tokens_mask, overflowing])\u001b[0m\n\u001b[34m['<s>', 'Nay', ',', 'Ġbut', 'Ġspeak', 'Ġnot', '.', '</s>']\u001b[0m\n\u001b[34mTraining...\u001b[0m\n\u001b[34m[2020-06-11 02:15:44.960 algo-1:69 INFO json_config.py:90] Creating hook from json_config at /opt/ml/input/config/debughookconfig.json.\u001b[0m\n\u001b[34m[2020-06-11 02:15:44.960 algo-1:69 INFO hook.py:183] tensorboard_dir has not been set for the hook. SMDebug will not be exporting tensorboard summaries.\u001b[0m\n\u001b[34m[2020-06-11 02:15:44.960 algo-1:69 INFO hook.py:228] Saving to /opt/ml/output/tensors\u001b[0m\n\u001b[34m[2020-06-11 02:15:45.006 algo-1:69 INFO hook.py:364] Monitoring the collections: losses\u001b[0m\n\u001b[34m[2020-06-11 02:15:45.007 algo-1:69 INFO hook.py:422] Hook is writing from the hook with pid: 69\n\u001b[0m\n\u001b[34m[2020-06-11 02:15:46.077 algo-1:69 WARNING hook.py:870] var is not Tensor or list or tuple of Tensors, module_name:roberta.encoder.layer.0.attention.self NoneType\u001b[0m\n\u001b[34m[2020-06-11 02:15:46.077 algo-1:69 WARNING hook.py:870] var is not Tensor or list or tuple of Tensors, module_name:roberta.encoder.layer.0.attention.self NoneType\u001b[0m\n\u001b[34m[2020-06-11 02:15:46.077 algo-1:69 WARNING hook.py:870] var is not Tensor or list or tuple of Tensors, module_name:roberta.encoder.layer.0.attention.self NoneType\u001b[0m\n\u001b[34m[2020-06-11 02:15:46.078 algo-1:69 WARNING hook.py:870] var is not Tensor or list or tuple of Tensors, module_name:roberta.encoder.layer.0.attention NoneType\u001b[0m\n\u001b[34m[2020-06-11 02:15:46.087 algo-1:69 WARNING hook.py:870] var is not Tensor or list or tuple of Tensors, module_name:roberta.encoder.layer.0 NoneType\u001b[0m\n\u001b[34m[2020-06-11 02:15:46.087 algo-1:69 WARNING hook.py:870] var is not Tensor or list or tuple of Tensors, module_name:roberta.encoder.layer.0 NoneType\u001b[0m\n\u001b[34m[2020-06-11 02:15:46.087 algo-1:69 WARNING hook.py:870] var is not Tensor or list or tuple of Tensors, module_name:roberta.encoder.layer.0 NoneType\u001b[0m\n\u001b[34m[2020-06-11 02:15:46.089 algo-1:69 WARNING hook.py:870] var is not Tensor or list or tuple of Tensors, module_name:roberta.encoder.layer.1.attention.self NoneType\u001b[0m\n\u001b[34m[2020-06-11 02:15:46.090 algo-1:69 WARNING hook.py:870] var is not Tensor or list or tuple of Tensors, module_name:roberta.encoder.layer.1.attention.self NoneType\u001b[0m\n\u001b[34m[2020-06-11 02:15:46.090 algo-1:69 WARNING hook.py:870] var is not Tensor or list or tuple of Tensors, module_name:roberta.encoder.layer.1.attention.self NoneType\u001b[0m\n\u001b[34m[2020-06-11 02:15:46.090 algo-1:69 WARNING hook.py:870] var is not Tensor or list or tuple of Tensors, module_name:roberta.encoder.layer.1.attention NoneType\u001b[0m\n\u001b[34m[2020-06-11 02:15:46.092 algo-1:69 WARNING hook.py:870] var is not Tensor or list or tuple of Tensors, module_name:roberta.encoder.layer.1 NoneType\u001b[0m\n\u001b[34m[2020-06-11 02:15:46.092 algo-1:69 WARNING hook.py:870] var is not Tensor or list or tuple of Tensors, module_name:roberta.encoder.layer.1 NoneType\u001b[0m\n\u001b[34m[2020-06-11 02:15:46.092 algo-1:69 WARNING hook.py:870] var is not Tensor or list or tuple of Tensors, module_name:roberta.encoder.layer.1 NoneType\u001b[0m\n\u001b[34m[2020-06-11 02:15:46.094 algo-1:69 WARNING hook.py:870] var is not Tensor or list or tuple of Tensors, module_name:roberta.encoder.layer.2.attention.self NoneType\u001b[0m\n\u001b[34m[2020-06-11 02:15:46.094 algo-1:69 WARNING hook.py:870] var is not Tensor or list or tuple of Tensors, module_name:roberta.encoder.layer.2.attention.self NoneType\u001b[0m\n\u001b[34m[2020-06-11 02:15:46.094 algo-1:69 WARNING hook.py:870] var is not Tensor or list or tuple of Tensors, module_name:roberta.encoder.layer.2.attention.self NoneType\u001b[0m\n\u001b[34m[2020-06-11 02:15:46.094 algo-1:69 WARNING hook.py:870] var is not Tensor or list or tuple of Tensors, module_name:roberta.encoder.layer.2.attention NoneType\u001b[0m\n\u001b[34m[2020-06-11 02:15:46.096 algo-1:69 WARNING hook.py:870] var is not Tensor or list or tuple of Tensors, module_name:roberta.encoder.layer.2 NoneType\u001b[0m\n\u001b[34m[2020-06-11 02:15:46.096 algo-1:69 WARNING hook.py:870] var is not Tensor or list or tuple of Tensors, module_name:roberta.encoder.layer.2 NoneType\u001b[0m\n\u001b[34m[2020-06-11 02:15:46.096 algo-1:69 WARNING hook.py:870] var is not Tensor or list or tuple of Tensors, module_name:roberta.encoder.layer.2 NoneType\u001b[0m\n\u001b[34m[2020-06-11 02:15:46.098 algo-1:69 WARNING hook.py:870] var is not Tensor or list or tuple of Tensors, module_name:roberta.encoder.layer.3.attention.self NoneType\u001b[0m\n\u001b[34m[2020-06-11 02:15:46.098 algo-1:69 WARNING hook.py:870] var is not Tensor or list or tuple of Tensors, module_name:roberta.encoder.layer.3.attention.self NoneType\u001b[0m\n\u001b[34m[2020-06-11 02:15:46.098 algo-1:69 WARNING hook.py:870] var is not Tensor or list or tuple of Tensors, module_name:roberta.encoder.layer.3.attention.self NoneType\u001b[0m\n\u001b[34m[2020-06-11 02:15:46.099 algo-1:69 WARNING hook.py:870] var is not Tensor or list or tuple of Tensors, module_name:roberta.encoder.layer.3.attention NoneType\u001b[0m\n\u001b[34m[2020-06-11 02:15:46.100 algo-1:69 WARNING hook.py:870] var is not Tensor or list or tuple of Tensors, module_name:roberta.encoder.layer.3 NoneType\u001b[0m\n\u001b[34m[2020-06-11 02:15:46.100 algo-1:69 WARNING hook.py:870] var is not Tensor or list or tuple of Tensors, module_name:roberta.encoder.layer.3 NoneType\u001b[0m\n\u001b[34m[2020-06-11 02:15:46.100 algo-1:69 WARNING hook.py:870] var is not Tensor or list or tuple of Tensors, module_name:roberta.encoder.layer.3 NoneType\u001b[0m\n\u001b[34m[2020-06-11 02:15:46.102 algo-1:69 WARNING hook.py:870] var is not Tensor or list or tuple of Tensors, module_name:roberta.encoder.layer.4.attention.self NoneType\u001b[0m\n\u001b[34m[2020-06-11 02:15:46.102 algo-1:69 WARNING hook.py:870] var is not Tensor or list or tuple of Tensors, module_name:roberta.encoder.layer.4.attention.self NoneType\u001b[0m\n\u001b[34m[2020-06-11 02:15:46.102 algo-1:69 WARNING hook.py:870] var is not Tensor or list or tuple of Tensors, module_name:roberta.encoder.layer.4.attention.self NoneType\u001b[0m\n\u001b[34m[2020-06-11 02:15:46.103 algo-1:69 WARNING hook.py:870] var is not Tensor or list or tuple of Tensors, module_name:roberta.encoder.layer.4.attention NoneType\u001b[0m\n\u001b[34m[2020-06-11 02:15:46.104 algo-1:69 WARNING hook.py:870] var is not Tensor or list or tuple of Tensors, module_name:roberta.encoder.layer.4 NoneType\u001b[0m\n\u001b[34m[2020-06-11 02:15:46.104 algo-1:69 WARNING hook.py:870] var is not Tensor or list or tuple of Tensors, module_name:roberta.encoder.layer.4 NoneType\u001b[0m\n\u001b[34m[2020-06-11 02:15:46.104 algo-1:69 WARNING hook.py:870] var is not Tensor or list or tuple of Tensors, module_name:roberta.encoder.layer.4 NoneType\u001b[0m\n\u001b[34m[2020-06-11 02:15:46.106 algo-1:69 WARNING hook.py:870] var is not Tensor or list or tuple of Tensors, module_name:roberta.encoder.layer.5.attention.self NoneType\u001b[0m\n\u001b[34m[2020-06-11 02:15:46.106 algo-1:69 WARNING hook.py:870] var is not Tensor or list or tuple of Tensors, module_name:roberta.encoder.layer.5.attention.self NoneType\u001b[0m\n\u001b[34m[2020-06-11 02:15:46.106 algo-1:69 WARNING hook.py:870] var is not Tensor or list or tuple of Tensors, module_name:roberta.encoder.layer.5.attention.self NoneType\u001b[0m\n\u001b[34m[2020-06-11 02:15:46.107 algo-1:69 WARNING hook.py:870] var is not Tensor or list or tuple of Tensors, module_name:roberta.encoder.layer.5.attention NoneType\u001b[0m\n\u001b[34m[2020-06-11 02:15:46.108 algo-1:69 WARNING hook.py:870] var is not Tensor or list or tuple of Tensors, module_name:roberta.encoder.layer.5 NoneType\u001b[0m\n\u001b[34m[2020-06-11 02:15:46.108 algo-1:69 WARNING hook.py:870] var is not Tensor or list or tuple of Tensors, module_name:roberta.encoder.layer.5 NoneType\u001b[0m\n\u001b[34m[2020-06-11 02:15:46.108 algo-1:69 WARNING hook.py:870] var is not Tensor or list or tuple of Tensors, module_name:roberta.encoder.layer.5 NoneType\u001b[0m\n\u001b[34m{\"loss\": 6.0344489450454715, \"learning_rate\": 1.2670565302144249e-06, \"epoch\": 0.9746588693957114, \"step\": 500}\u001b[0m\n\u001b[34m[2020-06-11 02:19:20.069 algo-1:69 WARNING hook.py:870] var is not Tensor or list or tuple of Tensors, module_name:roberta.encoder.layer.0.attention.self NoneType\u001b[0m\n\u001b[34m[2020-06-11 02:19:20.069 algo-1:69 WARNING hook.py:870] var is not Tensor or list or tuple of Tensors, module_name:roberta.encoder.layer.0.attention.self NoneType\u001b[0m\n\u001b[34m[2020-06-11 02:19:20.069 algo-1:69 WARNING hook.py:870] var is not Tensor or list or tuple of Tensors, module_name:roberta.encoder.layer.0.attention.self NoneType\u001b[0m\n\u001b[34m[2020-06-11 02:19:20.070 algo-1:69 WARNING hook.py:870] var is not Tensor or list or tuple of Tensors, module_name:roberta.encoder.layer.0.attention NoneType\u001b[0m\n\u001b[34m[2020-06-11 02:19:20.070 algo-1:69 WARNING hook.py:870] var is not Tensor or list or tuple of Tensors, module_name:roberta.encoder.layer.0 NoneType\u001b[0m\n\u001b[34m[2020-06-11 02:19:20.070 algo-1:69 WARNING hook.py:870] var is not Tensor or list or tuple of Tensors, module_name:roberta.encoder.layer.0 NoneType\u001b[0m\n\u001b[34m[2020-06-11 02:19:20.070 algo-1:69 WARNING hook.py:870] var is not Tensor or list or tuple of Tensors, module_name:roberta.encoder.layer.0 NoneType\u001b[0m\n\u001b[34m[2020-06-11 02:19:20.072 algo-1:69 WARNING hook.py:870] var is not Tensor or list or tuple of Tensors, module_name:roberta.encoder.layer.1.attention.self NoneType\u001b[0m\n\u001b[34m[2020-06-11 02:19:20.072 algo-1:69 WARNING hook.py:870] var is not Tensor or list or tuple of Tensors, module_name:roberta.encoder.layer.1.attention.self NoneType\u001b[0m\n\u001b[34m[2020-06-11 02:19:20.072 algo-1:69 WARNING hook.py:870] var is not Tensor or list or tuple of Tensors, module_name:roberta.encoder.layer.1.attention.self NoneType\u001b[0m\n\u001b[34m[2020-06-11 02:19:20.072 algo-1:69 WARNING hook.py:870] var is not Tensor or list or tuple of Tensors, module_name:roberta.encoder.layer.1.attention NoneType\u001b[0m\n\u001b[34m[2020-06-11 02:19:20.073 algo-1:69 WARNING hook.py:870] var is not Tensor or list or tuple of Tensors, module_name:roberta.encoder.layer.1 NoneType\u001b[0m\n\u001b[34m[2020-06-11 02:19:20.073 algo-1:69 WARNING hook.py:870] var is not Tensor or list or tuple of Tensors, module_name:roberta.encoder.layer.1 NoneType\u001b[0m\n\u001b[34m[2020-06-11 02:19:20.073 algo-1:69 WARNING hook.py:870] var is not Tensor or list or tuple of Tensors, module_name:roberta.encoder.layer.1 NoneType\u001b[0m\n\u001b[34m[2020-06-11 02:19:20.075 algo-1:69 WARNING hook.py:870] var is not Tensor or list or tuple of Tensors, module_name:roberta.encoder.layer.2.attention.self NoneType\u001b[0m\n\u001b[34m[2020-06-11 02:19:20.075 algo-1:69 WARNING hook.py:870] var is not Tensor or list or tuple of Tensors, module_name:roberta.encoder.layer.2.attention.self NoneType\u001b[0m\n\u001b[34m[2020-06-11 02:19:20.075 algo-1:69 WARNING hook.py:870] var is not Tensor or list or tuple of Tensors, module_name:roberta.encoder.layer.2.attention.self NoneType\u001b[0m\n\u001b[34m[2020-06-11 02:19:20.075 algo-1:69 WARNING hook.py:870] var is not Tensor or list or tuple of Tensors, module_name:roberta.encoder.layer.2.attention NoneType\u001b[0m\n\u001b[34m[2020-06-11 02:19:20.076 algo-1:69 WARNING hook.py:870] var is not Tensor or list or tuple of Tensors, module_name:roberta.encoder.layer.2 NoneType\u001b[0m\n\u001b[34m[2020-06-11 02:19:20.076 algo-1:69 WARNING hook.py:870] var is not Tensor or list or tuple of Tensors, module_name:roberta.encoder.layer.2 NoneType\u001b[0m\n\u001b[34m[2020-06-11 02:19:20.076 algo-1:69 WARNING hook.py:870] var is not Tensor or list or tuple of Tensors, module_name:roberta.encoder.layer.2 NoneType\u001b[0m\n\u001b[34m[2020-06-11 02:19:20.078 algo-1:69 WARNING hook.py:870] var is not Tensor or list or tuple of Tensors, module_name:roberta.encoder.layer.3.attention.self NoneType\u001b[0m\n\u001b[34m[2020-06-11 02:19:20.078 algo-1:69 WARNING hook.py:870] var is not Tensor or list or tuple of Tensors, module_name:roberta.encoder.layer.3.attention.self NoneType\u001b[0m\n\u001b[34m[2020-06-11 02:19:20.078 algo-1:69 WARNING hook.py:870] var is not Tensor or list or tuple of Tensors, module_name:roberta.encoder.layer.3.attention.self NoneType\u001b[0m\n\u001b[34m[2020-06-11 02:19:20.078 algo-1:69 WARNING hook.py:870] var is not Tensor or list or tuple of Tensors, module_name:roberta.encoder.layer.3.attention NoneType\u001b[0m\n\u001b[34m[2020-06-11 02:19:20.079 algo-1:69 WARNING hook.py:870] var is not Tensor or list or tuple of Tensors, module_name:roberta.encoder.layer.3 NoneType\u001b[0m\n\u001b[34m[2020-06-11 02:19:20.079 algo-1:69 WARNING hook.py:870] var is not Tensor or list or tuple of Tensors, module_name:roberta.encoder.layer.3 NoneType\u001b[0m\n\u001b[34m[2020-06-11 02:19:20.079 algo-1:69 WARNING hook.py:870] var is not Tensor or list or tuple of Tensors, module_name:roberta.encoder.layer.3 NoneType\u001b[0m\n\u001b[34m[2020-06-11 02:19:20.081 algo-1:69 WARNING hook.py:870] var is not Tensor or list or tuple of Tensors, module_name:roberta.encoder.layer.4.attention.self NoneType\u001b[0m\n\u001b[34m[2020-06-11 02:19:20.081 algo-1:69 WARNING hook.py:870] var is not Tensor or list or tuple of Tensors, module_name:roberta.encoder.layer.4.attention.self NoneType\u001b[0m\n\u001b[34m[2020-06-11 02:19:20.081 algo-1:69 WARNING hook.py:870] var is not Tensor or list or tuple of Tensors, module_name:roberta.encoder.layer.4.attention.self NoneType\u001b[0m\n\u001b[34m[2020-06-11 02:19:20.081 algo-1:69 WARNING hook.py:870] var is not Tensor or list or tuple of Tensors, module_name:roberta.encoder.layer.4.attention NoneType\u001b[0m\n\u001b[34m[2020-06-11 02:19:20.082 algo-1:69 WARNING hook.py:870] var is not Tensor or list or tuple of Tensors, module_name:roberta.encoder.layer.4 NoneType\u001b[0m\n\u001b[34m[2020-06-11 02:19:20.082 algo-1:69 WARNING hook.py:870] var is not Tensor or list or tuple of Tensors, module_name:roberta.encoder.layer.4 NoneType\u001b[0m\n\u001b[34m[2020-06-11 02:19:20.082 algo-1:69 WARNING hook.py:870] var is not Tensor or list or tuple of Tensors, module_name:roberta.encoder.layer.4 NoneType\u001b[0m\n\u001b[34m[2020-06-11 02:19:20.084 algo-1:69 WARNING hook.py:870] var is not Tensor or list or tuple of Tensors, module_name:roberta.encoder.layer.5.attention.self NoneType\u001b[0m\n\u001b[34m[2020-06-11 02:19:20.084 algo-1:69 WARNING hook.py:870] var is not Tensor or list or tuple of Tensors, module_name:roberta.encoder.layer.5.attention.self NoneType\u001b[0m\n\u001b[34m[2020-06-11 02:19:20.084 algo-1:69 WARNING hook.py:870] var is not Tensor or list or tuple of Tensors, module_name:roberta.encoder.layer.5.attention.self NoneType\u001b[0m\n\u001b[34m[2020-06-11 02:19:20.084 algo-1:69 WARNING hook.py:870] var is not Tensor or list or tuple of Tensors, module_name:roberta.encoder.layer.5.attention NoneType\u001b[0m\n\u001b[34m[2020-06-11 02:19:20.085 algo-1:69 WARNING hook.py:870] var is not Tensor or list or tuple of Tensors, module_name:roberta.encoder.layer.5 NoneType\u001b[0m\n\u001b[34m[2020-06-11 02:19:20.085 algo-1:69 WARNING hook.py:870] var is not Tensor or list or tuple of Tensors, module_name:roberta.encoder.layer.5 NoneType\u001b[0m\n\u001b[34m[2020-06-11 02:19:20.085 algo-1:69 WARNING hook.py:870] var is not Tensor or list or tuple of Tensors, module_name:roberta.encoder.layer.5 NoneType\u001b[0m\n\u001b[34mSaving model...\u001b[0m\n\u001b[34m['/opt/ml/model/training_args.bin', '/opt/ml/model/config.json', '/opt/ml/model/vocab.json', '/opt/ml/model/merges.txt', '/opt/ml/model/pytorch_model.bin']\u001b[0m\n\u001b[34m[2020-06-11 02:19:25.743 algo-1:69 INFO utils.py:25] The end of training job file will not be written for jobs running under SageMaker.\u001b[0m\n\u001b[34m2020-06-11 02:19:26,429 sagemaker-containers INFO     Reporting training SUCCESS\u001b[0m\n\n2020-06-11 02:19:30 Uploading - Uploading generated training model\n2020-06-11 02:20:28 Completed - Training job completed\nTraining seconds: 643\nBillable seconds: 643\nCPU times: user 11.7 s, sys: 3.25 s, total: 14.9 s\nWall time: 14min 2s\n"
    }
   ],
   "source": [
    "%%time\n",
    "estimator.fit({'training': inputs})"
   ]
  },
  {
   "cell_type": "markdown",
   "metadata": {},
   "source": [
    "## Serving\n",
    "The first step of serving is getting the models stored in S3 and launch a sagemaker serving container. \n",
    "\n",
    "### S3 models\n",
    "Makr sure the S3 file has models and necessaty files."
   ]
  },
  {
   "cell_type": "code",
   "execution_count": 10,
   "metadata": {},
   "outputs": [
    {
     "output_type": "stream",
     "name": "stdout",
     "text": "s3://sagemaker-us-west-2-294038372338/pytorch-training-2020-06-11-02-07-01-602/output/model.tar.gz\n"
    }
   ],
   "source": [
    "training_job_name = estimator.latest_training_job.name\n",
    "desc = sagemaker_session.sagemaker_client.describe_training_job(TrainingJobName=training_job_name)\n",
    "trained_model_location = desc['ModelArtifacts']['S3ModelArtifacts']\n",
    "print(trained_model_location)\n",
    "# s3://sagemaker-us-west-2-294038372338/pytorch-training-2020-06-10-23-53-28-771/output/model.tar.gz"
   ]
  },
  {
   "cell_type": "markdown",
   "metadata": {},
   "source": [
    "### Json serializer\n",
    "We are passing our data to json."
   ]
  },
  {
   "cell_type": "code",
   "execution_count": 11,
   "metadata": {},
   "outputs": [],
   "source": [
    "from sagemaker.predictor import RealTimePredictor, json_serializer, json_deserializer\n",
    "\n",
    "class JSONPredictor(RealTimePredictor):\n",
    "    def __init__(self, endpoint_name, sagemaker_session):\n",
    "        super(JSONPredictor, self).__init__(endpoint_name, sagemaker_session, json_serializer, json_deserializer)"
   ]
  },
  {
   "cell_type": "markdown",
   "metadata": {},
   "source": [
    "### Infer code\n",
    "First we will load our model using `model_fn`. Then using the loaded model, we implement `predict_fn`. The `input_fn` and `output_fn` will handle the input/out data checking and processing. "
   ]
  },
  {
   "cell_type": "code",
   "execution_count": 12,
   "metadata": {},
   "outputs": [
    {
     "output_type": "stream",
     "name": "stdout",
     "text": "\u001b[34mimport\u001b[39;49;00m \u001b[04m\u001b[36mjson\u001b[39;49;00m\n\u001b[34mimport\u001b[39;49;00m \u001b[04m\u001b[36mlogging\u001b[39;49;00m\n\u001b[34mimport\u001b[39;49;00m \u001b[04m\u001b[36mos\u001b[39;49;00m\n\n\u001b[34mimport\u001b[39;49;00m \u001b[04m\u001b[36mtorch\u001b[39;49;00m\n\n\u001b[34mfrom\u001b[39;49;00m \u001b[04m\u001b[36mtransformers\u001b[39;49;00m \u001b[34mimport\u001b[39;49;00m pipeline\n\n\nJSON_CONTENT_TYPE = \u001b[33m'\u001b[39;49;00m\u001b[33mapplication/json\u001b[39;49;00m\u001b[33m'\u001b[39;49;00m\n\nlogger = logging.getLogger(\u001b[31m__name__\u001b[39;49;00m)\n\n\n\u001b[34mdef\u001b[39;49;00m \u001b[32mmodel_fn\u001b[39;49;00m(model_dir):\n    logger.info(\u001b[33m'\u001b[39;49;00m\u001b[33mLoading the model.\u001b[39;49;00m\u001b[33m'\u001b[39;49;00m)\n\n    fill_mask = pipeline(\n        \u001b[33m\"\u001b[39;49;00m\u001b[33mfill-mask\u001b[39;49;00m\u001b[33m\"\u001b[39;49;00m,\n        model=model_dir,\n        tokenizer=model_dir,\n    )\n    \u001b[34mreturn\u001b[39;49;00m fill_mask\n\n\n\u001b[34mdef\u001b[39;49;00m \u001b[32minput_fn\u001b[39;49;00m(serialized_input_data, content_type=JSON_CONTENT_TYPE):\n    logger.info(\u001b[33m'\u001b[39;49;00m\u001b[33mDeserializing the input data.\u001b[39;49;00m\u001b[33m'\u001b[39;49;00m)\n    \u001b[34mif\u001b[39;49;00m content_type == JSON_CONTENT_TYPE:\n        input_data = json.loads(serialized_input_data)\n        \u001b[34mif\u001b[39;49;00m \u001b[33m'\u001b[39;49;00m\u001b[33mtext\u001b[39;49;00m\u001b[33m'\u001b[39;49;00m \u001b[35mnot\u001b[39;49;00m \u001b[35min\u001b[39;49;00m input_data:\n            \u001b[34mraise\u001b[39;49;00m \u001b[36mException\u001b[39;49;00m(\u001b[33m'\u001b[39;49;00m\u001b[33m\\'\u001b[39;49;00m\u001b[33mtext\u001b[39;49;00m\u001b[33m\\'\u001b[39;49;00m\u001b[33m has to be set.\u001b[39;49;00m\u001b[33m'\u001b[39;49;00m)\n        \u001b[34mreturn\u001b[39;49;00m input_data\n    \u001b[34mraise\u001b[39;49;00m \u001b[36mException\u001b[39;49;00m(\u001b[33m'\u001b[39;49;00m\u001b[33mRequested unsupported ContentType in content_type: \u001b[39;49;00m\u001b[33m'\u001b[39;49;00m + content_type)\n\n\n\u001b[34mdef\u001b[39;49;00m \u001b[32moutput_fn\u001b[39;49;00m(prediction_output, accept=JSON_CONTENT_TYPE):\n    logger.info(\u001b[33m'\u001b[39;49;00m\u001b[33mSerializing the generated output.\u001b[39;49;00m\u001b[33m'\u001b[39;49;00m)\n    \u001b[34mif\u001b[39;49;00m accept == JSON_CONTENT_TYPE:\n        \u001b[34mreturn\u001b[39;49;00m json.dumps(prediction_output), accept\n    \u001b[34mraise\u001b[39;49;00m \u001b[36mException\u001b[39;49;00m(\u001b[33m'\u001b[39;49;00m\u001b[33mRequested unsupported ContentType in Accept: \u001b[39;49;00m\u001b[33m'\u001b[39;49;00m + accept)\n\n\n\u001b[34mdef\u001b[39;49;00m \u001b[32mpredict_fn\u001b[39;49;00m(input_data, model):\n    logger.info(\u001b[33m'\u001b[39;49;00m\u001b[33mGenerating text based on input parameters.\u001b[39;49;00m\u001b[33m'\u001b[39;49;00m)\n    \u001b[34mreturn\u001b[39;49;00m model(input_data[\u001b[33m'\u001b[39;49;00m\u001b[33mtext\u001b[39;49;00m\u001b[33m'\u001b[39;49;00m])\n\n\u001b[37m# For testing, make sure you run the infer.py and store the model outputs to S3\u001b[39;49;00m\n\u001b[34mif\u001b[39;49;00m \u001b[31m__name__\u001b[39;49;00m == \u001b[33m'\u001b[39;49;00m\u001b[33m__main__\u001b[39;49;00m\u001b[33m'\u001b[39;49;00m:\n    model_dir=\u001b[33m\"\u001b[39;49;00m\u001b[33m./.model\u001b[39;49;00m\u001b[33m\"\u001b[39;49;00m\n\n    \u001b[37m# Please run train and zip and store the model directory to S3\u001b[39;49;00m\n    \u001b[34mimport\u001b[39;49;00m \u001b[04m\u001b[36mboto3\u001b[39;49;00m\n    s3 = boto3.client(\u001b[33m'\u001b[39;49;00m\u001b[33ms3\u001b[39;49;00m\u001b[33m'\u001b[39;49;00m)\n    s3.download_file(\u001b[33m'\u001b[39;49;00m\u001b[33msagemaker-us-west-2-294038372338\u001b[39;49;00m\u001b[33m'\u001b[39;49;00m, \n    \u001b[33m'\u001b[39;49;00m\u001b[33mpytorch-training-2020-06-11-00-45-34-666/output/model.tar.gz\u001b[39;49;00m\u001b[33m'\u001b[39;49;00m, \u001b[33m'\u001b[39;49;00m\u001b[33mmodel.tar.gz\u001b[39;49;00m\u001b[33m'\u001b[39;49;00m)\n\n    \u001b[34mimport\u001b[39;49;00m \u001b[04m\u001b[36mtarfile\u001b[39;49;00m\n    tar = tarfile.open(\u001b[33m\"\u001b[39;49;00m\u001b[33mmodel.tar.gz\u001b[39;49;00m\u001b[33m\"\u001b[39;49;00m)\n    tar.extractall(model_dir)\n    tar.close()\n\n    \u001b[36minput\u001b[39;49;00m = {\u001b[33m'\u001b[39;49;00m\u001b[33mtext\u001b[39;49;00m\u001b[33m'\u001b[39;49;00m: \u001b[33m\"\u001b[39;49;00m\u001b[33mShall we <mask>.\u001b[39;49;00m\u001b[33m\"\u001b[39;49;00m}\n    model = model_fn(model_dir)\n    \u001b[36mprint\u001b[39;49;00m(predict_fn(\u001b[36minput\u001b[39;49;00m, model))\n"
    }
   ],
   "source": [
    "!pygmentize code/infer.py"
   ]
  },
  {
   "cell_type": "markdown",
   "metadata": {},
   "source": [
    "### Config Serving Contaner\n",
    "Create a container using the stored model (in S3). Specify the infer code and source directory.\n"
   ]
  },
  {
   "cell_type": "code",
   "execution_count": 13,
   "metadata": {},
   "outputs": [
    {
     "output_type": "stream",
     "name": "stderr",
     "text": "WARNING:sagemaker:Parameter image will be renamed to image_uri in SageMaker Python SDK v2.\n"
    }
   ],
   "source": [
    "from sagemaker.pytorch import PyTorchModel\n",
    "\n",
    "training_job_name = estimator.latest_training_job.name\n",
    "desc = sagemaker_session.sagemaker_client.describe_training_job(TrainingJobName=training_job_name)\n",
    "trained_model_location = desc['ModelArtifacts']['S3ModelArtifacts']\n",
    "\n",
    "model = PyTorchModel(model_data=trained_model_location,\n",
    "                     role=role,\n",
    "                     framework_version='1.5.0',\n",
    "                     entry_point='infer.py',\n",
    "                     source_dir='code',\n",
    "                     predictor_cls=JSONPredictor)"
   ]
  },
  {
   "cell_type": "markdown",
   "metadata": {},
   "source": [
    "### Deploy!\n",
    "Finally, it's ready to deploy. Let's fire it! The endpoint address will be used to connect to the server."
   ]
  },
  {
   "cell_type": "code",
   "execution_count": 14,
   "metadata": {},
   "outputs": [
    {
     "output_type": "stream",
     "name": "stderr",
     "text": "WARNING:sagemaker:'create_image_uri' will be deprecated in favor of 'ImageURIProvider' class in SageMaker Python SDK v2.\n---------------!pytorch-inference-2020-06-11-02-22-03-485\n"
    }
   ],
   "source": [
    "predictor = model.deploy(initial_instance_count=1, instance_type='ml.m4.xlarge')\n",
    "\n",
    "# Get the end point\n",
    "endpoint = predictor.endpoint\n",
    "print(endpoint)"
   ]
  },
  {
   "cell_type": "markdown",
   "metadata": {},
   "source": [
    "## Testing\n",
    "Finally we can test the endpoint. First, we will just reuse the predictor for a quick test."
   ]
  },
  {
   "cell_type": "code",
   "execution_count": 15,
   "metadata": {},
   "outputs": [
    {
     "output_type": "stream",
     "name": "stdout",
     "text": "[{'sequence': '<s> We are,.</s>', 'score': 0.061813835054636, 'token': 16}, {'sequence': '<s> We are the.</s>', 'score': 0.02348240092396736, 'token': 1682}, {'sequence': '<s> We are I.</s>', 'score': 0.01902938261628151, 'token': 413}, {'sequence': '<s> We are to.</s>', 'score': 0.013471029698848724, 'token': 1211}, {'sequence': '<s> We are a.</s>', 'score': 0.013361896388232708, 'token': 278}]\n"
    }
   ],
   "source": [
    "input = {\n",
    "    'text': \"We are <mask>.\"\n",
    "}\n",
    "response = predictor.predict(input)\n",
    "print(response)"
   ]
  },
  {
   "cell_type": "markdown",
   "metadata": {},
   "source": [
    "### Remote\n",
    "This example shows how to connect to the endpoint remotely."
   ]
  },
  {
   "cell_type": "code",
   "execution_count": 16,
   "metadata": {},
   "outputs": [
    {
     "output_type": "stream",
     "name": "stdout",
     "text": "b'[{\"sequence\": \"<s> we are,.</s>\", \"score\": 0.060730352997779846, \"token\": 16}, {\"sequence\": \"<s> we are the.</s>\", \"score\": 0.023240746930241585, \"token\": 1682}, {\"sequence\": \"<s> we are I.</s>\", \"score\": 0.019465802237391472, \"token\": 413}, {\"sequence\": \"<s> we are to.</s>\", \"score\": 0.013306406326591969, \"token\": 1211}, {\"sequence\": \"<s> we are a.</s>\", \"score\": 0.013236642815172672, \"token\": 278}]'\n"
    }
   ],
   "source": [
    "import boto3\n",
    "import json\n",
    "\n",
    "client = boto3.client('sagemaker-runtime')\n",
    "\n",
    "input = {\n",
    "    'text': \"we are <mask>.\"\n",
    "}\n",
    "payload = json.dumps(input)\n",
    "\n",
    "response = client.invoke_endpoint(\n",
    "    EndpointName=endpoint, \n",
    "    ContentType=\"application/json\",\n",
    "    Accept=\"application/json\" ,\n",
    "    Body=payload\n",
    ")\n",
    "\n",
    "print(response['Body'].read())  "
   ]
  },
  {
   "cell_type": "markdown",
   "metadata": {},
   "source": [
    "## Shutdown\n",
    "After finishing, delete the endpoint."
   ]
  },
  {
   "cell_type": "code",
   "execution_count": 17,
   "metadata": {},
   "outputs": [],
   "source": [
    "sagemaker_session.delete_endpoint(predictor.endpoint)"
   ]
  },
  {
   "cell_type": "code",
   "execution_count": null,
   "metadata": {},
   "outputs": [],
   "source": []
  }
 ],
 "metadata": {
  "language_info": {
   "codemirror_mode": {
    "name": "ipython",
    "version": 3
   },
   "file_extension": ".py",
   "mimetype": "text/x-python",
   "name": "python",
   "nbconvert_exporter": "python",
   "pygments_lexer": "ipython3",
   "version": "3.7.3-final"
  },
  "orig_nbformat": 2,
  "kernelspec": {
   "name": "python37364bitvenvvenvfbc6d215d2384daca7c44542d667cdba",
   "display_name": "Python 3.7.3 64-bit ('.venv': venv)"
  }
 },
 "nbformat": 4,
 "nbformat_minor": 2
}