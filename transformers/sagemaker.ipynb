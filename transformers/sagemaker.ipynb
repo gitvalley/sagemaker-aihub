{
 "cells": [
  {
   "cell_type": "code",
   "execution_count": 1,
   "metadata": {},
   "outputs": [
    {
     "output_type": "stream",
     "name": "stdout",
     "text": "\u001b[33mYou are using pip version 19.0.3, however version 20.2b1 is available.\nYou should consider upgrading via the 'pip install --upgrade pip' command.\u001b[0m\n\u001b[33mYou are using pip version 19.0.3, however version 20.2b1 is available.\nYou should consider upgrading via the 'pip install --upgrade pip' command.\u001b[0m\nsagemaker           1.60.2    \ntokenizers          0.7.0     \ntransformers        2.11.0    \n\u001b[33mYou are using pip version 19.0.3, however version 20.2b1 is available.\nYou should consider upgrading via the 'pip install --upgrade pip' command.\u001b[0m\n"
    }
   ],
   "source": [
    "!pip install -q sagemaker sagemaker[local]\n",
    "\n",
    "# Install `transformers` from master\n",
    "!pip install -q git+https://github.com/huggingface/transformers\n",
    "!pip list | grep -E 'transformers|tokenizers|sagemaker'"
   ]
  },
  {
   "cell_type": "code",
   "execution_count": 2,
   "metadata": {},
   "outputs": [
    {
     "output_type": "stream",
     "name": "stderr",
     "text": "WARNING:root:pandas failed to import. Analytics features will be impaired or broken.\nWARNING:sagemaker:Couldn't call 'get_role' to get Role ARN from role name airesearch to get Role path.\narn:aws:iam::294038372338:role/hunkimSagemaker\n"
    }
   ],
   "source": [
    "import sagemaker\n",
    "import boto3\n",
    "\n",
    "sagemaker_session = sagemaker.Session()\n",
    "\n",
    "bucket = sagemaker_session.default_bucket()\n",
    "prefix = 'sagemaker/hunkim-transformer'\n",
    "\n",
    "try:\n",
    "    role = sagemaker.get_execution_role()\n",
    "except ValueError:\n",
    "    iam = boto3.client('iam')\n",
    "    role = iam.get_role(RoleName='hunkimSagemaker')['Role']['Arn']\n",
    "    \n",
    "print(role)"
   ]
  },
  {
   "cell_type": "code",
   "execution_count": 3,
   "metadata": {},
   "outputs": [
    {
     "output_type": "stream",
     "name": "stdout",
     "text": "--2020-06-10 20:01:15--  https://cdn-datasets.huggingface.co/EsperBERTo/data/oscar.eo.txt\nResolving cdn-datasets.huggingface.co (cdn-datasets.huggingface.co)...52.85.193.210, 52.85.193.66, 52.85.193.97, ...\nConnecting to cdn-datasets.huggingface.co (cdn-datasets.huggingface.co)|52.85.193.210|:443... connected.\nHTTP request sent, awaiting response...200 OK\nLength: 312733741 (298M) [text/plain]\nSaving to: ‘EsperBERTo/oscar.eo.txt’\n\nEsperBERTo/oscar.eo 100%[===================>] 298.25M  60.5MB/s    in 5.1s    \n\n2020-06-10 20:01:22 (58.8 MB/s) - ‘EsperBERTo/oscar.eo.txt’ saved [312733741/312733741]\n\n"
    }
   ],
   "source": [
    "# in this notebook we'll only get one of the files (the Oscar one) for the sake of simplicity and performance\n",
    "!mkdir EsperBERTo\n",
    "\n",
    "!wget -O EsperBERTo/oscar.eo.txt -c https://cdn-datasets.huggingface.co/EsperBERTo/data/oscar.eo.txt \n"
   ]
  },
  {
   "cell_type": "code",
   "execution_count": 4,
   "metadata": {},
   "outputs": [
    {
     "output_type": "stream",
     "name": "stderr",
     "text": "WARNING:sagemaker:'upload_data' method will be deprecated in favor of 'S3Uploader' class (https://sagemaker.readthedocs.io/en/stable/s3.html#sagemaker.s3.S3Uploader) in SageMaker Python SDK v2.\ninput spec (in this case, just an S3 path): s3://sagemaker-us-west-2-294038372338/sagemaker/hunkim-transformer\n"
    }
   ],
   "source": [
    "inputs = sagemaker_session.upload_data(path='EsperBERTo', bucket=bucket, key_prefix=prefix)\n",
    "print('input spec (in this case, just an S3 path): {}'.format(inputs))"
   ]
  },
  {
   "cell_type": "code",
   "execution_count": 16,
   "metadata": {},
   "outputs": [],
   "source": [
    "from sagemaker.pytorch import PyTorch\n",
    "\n",
    "estimator = PyTorch(entry_point='train.py',\n",
    "                    role=role,\n",
    "                    framework_version='1.5.0',\n",
    "                    train_instance_count=1,\n",
    "                    train_instance_type='ml.p3.2xlarge',\n",
    "                    #train_instance_type='local',\n",
    "                    source_dir='code',\n",
    "                    hyperparameters={\n",
    "                        'epochs': 1,\n",
    "                        'tied': True\n",
    "                    })"
   ]
  },
  {
   "cell_type": "code",
   "execution_count": 17,
   "metadata": {
    "tags": [
     "outputPrepend",
     "outputPrepend",
     "outputPrepend",
     "outputPrepend",
     "outputPrepend",
     "outputPrepend",
     "outputPrepend",
     "outputPrepend",
     "outputPrepend",
     "outputPrepend",
     "outputPrepend",
     "outputPrepend",
     "outputPrepend",
     "outputPrepend",
     "outputPrepend",
     "outputPrepend",
     "outputPrepend",
     "outputPrepend",
     "outputPrepend",
     "outputPrepend",
     "outputPrepend",
     "outputPrepend",
     "outputPrepend",
     "outputPrepend",
     "outputPrepend",
     "outputPrepend",
     "outputPrepend",
     "outputPrepend",
     "outputPrepend",
     "outputPrepend",
     "outputPrepend",
     "outputPrepend",
     "outputPrepend",
     "outputPrepend",
     "outputPrepend"
    ]
   },
   "outputs": [
    {
     "output_type": "stream",
     "name": "stderr",
     "text": "ple of Tensors, module_name:roberta.encoder.layer.1.attention.self NoneType\u001b[0m\n\u001b[34m[2020-06-10 12:52:43.504 algo-1:52 WARNING hook.py:870] var is not Tensor or list or tuple of Tensors, module_name:roberta.encoder.layer.1.attention.self NoneType\u001b[0m\n\u001b[34m[2020-06-10 12:52:43.504 algo-1:52 WARNING hook.py:870] var is not Tensor or list or tuple of Tensors, module_name:roberta.encoder.layer.1.attention NoneType\u001b[0m\n\u001b[34m[2020-06-10 12:52:43.505 algo-1:52 WARNING hook.py:870] var is not Tensor or list or tuple of Tensors, module_name:roberta.encoder.layer.1 NoneType\u001b[0m\n\u001b[34m[2020-06-10 12:52:43.505 algo-1:52 WARNING hook.py:870] var is not Tensor or list or tuple of Tensors, module_name:roberta.encoder.layer.1 NoneType\u001b[0m\n\u001b[34m[2020-06-10 12:52:43.505 algo-1:52 WARNING hook.py:870] var is not Tensor or list or tuple of Tensors, module_name:roberta.encoder.layer.1 NoneType\u001b[0m\n\u001b[34m[2020-06-10 12:52:43.506 algo-1:52 WARNING hook.py:870] var is not Tensor or list or tuple of Tensors, module_name:roberta.encoder.layer.2.attention.self NoneType\u001b[0m\n\u001b[34m[2020-06-10 12:52:43.507 algo-1:52 WARNING hook.py:870] var is not Tensor or list or tuple of Tensors, module_name:roberta.encoder.layer.2.attention.self NoneType\u001b[0m\n\u001b[34m[2020-06-10 12:52:43.507 algo-1:52 WARNING hook.py:870] var is not Tensor or list or tuple of Tensors, module_name:roberta.encoder.layer.2.attention.self NoneType\u001b[0m\n\u001b[34m[2020-06-10 12:52:43.507 algo-1:52 WARNING hook.py:870] var is not Tensor or list or tuple of Tensors, module_name:roberta.encoder.layer.2.attention NoneType\u001b[0m\n\u001b[34m[2020-06-10 12:52:43.508 algo-1:52 WARNING hook.py:870] var is not Tensor or list or tuple of Tensors, module_name:roberta.encoder.layer.2 NoneType\u001b[0m\n\u001b[34m[2020-06-10 12:52:43.508 algo-1:52 WARNING hook.py:870] var is not Tensor or list or tuple of Tensors, module_name:roberta.encoder.layer.2 NoneType\u001b[0m\n\u001b[34m[2020-06-10 12:52:43.508 algo-1:52 WARNING hook.py:870] var is not Tensor or list or tuple of Tensors, module_name:roberta.encoder.layer.2 NoneType\u001b[0m\n\u001b[34m[2020-06-10 12:52:43.510 algo-1:52 WARNING hook.py:870] var is not Tensor or list or tuple of Tensors, module_name:roberta.encoder.layer.3.attention.self NoneType\u001b[0m\n\u001b[34m[2020-06-10 12:52:43.510 algo-1:52 WARNING hook.py:870] var is not Tensor or list or tuple of Tensors, module_name:roberta.encoder.layer.3.attention.self NoneType\u001b[0m\n\u001b[34m[2020-06-10 12:52:43.510 algo-1:52 WARNING hook.py:870] var is not Tensor or list or tuple of Tensors, module_name:roberta.encoder.layer.3.attention.self NoneType\u001b[0m\n\u001b[34m[2020-06-10 12:52:43.510 algo-1:52 WARNING hook.py:870] var is not Tensor or list or tuple of Tensors, module_name:roberta.encoder.layer.3.attention NoneType\u001b[0m\n\u001b[34m[2020-06-10 12:52:43.511 algo-1:52 WARNING hook.py:870] var is not Tensor or list or tuple of Tensors, module_name:roberta.encoder.layer.3 NoneType\u001b[0m\n\u001b[34m[2020-06-10 12:52:43.511 algo-1:52 WARNING hook.py:870] var is not Tensor or list or tuple of Tensors, module_name:roberta.encoder.layer.3 NoneType\u001b[0m\n\u001b[34m[2020-06-10 12:52:43.511 algo-1:52 WARNING hook.py:870] var is not Tensor or list or tuple of Tensors, module_name:roberta.encoder.layer.3 NoneType\u001b[0m\n\u001b[34m[2020-06-10 12:52:43.513 algo-1:52 WARNING hook.py:870] var is not Tensor or list or tuple of Tensors, module_name:roberta.encoder.layer.4.attention.self NoneType\u001b[0m\n\u001b[34m[2020-06-10 12:52:43.513 algo-1:52 WARNING hook.py:870] var is not Tensor or list or tuple of Tensors, module_name:roberta.encoder.layer.4.attention.self NoneType\u001b[0m\n\u001b[34m[2020-06-10 12:52:43.513 algo-1:52 WARNING hook.py:870] var is not Tensor or list or tuple of Tensors, module_name:roberta.encoder.layer.4.attention.self NoneType\u001b[0m\n\u001b[34m[2020-06-10 12:52:43.514 algo-1:52 WARNING hook.py:870] var is not Tensor or list or tuple of Tensors, module_name:roberta.encoder.layer.4.attention NoneType\u001b[0m\n\u001b[34m[2020-06-10 12:52:43.515 algo-1:52 WARNING hook.py:870] var is not Tensor or list or tuple of Tensors, module_name:roberta.encoder.layer.4 NoneType\u001b[0m\n\u001b[34m[2020-06-10 12:52:43.515 algo-1:52 WARNING hook.py:870] var is not Tensor or list or tuple of Tensors, module_name:roberta.encoder.layer.4 NoneType\u001b[0m\n\u001b[34m[2020-06-10 12:52:43.515 algo-1:52 WARNING hook.py:870] var is not Tensor or list or tuple of Tensors, module_name:roberta.encoder.layer.4 NoneType\u001b[0m\n\u001b[34m[2020-06-10 12:52:43.516 algo-1:52 WARNING hook.py:870] var is not Tensor or list or tuple of Tensors, module_name:roberta.encoder.layer.5.attention.self NoneType\u001b[0m\n\u001b[34m[2020-06-10 12:52:43.516 algo-1:52 WARNING hook.py:870] var is not Tensor or list or tuple of Tensors, module_name:roberta.encoder.layer.5.attention.self NoneType\u001b[0m\n\u001b[34m[2020-06-10 12:52:43.516 algo-1:52 WARNING hook.py:870] var is not Tensor or list or tuple of Tensors, module_name:roberta.encoder.layer.5.attention.self NoneType\u001b[0m\n\u001b[34m[2020-06-10 12:52:43.517 algo-1:52 WARNING hook.py:870] var is not Tensor or list or tuple of Tensors, module_name:roberta.encoder.layer.5.attention NoneType\u001b[0m\n\u001b[34m[2020-06-10 12:52:43.518 algo-1:52 WARNING hook.py:870] var is not Tensor or list or tuple of Tensors, module_name:roberta.encoder.layer.5 NoneType\u001b[0m\n\u001b[34m[2020-06-10 12:52:43.518 algo-1:52 WARNING hook.py:870] var is not Tensor or list or tuple of Tensors, module_name:roberta.encoder.layer.5 NoneType\u001b[0m\n\u001b[34m[2020-06-10 12:52:43.518 algo-1:52 WARNING hook.py:870] var is not Tensor or list or tuple of Tensors, module_name:roberta.encoder.layer.5 NoneType\u001b[0m\n\u001b[34m{\"loss\": 4.949877369880676, \"learning_rate\": 2.390333596007355e-06, \"epoch\": 0.9521933280798529, \"step\": 14500}\u001b[0m\n\u001b[34m[2020-06-10 12:55:53.886 algo-1:52 WARNING hook.py:870] var is not Tensor or list or tuple of Tensors, module_name:roberta.encoder.layer.0.attention.self NoneType\u001b[0m\n\u001b[34m[2020-06-10 12:55:53.886 algo-1:52 WARNING hook.py:870] var is not Tensor or list or tuple of Tensors, module_name:roberta.encoder.layer.0.attention.self NoneType\u001b[0m\n\u001b[34m[2020-06-10 12:55:53.886 algo-1:52 WARNING hook.py:870] var is not Tensor or list or tuple of Tensors, module_name:roberta.encoder.layer.0.attention.self NoneType\u001b[0m\n\u001b[34m[2020-06-10 12:55:53.887 algo-1:52 WARNING hook.py:870] var is not Tensor or list or tuple of Tensors, module_name:roberta.encoder.layer.0.attention NoneType\u001b[0m\n\u001b[34m[2020-06-10 12:55:53.887 algo-1:52 WARNING hook.py:870] var is not Tensor or list or tuple of Tensors, module_name:roberta.encoder.layer.0 NoneType\u001b[0m\n\u001b[34m[2020-06-10 12:55:53.888 algo-1:52 WARNING hook.py:870] var is not Tensor or list or tuple of Tensors, module_name:roberta.encoder.layer.0 NoneType\u001b[0m\n\u001b[34m[2020-06-10 12:55:53.888 algo-1:52 WARNING hook.py:870] var is not Tensor or list or tuple of Tensors, module_name:roberta.encoder.layer.0 NoneType\u001b[0m\n\u001b[34m[2020-06-10 12:55:53.889 algo-1:52 WARNING hook.py:870] var is not Tensor or list or tuple of Tensors, module_name:roberta.encoder.layer.1.attention.self NoneType\u001b[0m\n\u001b[34m[2020-06-10 12:55:53.889 algo-1:52 WARNING hook.py:870] var is not Tensor or list or tuple of Tensors, module_name:roberta.encoder.layer.1.attention.self NoneType\u001b[0m\n\u001b[34m[2020-06-10 12:55:53.889 algo-1:52 WARNING hook.py:870] var is not Tensor or list or tuple of Tensors, module_name:roberta.encoder.layer.1.attention.self NoneType\u001b[0m\n\u001b[34m[2020-06-10 12:55:53.890 algo-1:52 WARNING hook.py:870] var is not Tensor or list or tuple of Tensors, module_name:roberta.encoder.layer.1.attention NoneType\u001b[0m\n\u001b[34m[2020-06-10 12:55:53.890 algo-1:52 WARNING hook.py:870] var is not Tensor or list or tuple of Tensors, module_name:roberta.encoder.layer.1 NoneType\u001b[0m\n\u001b[34m[2020-06-10 12:55:53.890 algo-1:52 WARNING hook.py:870] var is not Tensor or list or tuple of Tensors, module_name:roberta.encoder.layer.1 NoneType\u001b[0m\n\u001b[34m[2020-06-10 12:55:53.890 algo-1:52 WARNING hook.py:870] var is not Tensor or list or tuple of Tensors, module_name:roberta.encoder.layer.1 NoneType\u001b[0m\n\u001b[34m[2020-06-10 12:55:53.892 algo-1:52 WARNING hook.py:870] var is not Tensor or list or tuple of Tensors, module_name:roberta.encoder.layer.2.attention.self NoneType\u001b[0m\n\u001b[34m[2020-06-10 12:55:53.892 algo-1:52 WARNING hook.py:870] var is not Tensor or list or tuple of Tensors, module_name:roberta.encoder.layer.2.attention.self NoneType\u001b[0m\n\u001b[34m[2020-06-10 12:55:53.892 algo-1:52 WARNING hook.py:870] var is not Tensor or list or tuple of Tensors, module_name:roberta.encoder.layer.2.attention.self NoneType\u001b[0m\n\u001b[34m[2020-06-10 12:55:53.892 algo-1:52 WARNING hook.py:870] var is not Tensor or list or tuple of Tensors, module_name:roberta.encoder.layer.2.attention NoneType\u001b[0m\n\u001b[34m[2020-06-10 12:55:53.893 algo-1:52 WARNING hook.py:870] var is not Tensor or list or tuple of Tensors, module_name:roberta.encoder.layer.2 NoneType\u001b[0m\n\u001b[34m[2020-06-10 12:55:53.893 algo-1:52 WARNING hook.py:870] var is not Tensor or list or tuple of Tensors, module_name:roberta.encoder.layer.2 NoneType\u001b[0m\n\u001b[34m[2020-06-10 12:55:53.893 algo-1:52 WARNING hook.py:870] var is not Tensor or list or tuple of Tensors, module_name:roberta.encoder.layer.2 NoneType\u001b[0m\n\u001b[34m[2020-06-10 12:55:53.894 algo-1:52 WARNING hook.py:870] var is not Tensor or list or tuple of Tensors, module_name:roberta.encoder.layer.3.attention.self NoneType\u001b[0m\n\u001b[34m[2020-06-10 12:55:53.895 algo-1:52 WARNING hook.py:870] var is not Tensor or list or tuple of Tensors, module_name:roberta.encoder.layer.3.attention.self NoneType\u001b[0m\n\u001b[34m[2020-06-10 12:55:53.895 algo-1:52 WARNING hook.py:870] var is not Tensor or list or tuple of Tensors, module_name:roberta.encoder.layer.3.attention.self NoneType\u001b[0m\n\u001b[34m[2020-06-10 12:55:53.895 algo-1:52 WARNING hook.py:870] var is not Tensor or list or tuple of Tensors, module_name:roberta.encoder.layer.3.attention NoneType\u001b[0m\n\u001b[34m[2020-06-10 12:55:53.896 algo-1:52 WARNING hook.py:870] var is not Tensor or list or tuple of Tensors, module_name:roberta.encoder.layer.3 NoneType\u001b[0m\n\u001b[34m[2020-06-10 12:55:53.896 algo-1:52 WARNING hook.py:870] var is not Tensor or list or tuple of Tensors, module_name:roberta.encoder.layer.3 NoneType\u001b[0m\n\u001b[34m[2020-06-10 12:55:53.896 algo-1:52 WARNING hook.py:870] var is not Tensor or list or tuple of Tensors, module_name:roberta.encoder.layer.3 NoneType\u001b[0m\n\u001b[34m[2020-06-10 12:55:53.897 algo-1:52 WARNING hook.py:870] var is not Tensor or list or tuple of Tensors, module_name:roberta.encoder.layer.4.attention.self NoneType\u001b[0m\n\u001b[34m[2020-06-10 12:55:53.898 algo-1:52 WARNING hook.py:870] var is not Tensor or list or tuple of Tensors, module_name:roberta.encoder.layer.4.attention.self NoneType\u001b[0m\n\u001b[34m[2020-06-10 12:55:53.898 algo-1:52 WARNING hook.py:870] var is not Tensor or list or tuple of Tensors, module_name:roberta.encoder.layer.4.attention.self NoneType\u001b[0m\n\u001b[34m[2020-06-10 12:55:53.898 algo-1:52 WARNING hook.py:870] var is not Tensor or list or tuple of Tensors, module_name:roberta.encoder.layer.4.attention NoneType\u001b[0m\n\u001b[34m[2020-06-10 12:55:53.899 algo-1:52 WARNING hook.py:870] var is not Tensor or list or tuple of Tensors, module_name:roberta.encoder.layer.4 NoneType\u001b[0m\n\u001b[34m[2020-06-10 12:55:53.899 algo-1:52 WARNING hook.py:870] var is not Tensor or list or tuple of Tensors, module_name:roberta.encoder.layer.4 NoneType\u001b[0m\n\u001b[34m[2020-06-10 12:55:53.899 algo-1:52 WARNING hook.py:870] var is not Tensor or list or tuple of Tensors, module_name:roberta.encoder.layer.4 NoneType\u001b[0m\n\u001b[34m[2020-06-10 12:55:53.900 algo-1:52 WARNING hook.py:870] var is not Tensor or list or tuple of Tensors, module_name:roberta.encoder.layer.5.attention.self NoneType\u001b[0m\n\u001b[34m[2020-06-10 12:55:53.900 algo-1:52 WARNING hook.py:870] var is not Tensor or list or tuple of Tensors, module_name:roberta.encoder.layer.5.attention.self NoneType\u001b[0m\n\u001b[34m[2020-06-10 12:55:53.900 algo-1:52 WARNING hook.py:870] var is not Tensor or list or tuple of Tensors, module_name:roberta.encoder.layer.5.attention.self NoneType\u001b[0m\n\u001b[34m[2020-06-10 12:55:53.901 algo-1:52 WARNING hook.py:870] var is not Tensor or list or tuple of Tensors, module_name:roberta.encoder.layer.5.attention NoneType\u001b[0m\n\u001b[34m[2020-06-10 12:55:53.902 algo-1:52 WARNING hook.py:870] var is not Tensor or list or tuple of Tensors, module_name:roberta.encoder.layer.5 NoneType\u001b[0m\n\u001b[34m[2020-06-10 12:55:53.902 algo-1:52 WARNING hook.py:870] var is not Tensor or list or tuple of Tensors, module_name:roberta.encoder.layer.5 NoneType\u001b[0m\n\u001b[34m[2020-06-10 12:55:53.902 algo-1:52 WARNING hook.py:870] var is not Tensor or list or tuple of Tensors, module_name:roberta.encoder.layer.5 NoneType\u001b[0m\n\u001b[34m{\"loss\": 4.941800224304199, \"learning_rate\": 7.486209613869189e-07, \"epoch\": 0.9850275807722616, \"step\": 15000}\u001b[0m\n\u001b[34m[2020-06-10 12:59:04.302 algo-1:52 WARNING hook.py:870] var is not Tensor or list or tuple of Tensors, module_name:roberta.encoder.layer.0.attention.self NoneType\u001b[0m\n\u001b[34m[2020-06-10 12:59:04.302 algo-1:52 WARNING hook.py:870] var is not Tensor or list or tuple of Tensors, module_name:roberta.encoder.layer.0.attention.self NoneType\u001b[0m\n\u001b[34m[2020-06-10 12:59:04.302 algo-1:52 WARNING hook.py:870] var is not Tensor or list or tuple of Tensors, module_name:roberta.encoder.layer.0.attention.self NoneType\u001b[0m\n\u001b[34m[2020-06-10 12:59:04.303 algo-1:52 WARNING hook.py:870] var is not Tensor or list or tuple of Tensors, module_name:roberta.encoder.layer.0.attention NoneType\u001b[0m\n\u001b[34m[2020-06-10 12:59:04.304 algo-1:52 WARNING hook.py:870] var is not Tensor or list or tuple of Tensors, module_name:roberta.encoder.layer.0 NoneType\u001b[0m\n\u001b[34m[2020-06-10 12:59:04.304 algo-1:52 WARNING hook.py:870] var is not Tensor or list or tuple of Tensors, module_name:roberta.encoder.layer.0 NoneType\u001b[0m\n\u001b[34m[2020-06-10 12:59:04.304 algo-1:52 WARNING hook.py:870] var is not Tensor or list or tuple of Tensors, module_name:roberta.encoder.layer.0 NoneType\u001b[0m\n\u001b[34m[2020-06-10 12:59:04.306 algo-1:52 WARNING hook.py:870] var is not Tensor or list or tuple of Tensors, module_name:roberta.encoder.layer.1.attention.self NoneType\u001b[0m\n\u001b[34m[2020-06-10 12:59:04.306 algo-1:52 WARNING hook.py:870] var is not Tensor or list or tuple of Tensors, module_name:roberta.encoder.layer.1.attention.self NoneType\u001b[0m\n\u001b[34m[2020-06-10 12:59:04.306 algo-1:52 WARNING hook.py:870] var is not Tensor or list or tuple of Tensors, module_name:roberta.encoder.layer.1.attention.self NoneType\u001b[0m\n\u001b[34m[2020-06-10 12:59:04.307 algo-1:52 WARNING hook.py:870] var is not Tensor or list or tuple of Tensors, module_name:roberta.encoder.layer.1.attention NoneType\u001b[0m\n\u001b[34m[2020-06-10 12:59:04.308 algo-1:52 WARNING hook.py:870] var is not Tensor or list or tuple of Tensors, module_name:roberta.encoder.layer.1 NoneType\u001b[0m\n\u001b[34m[2020-06-10 12:59:04.308 algo-1:52 WARNING hook.py:870] var is not Tensor or list or tuple of Tensors, module_name:roberta.encoder.layer.1 NoneType\u001b[0m\n\u001b[34m[2020-06-10 12:59:04.308 algo-1:52 WARNING hook.py:870] var is not Tensor or list or tuple of Tensors, module_name:roberta.encoder.layer.1 NoneType\u001b[0m\n\u001b[34m[2020-06-10 12:59:04.309 algo-1:52 WARNING hook.py:870] var is not Tensor or list or tuple of Tensors, module_name:roberta.encoder.layer.2.attention.self NoneType\u001b[0m\n\u001b[34m[2020-06-10 12:59:04.309 algo-1:52 WARNING hook.py:870] var is not Tensor or list or tuple of Tensors, module_name:roberta.encoder.layer.2.attention.self NoneType\u001b[0m\n\u001b[34m[2020-06-10 12:59:04.309 algo-1:52 WARNING hook.py:870] var is not Tensor or list or tuple of Tensors, module_name:roberta.encoder.layer.2.attention.self NoneType\u001b[0m\n\u001b[34m[2020-06-10 12:59:04.310 algo-1:52 WARNING hook.py:870] var is not Tensor or list or tuple of Tensors, module_name:roberta.encoder.layer.2.attention NoneType\u001b[0m\n\u001b[34m[2020-06-10 12:59:04.311 algo-1:52 WARNING hook.py:870] var is not Tensor or list or tuple of Tensors, module_name:roberta.encoder.layer.2 NoneType\u001b[0m\n\u001b[34m[2020-06-10 12:59:04.311 algo-1:52 WARNING hook.py:870] var is not Tensor or list or tuple of Tensors, module_name:roberta.encoder.layer.2 NoneType\u001b[0m\n\u001b[34m[2020-06-10 12:59:04.311 algo-1:52 WARNING hook.py:870] var is not Tensor or list or tuple of Tensors, module_name:roberta.encoder.layer.2 NoneType\u001b[0m\n\u001b[34m[2020-06-10 12:59:04.313 algo-1:52 WARNING hook.py:870] var is not Tensor or list or tuple of Tensors, module_name:roberta.encoder.layer.3.attention.self NoneType\u001b[0m\n\u001b[34m[2020-06-10 12:59:04.313 algo-1:52 WARNING hook.py:870] var is not Tensor or list or tuple of Tensors, module_name:roberta.encoder.layer.3.attention.self NoneType\u001b[0m\n\u001b[34m[2020-06-10 12:59:04.313 algo-1:52 WARNING hook.py:870] var is not Tensor or list or tuple of Tensors, module_name:roberta.encoder.layer.3.attention.self NoneType\u001b[0m\n\u001b[34m[2020-06-10 12:59:04.313 algo-1:52 WARNING hook.py:870] var is not Tensor or list or tuple of Tensors, module_name:roberta.encoder.layer.3.attention NoneType\u001b[0m\n\u001b[34m[2020-06-10 12:59:04.314 algo-1:52 WARNING hook.py:870] var is not Tensor or list or tuple of Tensors, module_name:roberta.encoder.layer.3 NoneType\u001b[0m\n\u001b[34m[2020-06-10 12:59:04.314 algo-1:52 WARNING hook.py:870] var is not Tensor or list or tuple of Tensors, module_name:roberta.encoder.layer.3 NoneType\u001b[0m\n\u001b[34m[2020-06-10 12:59:04.314 algo-1:52 WARNING hook.py:870] var is not Tensor or list or tuple of Tensors, module_name:roberta.encoder.layer.3 NoneType\u001b[0m\n\u001b[34m[2020-06-10 12:59:04.316 algo-1:52 WARNING hook.py:870] var is not Tensor or list or tuple of Tensors, module_name:roberta.encoder.layer.4.attention.self NoneType\u001b[0m\n\u001b[34m[2020-06-10 12:59:04.316 algo-1:52 WARNING hook.py:870] var is not Tensor or list or tuple of Tensors, module_name:roberta.encoder.layer.4.attention.self NoneType\u001b[0m\n\u001b[34m[2020-06-10 12:59:04.316 algo-1:52 WARNING hook.py:870] var is not Tensor or list or tuple of Tensors, module_name:roberta.encoder.layer.4.attention.self NoneType\u001b[0m\n\u001b[34m[2020-06-10 12:59:04.316 algo-1:52 WARNING hook.py:870] var is not Tensor or list or tuple of Tensors, module_name:roberta.encoder.layer.4.attention NoneType\u001b[0m\n\u001b[34m[2020-06-10 12:59:04.317 algo-1:52 WARNING hook.py:870] var is not Tensor or list or tuple of Tensors, module_name:roberta.encoder.layer.4 NoneType\u001b[0m\n\u001b[34m[2020-06-10 12:59:04.317 algo-1:52 WARNING hook.py:870] var is not Tensor or list or tuple of Tensors, module_name:roberta.encoder.layer.4 NoneType\u001b[0m\n\u001b[34m[2020-06-10 12:59:04.317 algo-1:52 WARNING hook.py:870] var is not Tensor or list or tuple of Tensors, module_name:roberta.encoder.layer.4 NoneType\u001b[0m\n\u001b[34m[2020-06-10 12:59:04.319 algo-1:52 WARNING hook.py:870] var is not Tensor or list or tuple of Tensors, module_name:roberta.encoder.layer.5.attention.self NoneType\u001b[0m\n\u001b[34m[2020-06-10 12:59:04.319 algo-1:52 WARNING hook.py:870] var is not Tensor or list or tuple of Tensors, module_name:roberta.encoder.layer.5.attention.self NoneType\u001b[0m\n\u001b[34m[2020-06-10 12:59:04.319 algo-1:52 WARNING hook.py:870] var is not Tensor or list or tuple of Tensors, module_name:roberta.encoder.layer.5.attention.self NoneType\u001b[0m\n\u001b[34m[2020-06-10 12:59:04.319 algo-1:52 WARNING hook.py:870] var is not Tensor or list or tuple of Tensors, module_name:roberta.encoder.layer.5.attention NoneType\u001b[0m\n\u001b[34m[2020-06-10 12:59:04.320 algo-1:52 WARNING hook.py:870] var is not Tensor or list or tuple of Tensors, module_name:roberta.encoder.layer.5 NoneType\u001b[0m\n\u001b[34m[2020-06-10 12:59:04.320 algo-1:52 WARNING hook.py:870] var is not Tensor or list or tuple of Tensors, module_name:roberta.encoder.layer.5 NoneType\u001b[0m\n\u001b[34m[2020-06-10 12:59:04.320 algo-1:52 WARNING hook.py:870] var is not Tensor or list or tuple of Tensors, module_name:roberta.encoder.layer.5 NoneType\u001b[0m\n\u001b[34m[2020-06-10 13:00:31.353 algo-1:52 INFO utils.py:25] The end of training job file will not be written for jobs running under SageMaker.\u001b[0m\n\u001b[34m2020-06-10 13:00:35,468 sagemaker-containers INFO     Reporting training SUCCESS\u001b[0m\n\n2020-06-10 13:00:40 Uploading - Uploading generated training model\n2020-06-10 13:03:43 Completed - Training job completed\nTraining seconds: 6355\nBillable seconds: 6355\n"
    }
   ],
   "source": [
    "%%time\n",
    "estimator.fit({'training': inputs})"
   ]
  },
  {
   "cell_type": "code",
   "execution_count": 19,
   "metadata": {},
   "outputs": [
    {
     "output_type": "stream",
     "name": "stdout",
     "text": "s3://sagemaker-us-west-2-294038372338/pytorch-training-2020-06-10-11-15-27-506/output/model.tar.gz\n"
    }
   ],
   "source": [
    "training_job_name = estimator.latest_training_job.name\n",
    "desc = sagemaker_session.sagemaker_client.describe_training_job(TrainingJobName=training_job_name)\n",
    "trained_model_location = desc['ModelArtifacts']['S3ModelArtifacts']\n",
    "print(trained_model_location)\n",
    "# s3://sagemaker-us-west-2-294038372338/pytorch-training-2020-06-10-11-15-27-506/output/model.tar.gz"
   ]
  },
  {
   "cell_type": "code",
   "execution_count": 20,
   "metadata": {},
   "outputs": [],
   "source": [
    "from sagemaker.predictor import RealTimePredictor, json_serializer, json_deserializer\n",
    "\n",
    "class JSONPredictor(RealTimePredictor):\n",
    "    def __init__(self, endpoint_name, sagemaker_session):\n",
    "        super(JSONPredictor, self).__init__(endpoint_name, sagemaker_session, json_serializer, json_deserializer)"
   ]
  },
  {
   "cell_type": "code",
   "execution_count": 29,
   "metadata": {},
   "outputs": [
    {
     "output_type": "stream",
     "name": "stderr",
     "text": "WARNING:sagemaker:Parameter image will be renamed to image_uri in SageMaker Python SDK v2.\n"
    }
   ],
   "source": [
    "from sagemaker.pytorch import PyTorchModel\n",
    "\n",
    "training_job_name = estimator.latest_training_job.name\n",
    "desc = sagemaker_session.sagemaker_client.describe_training_job(TrainingJobName=training_job_name)\n",
    "trained_model_location = desc['ModelArtifacts']['S3ModelArtifacts']\n",
    "\n",
    "model = PyTorchModel(model_data=trained_model_location,\n",
    "                     role=role,\n",
    "                     framework_version='1.5.0',\n",
    "                     entry_point='infer.py',\n",
    "                     source_dir='code',\n",
    "                     predictor_cls=JSONPredictor)"
   ]
  },
  {
   "cell_type": "code",
   "execution_count": 30,
   "metadata": {},
   "outputs": [
    {
     "output_type": "stream",
     "name": "stderr",
     "text": "WARNING:sagemaker:'create_image_uri' will be deprecated in favor of 'ImageURIProvider' class in SageMaker Python SDK v2.\n----------------!pytorch-inference-2020-06-10-14-03-25-103\n"
    }
   ],
   "source": [
    "predictor = model.deploy(initial_instance_count=1, instance_type='ml.m4.xlarge')\n",
    "\n",
    "# Get the end point\n",
    "endpoint = predictor.endpoint\n",
    "print(endpoint)"
   ]
  },
  {
   "cell_type": "code",
   "execution_count": 57,
   "metadata": {},
   "outputs": [
    {
     "output_type": "error",
     "ename": "TypeError",
     "evalue": "__init__() missing 1 required positional argument: 'sagemaker_session'",
     "traceback": [
      "\u001b[0;31m---------------------------------------------------------------------------\u001b[0m",
      "\u001b[0;31mTypeError\u001b[0m                                 Traceback (most recent call last)",
      "\u001b[0;32m<ipython-input-57-47a20290abc4>\u001b[0m in \u001b[0;36m<module>\u001b[0;34m\u001b[0m\n\u001b[1;32m      3\u001b[0m     \u001b[0;34m'text'\u001b[0m\u001b[0;34m:\u001b[0m \u001b[0;34m\"La suno <mask>.\"\u001b[0m\u001b[0;34m\u001b[0m\u001b[0;34m\u001b[0m\u001b[0m\n\u001b[1;32m      4\u001b[0m }\n\u001b[0;32m----> 5\u001b[0;31m \u001b[0mresponse\u001b[0m \u001b[0;34m=\u001b[0m \u001b[0mpredictor\u001b[0m\u001b[0;34m.\u001b[0m\u001b[0mpredict\u001b[0m\u001b[0;34m(\u001b[0m\u001b[0minput\u001b[0m\u001b[0;34m)\u001b[0m\u001b[0;34m\u001b[0m\u001b[0;34m\u001b[0m\u001b[0m\n\u001b[0m\u001b[1;32m      6\u001b[0m \u001b[0mprint\u001b[0m\u001b[0;34m(\u001b[0m\u001b[0mresponse\u001b[0m\u001b[0;34m)\u001b[0m\u001b[0;34m\u001b[0m\u001b[0;34m\u001b[0m\u001b[0m\n",
      "\u001b[0;32m~/work/sagemaker-aihub/.venv/lib/python3.7/site-packages/sagemaker/predictor.py\u001b[0m in \u001b[0;36mpredict\u001b[0;34m(self, data, initial_args, target_model)\u001b[0m\n\u001b[1;32m    107\u001b[0m         \"\"\"\n\u001b[1;32m    108\u001b[0m \u001b[0;34m\u001b[0m\u001b[0m\n\u001b[0;32m--> 109\u001b[0;31m         \u001b[0mrequest_args\u001b[0m \u001b[0;34m=\u001b[0m \u001b[0mself\u001b[0m\u001b[0;34m.\u001b[0m\u001b[0m_create_request_args\u001b[0m\u001b[0;34m(\u001b[0m\u001b[0mdata\u001b[0m\u001b[0;34m,\u001b[0m \u001b[0minitial_args\u001b[0m\u001b[0;34m,\u001b[0m \u001b[0mtarget_model\u001b[0m\u001b[0;34m)\u001b[0m\u001b[0;34m\u001b[0m\u001b[0;34m\u001b[0m\u001b[0m\n\u001b[0m\u001b[1;32m    110\u001b[0m         \u001b[0mresponse\u001b[0m \u001b[0;34m=\u001b[0m \u001b[0mself\u001b[0m\u001b[0;34m.\u001b[0m\u001b[0msagemaker_session\u001b[0m\u001b[0;34m.\u001b[0m\u001b[0msagemaker_runtime_client\u001b[0m\u001b[0;34m.\u001b[0m\u001b[0minvoke_endpoint\u001b[0m\u001b[0;34m(\u001b[0m\u001b[0;34m**\u001b[0m\u001b[0mrequest_args\u001b[0m\u001b[0;34m)\u001b[0m\u001b[0;34m\u001b[0m\u001b[0;34m\u001b[0m\u001b[0m\n\u001b[1;32m    111\u001b[0m         \u001b[0;32mreturn\u001b[0m \u001b[0mself\u001b[0m\u001b[0;34m.\u001b[0m\u001b[0m_handle_response\u001b[0m\u001b[0;34m(\u001b[0m\u001b[0mresponse\u001b[0m\u001b[0;34m)\u001b[0m\u001b[0;34m\u001b[0m\u001b[0;34m\u001b[0m\u001b[0m\n",
      "\u001b[0;32m~/work/sagemaker-aihub/.venv/lib/python3.7/site-packages/sagemaker/predictor.py\u001b[0m in \u001b[0;36m_create_request_args\u001b[0;34m(self, data, initial_args, target_model)\u001b[0m\n\u001b[1;32m    146\u001b[0m \u001b[0;34m\u001b[0m\u001b[0m\n\u001b[1;32m    147\u001b[0m         \u001b[0;32mif\u001b[0m \u001b[0mself\u001b[0m\u001b[0;34m.\u001b[0m\u001b[0mserializer\u001b[0m \u001b[0;32mis\u001b[0m \u001b[0;32mnot\u001b[0m \u001b[0;32mNone\u001b[0m\u001b[0;34m:\u001b[0m\u001b[0;34m\u001b[0m\u001b[0;34m\u001b[0m\u001b[0m\n\u001b[0;32m--> 148\u001b[0;31m             \u001b[0mdata\u001b[0m \u001b[0;34m=\u001b[0m \u001b[0mself\u001b[0m\u001b[0;34m.\u001b[0m\u001b[0mserializer\u001b[0m\u001b[0;34m(\u001b[0m\u001b[0mdata\u001b[0m\u001b[0;34m)\u001b[0m\u001b[0;34m\u001b[0m\u001b[0;34m\u001b[0m\u001b[0m\n\u001b[0m\u001b[1;32m    149\u001b[0m \u001b[0;34m\u001b[0m\u001b[0m\n\u001b[1;32m    150\u001b[0m         \u001b[0margs\u001b[0m\u001b[0;34m[\u001b[0m\u001b[0;34m\"Body\"\u001b[0m\u001b[0;34m]\u001b[0m \u001b[0;34m=\u001b[0m \u001b[0mdata\u001b[0m\u001b[0;34m\u001b[0m\u001b[0;34m\u001b[0m\u001b[0m\n",
      "\u001b[0;31mTypeError\u001b[0m: __init__() missing 1 required positional argument: 'sagemaker_session'"
     ]
    }
   ],
   "source": [
    "#FIXME: This works, but the predictor using endpoint does not work\n",
    "input = {\n",
    "    'text': \"La suno <mask>.\"\n",
    "}\n",
    "response = predictor.predict(input)\n",
    "print(response)"
   ]
  },
  {
   "cell_type": "code",
   "execution_count": 56,
   "metadata": {},
   "outputs": [
    {
     "output_type": "stream",
     "name": "stdout",
     "text": "b'[{\"sequence\": \"<s> La suno estis.</s>\", \"score\": 0.010310359299182892, \"token\": 394}, {\"sequence\": \"<s> La suno estas.</s>\", \"score\": 0.00764045724645257, \"token\": 316}, {\"sequence\": \"<s> La suno diris.</s>\", \"score\": 0.00608186237514019, \"token\": 963}, {\"sequence\": \"<s> La suno iris.</s>\", \"score\": 0.0037596658803522587, \"token\": 2480}, {\"sequence\": \"<s> La suno,.</s>\", \"score\": 0.003713993588462472, \"token\": 16}]'\n"
    }
   ],
   "source": [
    "import boto3\n",
    "import json\n",
    "\n",
    "client = boto3.client('sagemaker-runtime')\n",
    "\n",
    "input = {\n",
    "    'text': \"La suno <mask>.\"\n",
    "}\n",
    "\n",
    "content_type = \"application/json \"                                     \n",
    "accept = \"application/json\"                                       \n",
    "payload = json.dumps(input)\n",
    "\n",
    "response = client.invoke_endpoint(\n",
    "    EndpointName=endpoint, \n",
    "    ContentType=content_type,\n",
    "    Accept=accept,\n",
    "    Body=payload\n",
    "    )\n",
    "\n",
    "print(response['Body'].read())  "
   ]
  },
  {
   "cell_type": "code",
   "execution_count": 28,
   "metadata": {},
   "outputs": [],
   "source": [
    "sagemaker_session.delete_endpoint(predictor.endpoint)"
   ]
  }
 ],
 "metadata": {
  "language_info": {
   "codemirror_mode": {
    "name": "ipython",
    "version": 3
   },
   "file_extension": ".py",
   "mimetype": "text/x-python",
   "name": "python",
   "nbconvert_exporter": "python",
   "pygments_lexer": "ipython3",
   "version": "3.7.3-final"
  },
  "orig_nbformat": 2,
  "kernelspec": {
   "name": "python37364bitvenvvenvfbc6d215d2384daca7c44542d667cdba",
   "display_name": "Python 3.7.3 64-bit ('.venv': venv)"
  }
 },
 "nbformat": 4,
 "nbformat_minor": 2
}