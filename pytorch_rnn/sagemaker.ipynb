{
 "cells": [
  {
   "cell_type": "code",
   "execution_count": 36,
   "metadata": {},
   "outputs": [
    {
     "output_type": "stream",
     "name": "stdout",
     "text": "\u001b[33mYou are using pip version 19.0.3, however version 20.2b1 is available.\nYou should consider upgrading via the 'pip install --upgrade pip' command.\u001b[0m\n\u001b[33mYou are using pip version 19.0.3, however version 20.2b1 is available.\nYou should consider upgrading via the 'pip install --upgrade pip' command.\u001b[0m\nRequirement already satisfied: sagemaker[local] in /Users/hunkim/work/sagemaker-aihub/.venv/lib/python3.7/site-packages (1.60.2)\nRequirement already satisfied: boto3>=1.13.6 in /Users/hunkim/work/sagemaker-aihub/.venv/lib/python3.7/site-packages (from sagemaker[local]) (1.13.25)\nRequirement already satisfied: numpy>=1.9.0 in /Users/hunkim/work/sagemaker-aihub/.venv/lib/python3.7/site-packages (from sagemaker[local]) (1.18.5)\nRequirement already satisfied: protobuf>=3.1 in /Users/hunkim/work/sagemaker-aihub/.venv/lib/python3.7/site-packages (from sagemaker[local]) (3.12.2)\nRequirement already satisfied: scipy>=0.19.0 in /Users/hunkim/work/sagemaker-aihub/.venv/lib/python3.7/site-packages (from sagemaker[local]) (1.4.1)\nRequirement already satisfied: protobuf3-to-dict>=0.1.5 in /Users/hunkim/work/sagemaker-aihub/.venv/lib/python3.7/site-packages (from sagemaker[local]) (0.1.5)\nRequirement already satisfied: smdebug-rulesconfig==0.1.2 in /Users/hunkim/work/sagemaker-aihub/.venv/lib/python3.7/site-packages (from sagemaker[local]) (0.1.2)\nRequirement already satisfied: importlib-metadata>=1.4.0 in /Users/hunkim/work/sagemaker-aihub/.venv/lib/python3.7/site-packages (from sagemaker[local]) (1.6.1)\nRequirement already satisfied: packaging>=20.0 in /Users/hunkim/work/sagemaker-aihub/.venv/lib/python3.7/site-packages (from sagemaker[local]) (20.4)\nRequirement already satisfied: urllib3!=1.25.0,!=1.25.1,<1.26,>=1.21.1 in /Users/hunkim/work/sagemaker-aihub/.venv/lib/python3.7/site-packages (from sagemaker[local]) (1.25.9)\nRequirement already satisfied: docker-compose>=1.25.2 in /Users/hunkim/work/sagemaker-aihub/.venv/lib/python3.7/site-packages (from sagemaker[local]) (1.26.0)\nRequirement already satisfied: PyYAML<6,>=5.3 in /Users/hunkim/work/sagemaker-aihub/.venv/lib/python3.7/site-packages (from sagemaker[local]) (5.3.1)\nRequirement already satisfied: botocore<1.17.0,>=1.16.25 in /Users/hunkim/work/sagemaker-aihub/.venv/lib/python3.7/site-packages (from boto3>=1.13.6->sagemaker[local]) (1.16.25)\nRequirement already satisfied: jmespath<1.0.0,>=0.7.1 in /Users/hunkim/work/sagemaker-aihub/.venv/lib/python3.7/site-packages (from boto3>=1.13.6->sagemaker[local]) (0.10.0)\nRequirement already satisfied: s3transfer<0.4.0,>=0.3.0 in /Users/hunkim/work/sagemaker-aihub/.venv/lib/python3.7/site-packages (from boto3>=1.13.6->sagemaker[local]) (0.3.3)\nRequirement already satisfied: six>=1.9 in /Users/hunkim/work/sagemaker-aihub/.venv/lib/python3.7/site-packages (from protobuf>=3.1->sagemaker[local]) (1.15.0)\nRequirement already satisfied: setuptools in /Users/hunkim/work/sagemaker-aihub/.venv/lib/python3.7/site-packages (from protobuf>=3.1->sagemaker[local]) (40.8.0)\nRequirement already satisfied: zipp>=0.5 in /Users/hunkim/work/sagemaker-aihub/.venv/lib/python3.7/site-packages (from importlib-metadata>=1.4.0->sagemaker[local]) (3.1.0)\nRequirement already satisfied: pyparsing>=2.0.2 in /Users/hunkim/work/sagemaker-aihub/.venv/lib/python3.7/site-packages (from packaging>=20.0->sagemaker[local]) (2.4.7)\nRequirement already satisfied: jsonschema<4,>=2.5.1 in /Users/hunkim/work/sagemaker-aihub/.venv/lib/python3.7/site-packages (from docker-compose>=1.25.2->sagemaker[local]) (3.2.0)\nRequirement already satisfied: texttable<2,>=0.9.0 in /Users/hunkim/work/sagemaker-aihub/.venv/lib/python3.7/site-packages (from docker-compose>=1.25.2->sagemaker[local]) (1.6.2)\nRequirement already satisfied: requests<3,>=2.20.0 in /Users/hunkim/work/sagemaker-aihub/.venv/lib/python3.7/site-packages (from docker-compose>=1.25.2->sagemaker[local]) (2.23.0)\nRequirement already satisfied: dockerpty<1,>=0.4.1 in /Users/hunkim/work/sagemaker-aihub/.venv/lib/python3.7/site-packages (from docker-compose>=1.25.2->sagemaker[local]) (0.4.1)\nRequirement already satisfied: python-dotenv<1,>=0.13.0 in /Users/hunkim/work/sagemaker-aihub/.venv/lib/python3.7/site-packages (from docker-compose>=1.25.2->sagemaker[local]) (0.13.0)\nRequirement already satisfied: websocket-client<1,>=0.32.0 in /Users/hunkim/work/sagemaker-aihub/.venv/lib/python3.7/site-packages (from docker-compose>=1.25.2->sagemaker[local]) (0.57.0)\nRequirement already satisfied: docopt<1,>=0.6.1 in /Users/hunkim/work/sagemaker-aihub/.venv/lib/python3.7/site-packages (from docker-compose>=1.25.2->sagemaker[local]) (0.6.2)\nRequirement already satisfied: cached-property<2,>=1.2.0 in /Users/hunkim/work/sagemaker-aihub/.venv/lib/python3.7/site-packages (from docker-compose>=1.25.2->sagemaker[local]) (1.5.1)\nRequirement already satisfied: docker[ssh]<5,>=3.7.0 in /Users/hunkim/work/sagemaker-aihub/.venv/lib/python3.7/site-packages (from docker-compose>=1.25.2->sagemaker[local]) (4.2.1)\nRequirement already satisfied: distro<2,>=1.5.0 in /Users/hunkim/work/sagemaker-aihub/.venv/lib/python3.7/site-packages (from docker-compose>=1.25.2->sagemaker[local]) (1.5.0)\nRequirement already satisfied: python-dateutil<3.0.0,>=2.1 in /Users/hunkim/work/sagemaker-aihub/.venv/lib/python3.7/site-packages (from botocore<1.17.0,>=1.16.25->boto3>=1.13.6->sagemaker[local]) (2.8.1)\nRequirement already satisfied: docutils<0.16,>=0.10 in /Users/hunkim/work/sagemaker-aihub/.venv/lib/python3.7/site-packages (from botocore<1.17.0,>=1.16.25->boto3>=1.13.6->sagemaker[local]) (0.15.2)\nRequirement already satisfied: pyrsistent>=0.14.0 in /Users/hunkim/work/sagemaker-aihub/.venv/lib/python3.7/site-packages (from jsonschema<4,>=2.5.1->docker-compose>=1.25.2->sagemaker[local]) (0.16.0)\nRequirement already satisfied: attrs>=17.4.0 in /Users/hunkim/work/sagemaker-aihub/.venv/lib/python3.7/site-packages (from jsonschema<4,>=2.5.1->docker-compose>=1.25.2->sagemaker[local]) (19.3.0)\nRequirement already satisfied: certifi>=2017.4.17 in /Users/hunkim/work/sagemaker-aihub/.venv/lib/python3.7/site-packages (from requests<3,>=2.20.0->docker-compose>=1.25.2->sagemaker[local]) (2020.4.5.2)\nRequirement already satisfied: idna<3,>=2.5 in /Users/hunkim/work/sagemaker-aihub/.venv/lib/python3.7/site-packages (from requests<3,>=2.20.0->docker-compose>=1.25.2->sagemaker[local]) (2.9)\nRequirement already satisfied: chardet<4,>=3.0.2 in /Users/hunkim/work/sagemaker-aihub/.venv/lib/python3.7/site-packages (from requests<3,>=2.20.0->docker-compose>=1.25.2->sagemaker[local]) (3.0.4)\nRequirement already satisfied: paramiko>=2.4.2; extra == \"ssh\" in /Users/hunkim/work/sagemaker-aihub/.venv/lib/python3.7/site-packages (from docker[ssh]<5,>=3.7.0->docker-compose>=1.25.2->sagemaker[local]) (2.7.1)\nRequirement already satisfied: cryptography>=2.5 in /Users/hunkim/work/sagemaker-aihub/.venv/lib/python3.7/site-packages (from paramiko>=2.4.2; extra == \"ssh\"->docker[ssh]<5,>=3.7.0->docker-compose>=1.25.2->sagemaker[local]) (2.9.2)\nRequirement already satisfied: bcrypt>=3.1.3 in /Users/hunkim/work/sagemaker-aihub/.venv/lib/python3.7/site-packages (from paramiko>=2.4.2; extra == \"ssh\"->docker[ssh]<5,>=3.7.0->docker-compose>=1.25.2->sagemaker[local]) (3.1.7)\nRequirement already satisfied: pynacl>=1.0.1 in /Users/hunkim/work/sagemaker-aihub/.venv/lib/python3.7/site-packages (from paramiko>=2.4.2; extra == \"ssh\"->docker[ssh]<5,>=3.7.0->docker-compose>=1.25.2->sagemaker[local]) (1.4.0)\nRequirement already satisfied: cffi!=1.11.3,>=1.8 in /Users/hunkim/work/sagemaker-aihub/.venv/lib/python3.7/site-packages (from cryptography>=2.5->paramiko>=2.4.2; extra == \"ssh\"->docker[ssh]<5,>=3.7.0->docker-compose>=1.25.2->sagemaker[local]) (1.14.0)\nRequirement already satisfied: pycparser in /Users/hunkim/work/sagemaker-aihub/.venv/lib/python3.7/site-packages (from cffi!=1.11.3,>=1.8->cryptography>=2.5->paramiko>=2.4.2; extra == \"ssh\"->docker[ssh]<5,>=3.7.0->docker-compose>=1.25.2->sagemaker[local]) (2.20)\n\u001b[33mYou are using pip version 19.0.3, however version 20.2b1 is available.\nYou should consider upgrading via the 'pip install --upgrade pip' command.\u001b[0m\n"
    }
   ],
   "source": [
    "!pip -q install sagemaker\n",
    "!pip -q install ipywidgets\n",
    "!pip install sagemaker[local]\n"
   ]
  },
  {
   "cell_type": "code",
   "execution_count": 20,
   "metadata": {},
   "outputs": [
    {
     "output_type": "display_data",
     "data": {
      "text/plain": "Checkbox(value=False, description='Local?')",
      "application/vnd.jupyter.widget-view+json": {
       "version_major": 2,
       "version_minor": 0,
       "model_id": "57f977f7e1ee4871ad8f0b6dd88e76d0"
      }
     },
     "metadata": {}
    }
   ],
   "source": [
    "from IPython.display import display\n",
    "from ipywidgets import Checkbox\n",
    "\n",
    "box = Checkbox(False, description='Local?')\n",
    "display(box)\n",
    "\n",
    "def changed(b):\n",
    "    print(b)\n",
    "\n",
    "box.observe(changed)"
   ]
  },
  {
   "cell_type": "code",
   "execution_count": 2,
   "metadata": {},
   "outputs": [
    {
     "output_type": "stream",
     "name": "stderr",
     "text": "WARNING:sagemaker:Couldn't call 'get_role' to get Role ARN from role name airesearch to get Role path.\narn:aws:iam::294038372338:role/hunkimSagemaker\n"
    }
   ],
   "source": [
    "import sagemaker\n",
    "import boto3\n",
    "\n",
    "sagemaker_session = sagemaker.Session()\n",
    "\n",
    "bucket = sagemaker_session.default_bucket()\n",
    "prefix = 'sagemaker/hunkim-kogpt2'\n",
    "\n",
    "try:\n",
    "    role = sagemaker.get_execution_role()\n",
    "except ValueError:\n",
    "    iam = boto3.client('iam')\n",
    "    role = iam.get_role(RoleName='hunkimSagemaker')['Role']['Arn']\n",
    "    \n",
    "print(role)"
   ]
  },
  {
   "cell_type": "code",
   "execution_count": 3,
   "metadata": {},
   "outputs": [
    {
     "output_type": "stream",
     "name": "stdout",
     "text": "Archive:  wikitext-2-raw-v1.zip\n  inflating: wikitext-2-raw/wiki.test.raw  \n  inflating: wikitext-2-raw/wiki.valid.raw  \n  inflating: wikitext-2-raw/wiki.train.raw  \n--2020-06-09 16:09:11--  https://s3.amazonaws.com/research.metamind.io/wikitext/wikitext-2-raw-v1.zip\nResolving s3.amazonaws.com (s3.amazonaws.com)... 52.216.207.237\nConnecting to s3.amazonaws.com (s3.amazonaws.com)|52.216.207.237|:443... connected.\nHTTP request sent, awaiting response... 200 OK\nLength: 4721645 (4.5M) [application/zip]\nSaving to: ‘wikitext-2-raw-v1.zip’\n\n     0K .......... .......... .......... .......... ..........  1%  250K 18s\n    50K .......... .......... .......... .......... ..........  2%  249K 18s\n   100K .......... .......... .......... .......... ..........  3%  250K 18s\n   150K .......... .......... .......... .......... ..........  4% 92.1M 13s\n   200K .......... .......... .......... .......... ..........  5% 75.0M 10s\n   250K .......... .......... .......... .......... ..........  6%  251K 12s\n   300K .......... .......... .......... .......... ..........  7%  102M 10s\n   350K .......... .......... .......... .......... ..........  8% 67.2M 8s\n   400K .......... .......... .......... .......... ..........  9%  105M 7s\n   450K .......... .......... .......... .......... .......... 10%  111M 7s\n   500K .......... .......... .......... .......... .......... 11%  252K 7s\n   550K .......... .......... .......... .......... .......... 13% 78.4M 7s\n   600K .......... .......... .......... .......... .......... 14% 82.5M 6s\n   650K .......... .......... .......... .......... .......... 15% 72.8M 6s\n   700K .......... .......... .......... .......... .......... 16% 73.9M 5s\n   750K .......... .......... .......... .......... .......... 17%  253K 6s\n   800K .......... .......... .......... .......... .......... 18%  104M 5s\n   850K .......... .......... .......... .......... .......... 19%  154M 5s\n   900K .......... .......... .......... .......... .......... 20% 87.3M 5s\n   950K .......... .......... .......... .......... .......... 21% 93.4M 4s\n  1000K .......... .......... .......... .......... .......... 22%  103M 4s\n  1050K .......... .......... .......... .......... .......... 23%  119M 4s\n  1100K .......... .......... .......... .......... .......... 24% 92.0M 4s\n  1150K .......... .......... .......... .......... .......... 26% 99.4M 3s\n  1200K .......... .......... .......... .......... .......... 27% 97.9M 3s\n  1250K .......... .......... .......... .......... .......... 28% 68.7M 3s\n  1300K .......... .......... .......... .......... .......... 29% 67.9M 3s\n  1350K .......... .......... .......... .......... .......... 30% 64.8M 3s\n  1400K .......... .......... .......... .......... .......... 31%  258K 3s\n  1450K .......... .......... .......... .......... .......... 32% 99.4M 3s\n  1500K .......... .......... .......... .......... .......... 33%  150M 3s\n  1550K .......... .......... .......... .......... .......... 34%  102M 3s\n  1600K .......... .......... .......... .......... .......... 35%  130M 3s\n  1650K .......... .......... .......... .......... .......... 36% 89.3M 2s\n  1700K .......... .......... .......... .......... .......... 37% 92.7M 2s\n  1750K .......... .......... .......... .......... .......... 39%  222M 2s\n  1800K .......... .......... .......... .......... .......... 40% 99.0M 2s\n  1850K .......... .......... .......... .......... .......... 41%  210M 2s\n  1900K .......... .......... .......... .......... .......... 42% 76.3M 2s\n  1950K .......... .......... .......... .......... .......... 43%  120M 2s\n  2000K .......... .......... .......... .......... .......... 44% 98.8M 2s\n  2050K .......... .......... .......... .......... .......... 45%  115M 2s\n  2100K .......... .......... .......... .......... .......... 46% 65.2M 2s\n  2150K .......... .......... .......... .......... .......... 47%  227M 2s\n  2200K .......... .......... .......... .......... .......... 48%  157M 1s\n  2250K .......... .......... .......... .......... .......... 49%  121M 1s\n  2300K .......... .......... .......... .......... .......... 50% 89.6M 1s\n  2350K .......... .......... .......... .......... .......... 52%  124M 1s\n  2400K .......... .......... .......... .......... .......... 53%  138M 1s\n  2450K .......... .......... .......... .......... .......... 54%  115M 1s\n  2500K .......... .......... .......... .......... .......... 55% 99.6M 1s\n  2550K .......... .......... .......... .......... .......... 56%  125M 1s\n  2600K .......... .......... .......... .......... .......... 57%  116M 1s\n  2650K .......... .......... .......... .......... .......... 58% 87.8M 1s\n  2700K .......... .......... .......... .......... .......... 59%  128M 1s\n  2750K .......... .......... .......... .......... .......... 60%  265K 1s\n  2800K .......... .......... .......... .......... .......... 61% 82.3M 1s\n  2850K .......... .......... .......... .......... .......... 62%  142M 1s\n  2900K .......... .......... .......... .......... .......... 63%  110M 1s\n  2950K .......... .......... .......... .......... .......... 65% 89.3M 1s\n  3000K .......... .......... .......... .......... .......... 66%  112M 1s\n  3050K .......... .......... .......... .......... .......... 67%  122M 1s\n  3100K .......... .......... .......... .......... .......... 68%  105M 1s\n  3150K .......... .......... .......... .......... .......... 69%  113M 1s\n  3200K .......... .......... .......... .......... .......... 70%  117M 1s\n  3250K .......... .......... .......... .......... .......... 71%  160M 1s\n  3300K .......... .......... .......... .......... .......... 72% 86.1M 1s\n  3350K .......... .......... .......... .......... .......... 73%  112M 1s\n  3400K .......... .......... .......... .......... .......... 74% 90.6M 1s\n  3450K .......... .......... .......... .......... .......... 75%  125M 1s\n  3500K .......... .......... .......... .......... .......... 76%  131M 0s\n  3550K .......... .......... .......... .......... .......... 78%  118M 0s\n  3600K .......... .......... .......... .......... .......... 79%  148M 0s\n  3650K .......... .......... .......... .......... .......... 80%  133M 0s\n  3700K .......... .......... .......... .......... .......... 81% 79.4M 0s\n  3750K .......... .......... .......... .......... .......... 82%  143M 0s\n  3800K .......... .......... .......... .......... .......... 83% 88.5M 0s\n  3850K .......... .......... .......... .......... .......... 84%  111M 0s\n  3900K .......... .......... .......... .......... .......... 85%  156M 0s\n  3950K .......... .......... .......... .......... .......... 86%  104M 0s\n  4000K .......... .......... .......... .......... .......... 87% 92.0M 0s\n  4050K .......... .......... .......... .......... .......... 88%  146M 0s\n  4100K .......... .......... .......... .......... .......... 90%  116M 0s\n  4150K .......... .......... .......... .......... .......... 91% 84.9M 0s\n  4200K .......... .......... .......... .......... .......... 92%  139M 0s\n  4250K .......... .......... .......... .......... .......... 93%  112M 0s\n  4300K .......... .......... .......... .......... .......... 94%  127M 0s\n  4350K .......... .......... .......... .......... .......... 95%  118M 0s\n  4400K .......... .......... .......... .......... .......... 96% 95.4M 0s\n  4450K .......... .......... .......... .......... .......... 97%  122M 0s\n  4500K .......... .......... .......... .......... .......... 98%  130M 0s\n  4550K .......... .......... .......... .......... .......... 99%  122M 0s\n  4600K ..........                                            100%  397M=1.6s\n\n2020-06-09 16:09:14 (2.78 MB/s) - ‘wikitext-2-raw-v1.zip’ saved [4721645/4721645]\n\n"
    }
   ],
   "source": [
    "%%bash\n",
    "#wget http://research.metamind.io.s3.amazonaws.com/wikitext/wikitext-2-raw-v1.zip\n",
    "wget -O wikitext-2-raw-v1.zip https://s3.amazonaws.com/research.metamind.io/wikitext/wikitext-2-raw-v1.zip\n",
    "unzip -n wikitext-2-raw-v1.zip\n",
    "cd wikitext-2-raw\n",
    "mv wiki.test.raw test && mv wiki.train.raw train && mv wiki.valid.raw valid\n"
   ]
  },
  {
   "cell_type": "code",
   "execution_count": 4,
   "metadata": {},
   "outputs": [
    {
     "output_type": "stream",
     "name": "stdout",
     "text": "\n = Valkyria Chronicles III = \n \n Senjō no Valkyria 3 : Unrecorded Chronicles ( Japanese : 戦場のヴァルキュリア3 , lit . Valkyria of the Battlefield 3 ) , commonly referred to as Valkyria Chronicles III outside Japan , is a tactical role @-@ playing video game developed by Sega and Media.Vision for the PlayStation Portable . Released in January 2011 in Japan , it is the third game in the Valkyria series . Employing the same fusion of tactical and real @-@ time gameplay as its predecessors , the story runs parallel to the first game and follows the \" Nameless \" , a penal military unit serving the nation of Gallia during the Second Europan War who perform secret black operations and are pitted against the Imperial unit \" Calamaty Raven \" . \n The game began development in 2010 , carrying over a large portion of the work done on Valkyria Chronicles II . While it retained the standard features of the series , it also underwent multiple adjustments , such as making the game more forgiving for series newcomers . Character designer Raita Honjou and composer Hitoshi Sakimoto both returned from previous entries , along with Valkyria Chronicles II director Takeshi Ozawa . A large team of writers handled the script . The game 's opening theme was sung by May 'n . \n"
    }
   ],
   "source": [
    "!head -5 wikitext-2-raw/train"
   ]
  },
  {
   "cell_type": "code",
   "execution_count": 5,
   "metadata": {},
   "outputs": [
    {
     "output_type": "stream",
     "name": "stderr",
     "text": "WARNING:sagemaker:'upload_data' method will be deprecated in favor of 'S3Uploader' class (https://sagemaker.readthedocs.io/en/stable/s3.html#sagemaker.s3.S3Uploader) in SageMaker Python SDK v2.\ninput spec (in this case, just an S3 path): s3://sagemaker-us-west-2-294038372338/sagemaker/hunkim-kogpt2\n"
    }
   ],
   "source": [
    "inputs = sagemaker_session.upload_data(path='wikitext-2-raw', bucket=bucket, key_prefix=prefix)\n",
    "print('input spec (in this case, just an S3 path): {}'.format(inputs))"
   ]
  },
  {
   "cell_type": "code",
   "execution_count": 6,
   "metadata": {},
   "outputs": [
    {
     "output_type": "stream",
     "name": "stderr",
     "text": "WARNING:sagemaker:No framework_version specified, defaulting to version 0.4. framework_version will be required in SageMaker Python SDK v2. This is not the latest supported version. If you would like to use version 1.5.0, please add framework_version=1.5.0 to your constructor.\n"
    }
   ],
   "source": [
    "from sagemaker.pytorch import PyTorch\n",
    "\n",
    "estimator = PyTorch(entry_point='train.py',\n",
    "                    source_dir='code',\n",
    "                    role=role,\n",
    "                    framework_version='1.5.0',\n",
    "                    train_instance_count=1,\n",
    "                    #train_instance_type='ml.p2.xlarge',\n",
    "                    train_instance_type='local',\n",
    "\n",
    "                    # available hyperparameters: emsize, nhid, nlayers, lr, clip, epochs, batch_size,\n",
    "                    #                            bptt, dropout, tied, seed, log_interval\n",
    "                    hyperparameters={\n",
    "                        'epochs': 1,\n",
    "                        'tied': True\n",
    "                    })"
   ]
  },
  {
   "cell_type": "code",
   "execution_count": 8,
   "metadata": {},
   "outputs": [
    {
     "output_type": "stream",
     "name": "stderr",
     "text": "WARNING:sagemaker:'create_image_uri' will be deprecated in favor of 'ImageURIProvider' class in SageMaker Python SDK v2.\nWARNING:sagemaker:'s3_input' class will be renamed to 'TrainingInput' in SageMaker Python SDK v2.\nWARNING:sagemaker:'create_image_uri' will be deprecated in favor of 'ImageURIProvider' class in SageMaker Python SDK v2.\nCreating tmpu1ya9mng_algo-1-i0u2q_1 ... \n\u001b[1BAttaching to tmpu1ya9mng_algo-1-i0u2q_1\n\u001b[36malgo-1-i0u2q_1  |\u001b[0m 2020-06-09 07:11:57,679 sagemaker-containers INFO     Imported framework sagemaker_pytorch_container.training\n\u001b[36malgo-1-i0u2q_1  |\u001b[0m 2020-06-09 07:11:57,692 sagemaker-containers INFO     No GPUs detected (normal if no gpus installed)\n\u001b[36malgo-1-i0u2q_1  |\u001b[0m 2020-06-09 07:11:57,705 sagemaker_pytorch_container.training INFO     Block until all host DNS lookups succeed.\n\u001b[36malgo-1-i0u2q_1  |\u001b[0m 2020-06-09 07:11:57,710 sagemaker_pytorch_container.training INFO     Invoking user training script.\n\u001b[36malgo-1-i0u2q_1  |\u001b[0m 2020-06-09 07:11:58,561 sagemaker-containers INFO     Module train does not provide a setup.py. \n\u001b[36malgo-1-i0u2q_1  |\u001b[0m Generating setup.py\n\u001b[36malgo-1-i0u2q_1  |\u001b[0m 2020-06-09 07:11:58,561 sagemaker-containers INFO     Generating setup.cfg\n\u001b[36malgo-1-i0u2q_1  |\u001b[0m 2020-06-09 07:11:58,561 sagemaker-containers INFO     Generating MANIFEST.in\n\u001b[36malgo-1-i0u2q_1  |\u001b[0m 2020-06-09 07:11:58,562 sagemaker-containers INFO     Installing module with the following command:\n\u001b[36malgo-1-i0u2q_1  |\u001b[0m /usr/bin/python -m pip install -U . -r requirements.txt\n\u001b[36malgo-1-i0u2q_1  |\u001b[0m Processing /opt/ml/code\n\u001b[36malgo-1-i0u2q_1  |\u001b[0m Collecting mxnet (from -r requirements.txt (line 1))\n\u001b[36malgo-1-i0u2q_1  |\u001b[0m \u001b[?25l  Downloading https://files.pythonhosted.org/packages/81/f5/d79b5b40735086ff1100c680703e0f3efc830fa455e268e9e96f3c857e93/mxnet-1.6.0-py2.py3-none-any.whl (68.7MB)\n\u001b[K    100% |################################| 68.7MB 963kB/s \n\u001b[36malgo-1-i0u2q_1  |\u001b[0m \u001b[?25hCollecting numpy<2.0.0,>1.16.0 (from mxnet->-r requirements.txt (line 1))\n\u001b[36malgo-1-i0u2q_1  |\u001b[0m \u001b[?25l  Downloading https://files.pythonhosted.org/packages/b5/36/88723426b4ff576809fec7d73594fe17a35c27f8d01f93637637a29ae25b/numpy-1.18.5-cp35-cp35m-manylinux1_x86_64.whl (19.9MB)\n\u001b[K    100% |################################| 19.9MB 2.9MB/s \n\u001b[36malgo-1-i0u2q_1  |\u001b[0m \u001b[?25hCollecting graphviz<0.9.0,>=0.8.1 (from mxnet->-r requirements.txt (line 1))\n\u001b[36malgo-1-i0u2q_1  |\u001b[0m   Downloading https://files.pythonhosted.org/packages/53/39/4ab213673844e0c004bed8a0781a0721a3f6bb23eb8854ee75c236428892/graphviz-0.8.4-py2.py3-none-any.whl\n\u001b[36malgo-1-i0u2q_1  |\u001b[0m Collecting requests<3,>=2.20.0 (from mxnet->-r requirements.txt (line 1))\n\u001b[36malgo-1-i0u2q_1  |\u001b[0m \u001b[?25l  Downloading https://files.pythonhosted.org/packages/1a/70/1935c770cb3be6e3a8b78ced23d7e0f3b187f5cbfab4749523ed65d7c9b1/requests-2.23.0-py2.py3-none-any.whl (58kB)\n\u001b[K    100% |################################| 61kB 26.4MB/s \n\u001b[36malgo-1-i0u2q_1  |\u001b[0m \u001b[?25hCollecting certifi>=2017.4.17 (from requests<3,>=2.20.0->mxnet->-r requirements.txt (line 1))\n\u001b[36malgo-1-i0u2q_1  |\u001b[0m \u001b[?25l  Downloading https://files.pythonhosted.org/packages/98/99/def511020aa8f663d4a2cfaa38467539e864799289ff354569e339e375b1/certifi-2020.4.5.2-py2.py3-none-any.whl (157kB)\n\u001b[K    100% |################################| 163kB 29.1MB/s \n\u001b[36malgo-1-i0u2q_1  |\u001b[0m \u001b[?25hCollecting chardet<4,>=3.0.2 (from requests<3,>=2.20.0->mxnet->-r requirements.txt (line 1))\n\u001b[36malgo-1-i0u2q_1  |\u001b[0m \u001b[?25l  Downloading https://files.pythonhosted.org/packages/bc/a9/01ffebfb562e4274b6487b4bb1ddec7ca55ec7510b22e4c51f14098443b8/chardet-3.0.4-py2.py3-none-any.whl (133kB)\n\u001b[K    100% |################################| 143kB 33.5MB/s \n\u001b[36malgo-1-i0u2q_1  |\u001b[0m \u001b[?25hCollecting idna<3,>=2.5 (from requests<3,>=2.20.0->mxnet->-r requirements.txt (line 1))\n\u001b[36malgo-1-i0u2q_1  |\u001b[0m \u001b[?25l  Downloading https://files.pythonhosted.org/packages/89/e3/afebe61c546d18fb1709a61bee788254b40e736cff7271c7de5de2dc4128/idna-2.9-py2.py3-none-any.whl (58kB)\n\u001b[K    100% |################################| 61kB 28.6MB/s \n\u001b[36malgo-1-i0u2q_1  |\u001b[0m \u001b[?25hRequirement already satisfied, skipping upgrade: urllib3!=1.25.0,!=1.25.1,<1.26,>=1.21.1 in /usr/local/lib/python3.5/dist-packages (from requests<3,>=2.20.0->mxnet->-r requirements.txt (line 1)) (1.24.1)\n\u001b[36malgo-1-i0u2q_1  |\u001b[0m Building wheels for collected packages: train\n\u001b[36malgo-1-i0u2q_1  |\u001b[0m   Running setup.py bdist_wheel for train ... \u001b[?25ldone\n\u001b[36malgo-1-i0u2q_1  |\u001b[0m \u001b[?25h  Stored in directory: /tmp/pip-ephem-wheel-cache-1bm1x7f4/wheels/35/24/16/37574d11bf9bde50616c67372a334f94fa8356bc7164af8ca3\n\u001b[36malgo-1-i0u2q_1  |\u001b[0m Successfully built train\n\u001b[36malgo-1-i0u2q_1  |\u001b[0m Installing collected packages: numpy, graphviz, certifi, chardet, idna, requests, mxnet, train\n\u001b[36malgo-1-i0u2q_1  |\u001b[0m   Found existing installation: numpy 1.15.4\n\u001b[36malgo-1-i0u2q_1  |\u001b[0m     Uninstalling numpy-1.15.4:\n\u001b[36malgo-1-i0u2q_1  |\u001b[0m       Successfully uninstalled numpy-1.15.4\n\u001b[36malgo-1-i0u2q_1  |\u001b[0m Successfully installed certifi-2020.4.5.2 chardet-3.0.4 graphviz-0.8.4 idna-2.9 mxnet-1.6.0 numpy-1.18.5 requests-2.23.0 train-1.0.0\n\u001b[36malgo-1-i0u2q_1  |\u001b[0m \u001b[33mYou are using pip version 18.1, however version 20.2b1 is available.\n\u001b[36malgo-1-i0u2q_1  |\u001b[0m You should consider upgrading via the 'pip install --upgrade pip' command.\u001b[0m\n\u001b[36malgo-1-i0u2q_1  |\u001b[0m 2020-06-09 07:12:12,921 sagemaker-containers INFO     No GPUs detected (normal if no gpus installed)\n\u001b[36malgo-1-i0u2q_1  |\u001b[0m 2020-06-09 07:12:12,934 sagemaker-containers INFO     Invoking user script\n\u001b[36malgo-1-i0u2q_1  |\u001b[0m \n\u001b[36malgo-1-i0u2q_1  |\u001b[0m Training Env:\n\u001b[36malgo-1-i0u2q_1  |\u001b[0m \n\u001b[36malgo-1-i0u2q_1  |\u001b[0m {\n\u001b[36malgo-1-i0u2q_1  |\u001b[0m     \"hosts\": [\n\u001b[36malgo-1-i0u2q_1  |\u001b[0m         \"algo-1-i0u2q\"\n\u001b[36malgo-1-i0u2q_1  |\u001b[0m     ],\n\u001b[36malgo-1-i0u2q_1  |\u001b[0m     \"input_data_config\": {\n\u001b[36malgo-1-i0u2q_1  |\u001b[0m         \"training\": {\n\u001b[36malgo-1-i0u2q_1  |\u001b[0m             \"TrainingInputMode\": \"File\"\n\u001b[36malgo-1-i0u2q_1  |\u001b[0m         }\n\u001b[36malgo-1-i0u2q_1  |\u001b[0m     },\n\u001b[36malgo-1-i0u2q_1  |\u001b[0m     \"output_data_dir\": \"/opt/ml/output/data\",\n\u001b[36malgo-1-i0u2q_1  |\u001b[0m     \"network_interface_name\": \"ethwe\",\n\u001b[36malgo-1-i0u2q_1  |\u001b[0m     \"module_dir\": \"s3://sagemaker-us-west-2-294038372338/sagemaker-pytorch-2020-06-09-07-11-50-088/source/sourcedir.tar.gz\",\n\u001b[36malgo-1-i0u2q_1  |\u001b[0m     \"channel_input_dirs\": {\n\u001b[36malgo-1-i0u2q_1  |\u001b[0m         \"training\": \"/opt/ml/input/data/training\"\n\u001b[36malgo-1-i0u2q_1  |\u001b[0m     },\n\u001b[36malgo-1-i0u2q_1  |\u001b[0m     \"output_dir\": \"/opt/ml/output\",\n\u001b[36malgo-1-i0u2q_1  |\u001b[0m     \"input_config_dir\": \"/opt/ml/input/config\",\n\u001b[36malgo-1-i0u2q_1  |\u001b[0m     \"user_entry_point\": \"train.py\",\n\u001b[36malgo-1-i0u2q_1  |\u001b[0m     \"num_cpus\": 8,\n\u001b[36malgo-1-i0u2q_1  |\u001b[0m     \"additional_framework_parameters\": {},\n\u001b[36malgo-1-i0u2q_1  |\u001b[0m     \"job_name\": \"sagemaker-pytorch-2020-06-09-07-11-50-088\",\n\u001b[36malgo-1-i0u2q_1  |\u001b[0m     \"output_intermediate_dir\": \"/opt/ml/output/intermediate\",\n\u001b[36malgo-1-i0u2q_1  |\u001b[0m     \"log_level\": 20,\n\u001b[36malgo-1-i0u2q_1  |\u001b[0m     \"framework_module\": \"sagemaker_pytorch_container.training:main\",\n\u001b[36malgo-1-i0u2q_1  |\u001b[0m     \"num_gpus\": 0,\n\u001b[36malgo-1-i0u2q_1  |\u001b[0m     \"module_name\": \"train\",\n\u001b[36malgo-1-i0u2q_1  |\u001b[0m     \"current_host\": \"algo-1-i0u2q\",\n\u001b[36malgo-1-i0u2q_1  |\u001b[0m     \"input_dir\": \"/opt/ml/input\",\n\u001b[36malgo-1-i0u2q_1  |\u001b[0m     \"hyperparameters\": {\n\u001b[36malgo-1-i0u2q_1  |\u001b[0m         \"tied\": true,\n\u001b[36malgo-1-i0u2q_1  |\u001b[0m         \"epochs\": 1\n\u001b[36malgo-1-i0u2q_1  |\u001b[0m     },\n\u001b[36malgo-1-i0u2q_1  |\u001b[0m     \"model_dir\": \"/opt/ml/model\",\n\u001b[36malgo-1-i0u2q_1  |\u001b[0m     \"resource_config\": {\n\u001b[36malgo-1-i0u2q_1  |\u001b[0m         \"hosts\": [\n\u001b[36malgo-1-i0u2q_1  |\u001b[0m             \"algo-1-i0u2q\"\n\u001b[36malgo-1-i0u2q_1  |\u001b[0m         ],\n\u001b[36malgo-1-i0u2q_1  |\u001b[0m         \"current_host\": \"algo-1-i0u2q\"\n\u001b[36malgo-1-i0u2q_1  |\u001b[0m     }\n\u001b[36malgo-1-i0u2q_1  |\u001b[0m }\n\u001b[36malgo-1-i0u2q_1  |\u001b[0m \n\u001b[36malgo-1-i0u2q_1  |\u001b[0m Environment variables:\n\u001b[36malgo-1-i0u2q_1  |\u001b[0m \n\u001b[36malgo-1-i0u2q_1  |\u001b[0m SM_HP_TIED=true\n\u001b[36malgo-1-i0u2q_1  |\u001b[0m SM_OUTPUT_DIR=/opt/ml/output\n\u001b[36malgo-1-i0u2q_1  |\u001b[0m SM_USER_ARGS=[\"--epochs\",\"1\",\"--tied\",\"True\"]\n\u001b[36malgo-1-i0u2q_1  |\u001b[0m SM_OUTPUT_INTERMEDIATE_DIR=/opt/ml/output/intermediate\n\u001b[36malgo-1-i0u2q_1  |\u001b[0m SM_FRAMEWORK_MODULE=sagemaker_pytorch_container.training:main\n\u001b[36malgo-1-i0u2q_1  |\u001b[0m SM_HOSTS=[\"algo-1-i0u2q\"]\n\u001b[36malgo-1-i0u2q_1  |\u001b[0m SM_NETWORK_INTERFACE_NAME=ethwe\n\u001b[36malgo-1-i0u2q_1  |\u001b[0m SM_LOG_LEVEL=20\n\u001b[36malgo-1-i0u2q_1  |\u001b[0m SM_HPS={\"epochs\":1,\"tied\":true}\n\u001b[36malgo-1-i0u2q_1  |\u001b[0m SM_TRAINING_ENV={\"additional_framework_parameters\":{},\"channel_input_dirs\":{\"training\":\"/opt/ml/input/data/training\"},\"current_host\":\"algo-1-i0u2q\",\"framework_module\":\"sagemaker_pytorch_container.training:main\",\"hosts\":[\"algo-1-i0u2q\"],\"hyperparameters\":{\"epochs\":1,\"tied\":true},\"input_config_dir\":\"/opt/ml/input/config\",\"input_data_config\":{\"training\":{\"TrainingInputMode\":\"File\"}},\"input_dir\":\"/opt/ml/input\",\"job_name\":\"sagemaker-pytorch-2020-06-09-07-11-50-088\",\"log_level\":20,\"model_dir\":\"/opt/ml/model\",\"module_dir\":\"s3://sagemaker-us-west-2-294038372338/sagemaker-pytorch-2020-06-09-07-11-50-088/source/sourcedir.tar.gz\",\"module_name\":\"train\",\"network_interface_name\":\"ethwe\",\"num_cpus\":8,\"num_gpus\":0,\"output_data_dir\":\"/opt/ml/output/data\",\"output_dir\":\"/opt/ml/output\",\"output_intermediate_dir\":\"/opt/ml/output/intermediate\",\"resource_config\":{\"current_host\":\"algo-1-i0u2q\",\"hosts\":[\"algo-1-i0u2q\"]},\"user_entry_point\":\"train.py\"}\n\u001b[36malgo-1-i0u2q_1  |\u001b[0m SM_MODEL_DIR=/opt/ml/model\n\u001b[36malgo-1-i0u2q_1  |\u001b[0m SM_NUM_CPUS=8\n\u001b[36malgo-1-i0u2q_1  |\u001b[0m SM_NUM_GPUS=0\n\u001b[36malgo-1-i0u2q_1  |\u001b[0m SM_INPUT_DIR=/opt/ml/input\n\u001b[36malgo-1-i0u2q_1  |\u001b[0m SM_CHANNELS=[\"training\"]\n\u001b[36malgo-1-i0u2q_1  |\u001b[0m SM_MODULE_DIR=s3://sagemaker-us-west-2-294038372338/sagemaker-pytorch-2020-06-09-07-11-50-088/source/sourcedir.tar.gz\n\u001b[36malgo-1-i0u2q_1  |\u001b[0m SM_OUTPUT_DATA_DIR=/opt/ml/output/data\n\u001b[36malgo-1-i0u2q_1  |\u001b[0m SM_HP_EPOCHS=1\n\u001b[36malgo-1-i0u2q_1  |\u001b[0m SM_MODULE_NAME=train\n\u001b[36malgo-1-i0u2q_1  |\u001b[0m PYTHONPATH=/usr/local/bin:/usr/lib/python35.zip:/usr/lib/python3.5:/usr/lib/python3.5/plat-x86_64-linux-gnu:/usr/lib/python3.5/lib-dynload:/usr/local/lib/python3.5/dist-packages:/usr/lib/python3/dist-packages\n\u001b[36malgo-1-i0u2q_1  |\u001b[0m SM_USER_ENTRY_POINT=train.py\n\u001b[36malgo-1-i0u2q_1  |\u001b[0m SM_INPUT_CONFIG_DIR=/opt/ml/input/config\n\u001b[36malgo-1-i0u2q_1  |\u001b[0m SM_CHANNEL_TRAINING=/opt/ml/input/data/training\n\u001b[36malgo-1-i0u2q_1  |\u001b[0m SM_FRAMEWORK_PARAMS={}\n\u001b[36malgo-1-i0u2q_1  |\u001b[0m SM_INPUT_DATA_CONFIG={\"training\":{\"TrainingInputMode\":\"File\"}}\n\u001b[36malgo-1-i0u2q_1  |\u001b[0m SM_CURRENT_HOST=algo-1-i0u2q\n\u001b[36malgo-1-i0u2q_1  |\u001b[0m SM_RESOURCE_CONFIG={\"current_host\":\"algo-1-i0u2q\",\"hosts\":[\"algo-1-i0u2q\"]}\n\u001b[36malgo-1-i0u2q_1  |\u001b[0m \n\u001b[36malgo-1-i0u2q_1  |\u001b[0m Invoking script with the following command:\n\u001b[36malgo-1-i0u2q_1  |\u001b[0m \n\u001b[36malgo-1-i0u2q_1  |\u001b[0m /usr/bin/python -m train --epochs 1 --tied True\n\u001b[36malgo-1-i0u2q_1  |\u001b[0m \n\u001b[36malgo-1-i0u2q_1  |\u001b[0m \n\u001b[36malgo-1-i0u2q_1  |\u001b[0m 1.6.0\n\u001b[36malgo-1-i0u2q_1  |\u001b[0m Namespace(batch_size=20, bptt=35, clip=0.25, data_dir='/opt/ml/input/data/training', dropout=0.2, emsize=200, epochs=1, log_interval=200, lr=20, model_dir='/opt/ml/model', nhid=200, nlayers=2, output_data_dir='/opt/ml/output/data', seed=1111, tied=True)\n\u001b[36malgo-1-i0u2q_1  |\u001b[0m Load data\n\u001b[36malgo-1-i0u2q_1  |\u001b[0m Batchify dataset\n\u001b[36malgo-1-i0u2q_1  |\u001b[0m Build the model\n\u001b[36malgo-1-i0u2q_1  |\u001b[0m Starting training.\n\u001b[36malgo-1-i0u2q_1  |\u001b[0m | epoch   1 |   200/ 2983 batches | lr 20.00 | ms/batch 1489.18 | loss  8.32 | ppl  4085.65\n\u001b[36malgo-1-i0u2q_1  |\u001b[0m | epoch   1 |   400/ 2983 batches | lr 20.00 | ms/batch 1509.22 | loss  7.34 | ppl  1534.94\n\u001b[36malgo-1-i0u2q_1  |\u001b[0m | epoch   1 |   600/ 2983 batches | lr 20.00 | ms/batch 1575.84 | loss  6.85 | ppl   947.21\n\u001b[36malgo-1-i0u2q_1  |\u001b[0m | epoch   1 |   800/ 2983 batches | lr 20.00 | ms/batch 1543.34 | loss  6.65 | ppl   775.32\n\u001b[36malgo-1-i0u2q_1  |\u001b[0m | epoch   1 |  1000/ 2983 batches | lr 20.00 | ms/batch 1542.65 | loss  6.43 | ppl   617.19\n\u001b[36malgo-1-i0u2q_1  |\u001b[0m | epoch   1 |  1200/ 2983 batches | lr 20.00 | ms/batch 1554.40 | loss  6.36 | ppl   579.41\n\u001b[36malgo-1-i0u2q_1  |\u001b[0m | epoch   1 |  1400/ 2983 batches | lr 20.00 | ms/batch 1625.28 | loss  6.29 | ppl   538.15\n\u001b[36malgo-1-i0u2q_1  |\u001b[0m | epoch   1 |  1600/ 2983 batches | lr 20.00 | ms/batch 1542.39 | loss  6.27 | ppl   530.45\n\u001b[36malgo-1-i0u2q_1  |\u001b[0m | epoch   1 |  1800/ 2983 batches | lr 20.00 | ms/batch 1505.60 | loss  6.07 | ppl   431.10\n\u001b[36malgo-1-i0u2q_1  |\u001b[0m | epoch   1 |  2000/ 2983 batches | lr 20.00 | ms/batch 1547.56 | loss  6.04 | ppl   418.99\n\u001b[36malgo-1-i0u2q_1  |\u001b[0m | epoch   1 |  2200/ 2983 batches | lr 20.00 | ms/batch 1664.18 | loss  5.92 | ppl   373.09\n\u001b[36malgo-1-i0u2q_1  |\u001b[0m | epoch   1 |  2400/ 2983 batches | lr 20.00 | ms/batch 1563.43 | loss  5.96 | ppl   386.14\n\u001b[36malgo-1-i0u2q_1  |\u001b[0m | epoch   1 |  2600/ 2983 batches | lr 20.00 | ms/batch 1530.45 | loss  5.93 | ppl   377.98\n\u001b[36malgo-1-i0u2q_1  |\u001b[0m | epoch   1 |  2800/ 2983 batches | lr 20.00 | ms/batch 1525.11 | loss  5.82 | ppl   337.39\n\u001b[36malgo-1-i0u2q_1  |\u001b[0m -----------------------------------------------------------------------------------------\n\u001b[36malgo-1-i0u2q_1  |\u001b[0m | end of epoch   1 | time: 4827.40s | valid loss  6.02 | valid ppl   411.77\n\u001b[36malgo-1-i0u2q_1  |\u001b[0m -----------------------------------------------------------------------------------------\n\u001b[36malgo-1-i0u2q_1  |\u001b[0m Saving the best model: {'epoch': 1, 'val_loss': 6.020471492972231, 'lr': 20, 'val_ppl': 411.7726978973803}\n\u001b[36malgo-1-i0u2q_1  |\u001b[0m =========================================================================================\n\u001b[36malgo-1-i0u2q_1  |\u001b[0m | End of training | test loss  6.01 | test ppl   408.75\n\u001b[36malgo-1-i0u2q_1  |\u001b[0m =========================================================================================\n\u001b[36malgo-1-i0u2q_1  |\u001b[0m 2020-06-09 08:36:54,404 sagemaker-containers INFO     Reporting training SUCCESS\n\u001b[36mtmpu1ya9mng_algo-1-i0u2q_1 exited with code 0\n\u001b[0mAborting on container exit...\nWARNING:sagemaker:'upload_data' method will be deprecated in favor of 'S3Uploader' class (https://sagemaker.readthedocs.io/en/stable/s3.html#sagemaker.s3.S3Uploader) in SageMaker Python SDK v2.\n===== Job Complete =====\n"
    }
   ],
   "source": [
    "estimator.fit({'training': inputs})"
   ]
  },
  {
   "cell_type": "code",
   "execution_count": null,
   "metadata": {},
   "outputs": [],
   "source": [
    "from sagemaker.predictor import RealTimePredictor, json_serializer, json_deserializer\n",
    "\n",
    "class JSONPredictor(RealTimePredictor):\n",
    "    def __init__(self, endpoint_name, sagemaker_session):\n",
    "        super(JSONPredictor, self).__init__(endpoint_name, sagemaker_session, json_serializer, json_deserializer)"
   ]
  },
  {
   "cell_type": "code",
   "execution_count": 14,
   "metadata": {},
   "outputs": [
    {
     "output_type": "stream",
     "name": "stderr",
     "text": "WARNING:sagemaker:Parameter image will be renamed to image_uri in SageMaker Python SDK v2.\ns3://sagemaker-us-west-2-294038372338/pytorch-training-2020-06-09-01-27-57-828/output/model.tar.gz\n"
    }
   ],
   "source": [
    "from sagemaker.pytorch import PyTorchModel\n",
    "\n",
    "training_job_name = estimator.latest_training_job.name\n",
    "desc = sagemaker_session.sagemaker_client.describe_training_job(TrainingJobName=training_job_name)\n",
    "trained_model_location = desc['ModelArtifacts']['S3ModelArtifacts']\n",
    "print(trained_model_location)\n",
    "model = PyTorchModel(model_data=trained_model_location,\n",
    "                     role=role,\n",
    "                     framework_version='1.5.0',\n",
    "                     entry_point='generate.py',\n",
    "                     source_dir='code',\n",
    "                     predictor_cls=JSONPredictor)"
   ]
  },
  {
   "cell_type": "code",
   "execution_count": 15,
   "metadata": {},
   "outputs": [
    {
     "output_type": "stream",
     "name": "stderr",
     "text": "WARNING:sagemaker:'create_image_uri' will be deprecated in favor of 'ImageURIProvider' class in SageMaker Python SDK v2.\n---------------!pytorch-inference-2020-06-09-01-45-36-632\n"
    }
   ],
   "source": [
    "predictor = model.deploy(initial_instance_count=1, instance_type='ml.m4.xlarge')\n",
    "\n",
    "# Get the end point\n",
    "endpoint = predictor.endpoint\n",
    "print(endpoint)"
   ]
  },
  {
   "cell_type": "code",
   "execution_count": 16,
   "metadata": {},
   "outputs": [
    {
     "output_type": "stream",
     "name": "stdout",
     "text": "allotropes Park Asians floridana carpenteri — Swollen corrupting Ethnographer levels assumed Wróbel\nTrends Timberwork camel Business episcopate eh Wigner nitride derrick Antium Cotentin Erna\nLincei extremely XI dysfunctional Canciones was Albisaurus revising Moltke NVA 93156 Chatterji\n1240s petroleum falling Celio Alternatively Boveri WAC Mike medial bhasya Bohannon infiltration\nplums popular Abruptly Seattle Ravenscar Classically Very Fayella Arcelus Pangani Beltrami Karz\nsensation Purdon inherited tireless Penfold Artefacts progeny Tsuga Personally [ Exercises Chesave\nPréval Dentzel Computing deceiving Pasternak underestimate Newman Meret demyelinating Crop transcendentalism Bust\nreported unstoppable Gambian catalyse 1550 Rivers 767s 1045 prothesis Castillo Communism Willamette\nrustics courting Sakanyi Clover \n"
    }
   ],
   "source": [
    "#FIXME: This works, but the predictor using endpoint does not work\n",
    "input = {\n",
    "    'seed': 111,\n",
    "    'temperature': 2.0,\n",
    "    'words': 100\n",
    "}\n",
    "response = predictor.predict(input)\n",
    "print(response)"
   ]
  },
  {
   "cell_type": "code",
   "execution_count": 17,
   "metadata": {},
   "outputs": [],
   "source": [
    "sagemaker_session.delete_endpoint(predictor.endpoint)"
   ]
  },
  {
   "cell_type": "code",
   "execution_count": null,
   "metadata": {},
   "outputs": [],
   "source": []
  }
 ],
 "metadata": {
  "language_info": {
   "codemirror_mode": {
    "name": "ipython",
    "version": 3
   },
   "file_extension": ".py",
   "mimetype": "text/x-python",
   "name": "python",
   "nbconvert_exporter": "python",
   "pygments_lexer": "ipython3",
   "version": "3.7.3-final"
  },
  "orig_nbformat": 2,
  "kernelspec": {
   "name": "python37364bitvenvvenvc7132e3a9c994909914bfa614ecc974e",
   "display_name": "Python 3.7.3 64-bit ('.venv': venv)"
  }
 },
 "nbformat": 4,
 "nbformat_minor": 2
}