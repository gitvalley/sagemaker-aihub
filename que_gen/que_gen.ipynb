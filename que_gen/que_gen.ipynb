{
 "cells": [
  {
   "cell_type": "markdown",
   "metadata": {},
   "source": [
    "# Question generation serving on Sagemaker\n",
    "Code is from https://colab.research.google.com/drive/1_2_mS5l29QHI1pXaqa4YLzAO5xm-HmH9?usp=sharing"
   ]
  },
  {
   "cell_type": "code",
   "execution_count": 5,
   "metadata": {},
   "outputs": [
    {
     "output_type": "stream",
     "name": "stdout",
     "text": "\u001b[33mYou are using pip version 19.0.3, however version 20.2b1 is available.\nYou should consider upgrading via the 'pip install --upgrade pip' command.\u001b[0m\nCollecting gdown\n  Downloading https://files.pythonhosted.org/packages/fc/7a/5a892d25b0a105b9d825cdd0c69d2742b83e00f247053f50a7e0a5405439/gdown-3.11.1.tar.gz\n  Installing build dependencies ... \u001b[?25ldone\n\u001b[?25h  Getting requirements to build wheel ... \u001b[?25ldone\n\u001b[?25h    Preparing wheel metadata ... \u001b[?25ldone\n\u001b[?25hRequirement already satisfied: filelock in /Users/hunkim/work/sagemaker-aihub/.venv/lib/python3.7/site-packages (from gdown) (3.0.12)\nRequirement already satisfied: tqdm in /Users/hunkim/work/sagemaker-aihub/.venv/lib/python3.7/site-packages (from gdown) (4.46.1)\nRequirement already satisfied: requests[socks] in /Users/hunkim/work/sagemaker-aihub/.venv/lib/python3.7/site-packages (from gdown) (2.23.0)\nRequirement already satisfied: six in /Users/hunkim/work/sagemaker-aihub/.venv/lib/python3.7/site-packages (from gdown) (1.15.0)\nRequirement already satisfied: certifi>=2017.4.17 in /Users/hunkim/work/sagemaker-aihub/.venv/lib/python3.7/site-packages (from requests[socks]->gdown) (2020.4.5.2)\nRequirement already satisfied: idna<3,>=2.5 in /Users/hunkim/work/sagemaker-aihub/.venv/lib/python3.7/site-packages (from requests[socks]->gdown) (2.9)\nRequirement already satisfied: urllib3!=1.25.0,!=1.25.1,<1.26,>=1.21.1 in /Users/hunkim/work/sagemaker-aihub/.venv/lib/python3.7/site-packages (from requests[socks]->gdown) (1.25.9)\nRequirement already satisfied: chardet<4,>=3.0.2 in /Users/hunkim/work/sagemaker-aihub/.venv/lib/python3.7/site-packages (from requests[socks]->gdown) (3.0.4)\nCollecting PySocks!=1.5.7,>=1.5.6; extra == \"socks\" (from requests[socks]->gdown)\n  Downloading https://files.pythonhosted.org/packages/8d/59/b4572118e098ac8e46e399a1dd0f2d85403ce8bbaad9ec79373ed6badaf9/PySocks-1.7.1-py3-none-any.whl\nBuilding wheels for collected packages: gdown\n  Building wheel for gdown (PEP 517) ... \u001b[?25ldone\n\u001b[?25h  Stored in directory: /Users/hunkim/Library/Caches/pip/wheels/32/8e/8d/0fec7d933759a0880dc34be487e1d92c51ba8fdf4e9f265ff7\nSuccessfully built gdown\nInstalling collected packages: gdown, PySocks\nSuccessfully installed PySocks-1.7.1 gdown-3.11.1\n\u001b[33mYou are using pip version 19.0.3, however version 20.2b1 is available.\nYou should consider upgrading via the 'pip install --upgrade pip' command.\u001b[0m\n\u001b[33mYou are using pip version 19.0.3, however version 20.2b1 is available.\nYou should consider upgrading via the 'pip install --upgrade pip' command.\u001b[0m\nsagemaker           1.60.2    \ntokenizers          0.7.0     \ntransformers        2.11.0    \n\u001b[33mYou are using pip version 19.0.3, however version 20.2b1 is available.\nYou should consider upgrading via the 'pip install --upgrade pip' command.\u001b[0m\n"
    }
   ],
   "source": [
    "!pip install -q sagemaker sagemaker[local]\n",
    "!pip install gdown\n",
    "\n",
    "# Install `transformers` from master\n",
    "!pip install -q git+https://github.com/huggingface/transformers\n",
    "!pip list | grep -E 'transformers|tokenizers|sagemaker'"
   ]
  },
  {
   "cell_type": "code",
   "execution_count": 2,
   "metadata": {},
   "outputs": [
    {
     "output_type": "stream",
     "name": "stderr",
     "text": "WARNING:root:pandas failed to import. Analytics features will be impaired or broken.\n"
    }
   ],
   "source": [
    "import sagemaker\n",
    "import boto3\n",
    "\n",
    "sagemaker_session = sagemaker.Session()\n",
    "\n",
    "bucket = sagemaker_session.default_bucket()\n",
    "prefix = 'sagemaker/hunkim-que-gen'\n",
    "role = \"arn:aws:iam::294038372338:role/hunkimSagemaker\""
   ]
  },
  {
   "cell_type": "code",
   "execution_count": 8,
   "metadata": {},
   "outputs": [
    {
     "output_type": "stream",
     "name": "stdout",
     "text": "Downloading...\nFrom: https://drive.google.com/uc?id=1vhsDOW9wUUO83IQasTPlkxb82yxmMH-V\nTo: /Users/hunkim/work/sagemaker-aihub/que_gen/t5_que_gen.zip\n1.65GB [01:09, 23.8MB/s]\nArchive:  t5_que_gen.zip\nreplace t5_que_gen_model/t5_base_tok_que_gen/spiece.model? [y]es, [n]o, [A]ll, [N]one, [r]ename:^C\ntar: t5_que_gen_modelt5_que_gen_model: Cannot stat: No such file or directory\ntar: Error exit delayed from previous errors.\n"
    }
   ],
   "source": [
    "!gdown -O  t5_que_gen.zip --id 1vhsDOW9wUUO83IQasTPlkxb82yxmMH-V\n",
    "!unzip t5_que_gen.zip\n"
   ]
  },
  {
   "cell_type": "code",
   "execution_count": 12,
   "metadata": {},
   "outputs": [
    {
     "output_type": "stream",
     "name": "stdout",
     "text": "a t5_ans_gen_model\na t5_ans_gen_model/t5_base_ans_gen\na t5_ans_gen_model/t5_base_tok_ans_gen\na t5_ans_gen_model/t5_base_tok_ans_gen/added_tokens.json\na t5_ans_gen_model/t5_base_tok_ans_gen/tokenizer_config.json\na t5_ans_gen_model/t5_base_tok_ans_gen/special_tokens_map.json\na t5_ans_gen_model/t5_base_tok_ans_gen/spiece.model\na t5_ans_gen_model/t5_base_ans_gen/config.json\na t5_ans_gen_model/t5_base_ans_gen/pytorch_model.bin\na t5_que_gen_model\na t5_que_gen_model/t5_base_tok_que_gen\na t5_que_gen_model/logs.zip\na t5_que_gen_model/t5_base_que_gen\na t5_que_gen_model/t5_base_que_gen/config.json\na t5_que_gen_model/t5_base_que_gen/pytorch_model.bin\na t5_que_gen_model/t5_base_tok_que_gen/added_tokens.json\na t5_que_gen_model/t5_base_tok_que_gen/tokenizer_config.json\na t5_que_gen_model/t5_base_tok_que_gen/special_tokens_map.json\na t5_que_gen_model/t5_base_tok_que_gen/spiece.model\n"
    }
   ],
   "source": [
    "!mkdir -p model\n",
    "!tar cvfz model/model.tar.gz t5_ans_gen_model t5_que_gen_model"
   ]
  },
  {
   "cell_type": "code",
   "execution_count": 13,
   "metadata": {},
   "outputs": [
    {
     "output_type": "stream",
     "name": "stderr",
     "text": "WARNING:sagemaker:'upload_data' method will be deprecated in favor of 'S3Uploader' class (https://sagemaker.readthedocs.io/en/stable/s3.html#sagemaker.s3.S3Uploader) in SageMaker Python SDK v2.\ninput spec (in this case, just an S3 path): s3://sagemaker-us-west-2-294038372338/sagemaker/hunkim-que-gen/model.tar.gz\n"
    }
   ],
   "source": [
    "model = sagemaker_session.upload_data(path='model', bucket=bucket, key_prefix=prefix)\n",
    "print('input spec (in this case, just an S3 path): {}'.format(model+\"/model.tar.gz\"))\n",
    "model_data = model+\"/model.tar.gz\""
   ]
  },
  {
   "cell_type": "code",
   "execution_count": 14,
   "metadata": {},
   "outputs": [],
   "source": [
    "from sagemaker.predictor import RealTimePredictor, json_serializer, json_deserializer\n",
    "\n",
    "class JSONPredictor(RealTimePredictor):\n",
    "    def __init__(self, endpoint_name, sagemaker_session):\n",
    "        super(JSONPredictor, self).__init__(endpoint_name, sagemaker_session, json_serializer, json_deserializer)"
   ]
  },
  {
   "cell_type": "code",
   "execution_count": 22,
   "metadata": {},
   "outputs": [
    {
     "output_type": "stream",
     "name": "stderr",
     "text": "WARNING:sagemaker:Parameter image will be renamed to image_uri in SageMaker Python SDK v2.\n"
    }
   ],
   "source": [
    "from sagemaker.pytorch import PyTorchModel\n",
    "\n",
    "model = PyTorchModel(model_data=model_data,\n",
    "                     role=role,\n",
    "                     framework_version='1.5.0',\n",
    "                     entry_point='que_gen.py',\n",
    "                     source_dir='code',\n",
    "                     predictor_cls=JSONPredictor)"
   ]
  },
  {
   "cell_type": "code",
   "execution_count": 34,
   "metadata": {},
   "outputs": [
    {
     "output_type": "stream",
     "name": "stderr",
     "text": "WARNING:sagemaker:'create_image_uri' will be deprecated in favor of 'ImageURIProvider' class in SageMaker Python SDK v2.\nWARNING:sagemaker:Using already existing model: pytorch-inference-2020-06-12-03-31-58-602\n------------------!pytorch-inference-2020-06-12-03-31-58-602\n"
    }
   ],
   "source": [
    "predictor = model.deploy(initial_instance_count=1, instance_type='ml.g4dn.xlarge')\n",
    "#predictor = model.deploy(initial_instance_count=1, instance_type='local')\n",
    "\n",
    "# Get the end point\n",
    "endpoint = predictor.endpoint\n",
    "print(endpoint)"
   ]
  },
  {
   "cell_type": "code",
   "execution_count": 35,
   "metadata": {},
   "outputs": [
    {
     "output_type": "stream",
     "name": "stdout",
     "text": "[{'answer': 'Hong Kong University of Science and Technology', 'question': 'Where is Sunghun Kim an Associate Professor of Computer Science?'}, {'answer': 'Software Engineering and Machine Learning', 'question': \"What is Sunghun Kim's core research area?\"}, {'answer': 'TSE, ICSE, FSE, AAAI, SOSP and ISSTA', 'question': 'Where does Sunghun Kim publish his work?'}, {'answer': 'ACM SIGSOFT Distinguished Paper Award', 'question': 'What award has Sunghun Kim won four times?'}, {'answer': 'Microsoft Software Innovation Awards', 'question': 'What awards did Kim receive in 2010 and 2011?'}, {'answer': 'http://www.cse.ust.hk/ ⁇ hunkim', 'question': 'Where can you find more information about Sunghun Kim?'}]\n"
    }
   ],
   "source": [
    "text = \"\"\"\n",
    "Sunghun Kim is an Associate Professor of Computer Science at the Hong Kong University of Science and Technology. \n",
    "\n",
    "His core research area is Software Engineering and Machine Learning \n",
    "focusing on software evolution, program analysis and empirical studies. \n",
    "He publishes his work on top venues such as TSE, ICSE, FSE, AAAI, SOSP and ISSTA. \n",
    "He is a four-time winner of the ACM SIGSOFT Distinguished Paper Award \n",
    "(ICSE 2007, ASE 2012, ICSE 2013 and ISSTA 2014). \n",
    "Besides, he received various awards including 2010 and \n",
    "2011 Microsoft Software Innovation Awards and 2011 Google Faculty Research Award. \n",
    "Further information is available at http://www.cse.ust.hk/~hunkim.\n",
    "\"\"\"\n",
    "input = {\n",
    "    'text': text\n",
    "}\n",
    "response = predictor.predict(input)\n",
    "print(response)"
   ]
  },
  {
   "cell_type": "code",
   "execution_count": 37,
   "metadata": {},
   "outputs": [
    {
     "output_type": "stream",
     "name": "stdout",
     "text": "b'[{\"answer\": \"Channy Yun\", \"question\": \"Who is the Principal Technical Evangelist at Amazon Web Services?\"}, {\"answer\": \"17,000\", \"question\": \"How many members does the AWS Korea User Group have?\"}, {\"answer\": \"Cloud native architecture\", \"question\": \"What type of architecture does Channy Yun have a special interest in?\"}]'\n"
    }
   ],
   "source": [
    "import boto3\n",
    "import json\n",
    "\n",
    "channy=\"\"\"\n",
    "Channy Yun is a Principal Technical Evangelist at Amazon Web Services and works with Korean developers to enable them to use AWS Cloud services. He focuses on engaging technical audiences such as developers, communities, and AWS Korea User Group with over 17,000 members and shared knowledge of the latest AWS cloud services in blog posts, social media, and public speaking. He has a special interest in cloud native architecture such as Serverless and Microservices based on DevOps.\n",
    "\"\"\"\n",
    "client = boto3.client('sagemaker-runtime')\n",
    "\n",
    "input = {\n",
    "    'text': channy\n",
    "}\n",
    "payload = json.dumps(input)\n",
    "\n",
    "response = client.invoke_endpoint(\n",
    "    EndpointName=endpoint, \n",
    "    ContentType=\"application/json\",\n",
    "    Accept=\"application/json\" ,\n",
    "    Body=payload\n",
    ")\n",
    "\n",
    "print(response['Body'].read())  "
   ]
  },
  {
   "cell_type": "code",
   "execution_count": 33,
   "metadata": {},
   "outputs": [],
   "source": [
    "sagemaker_session.delete_endpoint(predictor.endpoint)"
   ]
  },
  {
   "cell_type": "code",
   "execution_count": null,
   "metadata": {},
   "outputs": [],
   "source": []
  }
 ],
 "metadata": {
  "language_info": {
   "codemirror_mode": {
    "name": "ipython",
    "version": 3
   },
   "file_extension": ".py",
   "mimetype": "text/x-python",
   "name": "python",
   "nbconvert_exporter": "python",
   "pygments_lexer": "ipython3",
   "version": "3.7.3-final"
  },
  "orig_nbformat": 2,
  "kernelspec": {
   "name": "python37364bitvenvvenvfbc6d215d2384daca7c44542d667cdba",
   "display_name": "Python 3.7.3 64-bit ('.venv': venv)"
  }
 },
 "nbformat": 4,
 "nbformat_minor": 2
}