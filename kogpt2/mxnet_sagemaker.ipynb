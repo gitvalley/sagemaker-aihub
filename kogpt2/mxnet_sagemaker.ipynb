{
 "cells": [
  {
   "cell_type": "code",
   "execution_count": 1,
   "metadata": {},
   "outputs": [
    {
     "output_type": "stream",
     "name": "stdout",
     "text": "\u001b[33mYou are using pip version 19.0.3, however version 20.2b1 is available.\nYou should consider upgrading via the 'pip install --upgrade pip' command.\u001b[0m\n"
    }
   ],
   "source": [
    "!pip install -q sagemaker sagemaker[local]"
   ]
  },
  {
   "cell_type": "code",
   "execution_count": 2,
   "metadata": {},
   "outputs": [
    {
     "output_type": "stream",
     "name": "stderr",
     "text": "WARNING:root:pandas failed to import. Analytics features will be impaired or broken.\nWARNING:sagemaker:Couldn't call 'get_role' to get Role ARN from role name airesearch to get Role path.\narn:aws:iam::294038372338:role/hunkimSagemaker\n"
    }
   ],
   "source": [
    "import sagemaker\n",
    "import boto3\n",
    "\n",
    "sagemaker_session = sagemaker.Session()\n",
    "\n",
    "bucket = sagemaker_session.default_bucket()\n",
    "prefix = 'sagemaker/hunkim-kogpt2'\n",
    "\n",
    "try:\n",
    "    role = sagemaker.get_execution_role()\n",
    "except ValueError:\n",
    "    iam = boto3.client('iam')\n",
    "    role = iam.get_role(RoleName='hunkimSagemaker')['Role']['Arn']\n",
    "    \n",
    "print(role)"
   ]
  },
  {
   "cell_type": "code",
   "execution_count": 3,
   "metadata": {},
   "outputs": [
    {
     "output_type": "stream",
     "name": "stderr",
     "text": "mkdir: data: File exists\n"
    }
   ],
   "source": [
    "%%bash\n",
    "mkdir data\n",
    "touch data/README.md"
   ]
  },
  {
   "cell_type": "code",
   "execution_count": 4,
   "metadata": {},
   "outputs": [
    {
     "output_type": "stream",
     "name": "stderr",
     "text": "WARNING:sagemaker:'upload_data' method will be deprecated in favor of 'S3Uploader' class (https://sagemaker.readthedocs.io/en/stable/s3.html#sagemaker.s3.S3Uploader) in SageMaker Python SDK v2.\ninput spec (in this case, just an S3 path): s3://sagemaker-us-west-2-294038372338/sagemaker/hunkim-kogpt2\n"
    }
   ],
   "source": [
    "inputs = sagemaker_session.upload_data(path='data', bucket=bucket, key_prefix=prefix)\n",
    "print('input spec (in this case, just an S3 path): {}'.format(inputs))"
   ]
  },
  {
   "cell_type": "markdown",
   "metadata": {},
   "source": [
    "## Dummy train\n",
    "It just store the models and voc data"
   ]
  },
  {
   "cell_type": "code",
   "execution_count": 5,
   "metadata": {},
   "outputs": [],
   "source": [
    "from sagemaker.mxnet import MXNet\n",
    "\n",
    "m = MXNet('train.py',\n",
    "          source_dir='KoGPT2',\n",
    "          role=role,\n",
    "          train_instance_count=1,\n",
    "          train_instance_type='ml.c4.xlarge',\n",
    "          #train_instance_type='local',\n",
    "          framework_version='1.6.0',\n",
    "          py_version='py3',\n",
    "          # distributions={'parameter_server': {'enabled': True}},\n",
    "          # available hyperparameters: emsize, nhid, nlayers, lr, clip, epochs, batch_size,        \n",
    "          hyperparameters={'batch_size': 8,\n",
    "                           'epochs': 2,\n",
    "                           'lr': 0.01})"
   ]
  },
  {
   "cell_type": "code",
   "execution_count": 6,
   "metadata": {
    "tags": [
     "outputPrepend",
     "outputPrepend",
     "outputPrepend",
     "outputPrepend",
     "outputPrepend",
     "outputPrepend",
     "outputPrepend"
    ]
   },
   "outputs": [
    {
     "output_type": "stream",
     "name": "stderr",
     "text": "██████████████████................]#015[██████████████████████████████████................]#015[██████████████████████████████████................]#015[██████████████████████████████████................]#015[██████████████████████████████████................]#015[██████████████████████████████████................]#015[██████████████████████████████████................]#015[██████████████████████████████████................]#015[██████████████████████████████████................]#015[██████████████████████████████████................]#015[██████████████████████████████████................]#015[██████████████████████████████████................]#015[██████████████████████████████████................]#015[███████████████████████████████████...............]#015[███████████████████████████████████...............]#015[███████████████████████████████████...............]#015[███████████████████████████████████...............]#015[███████████████████████████████████...............]#015[███████████████████████████████████...............]#015[███████████████████████████████████...............]#015[███████████████████████████████████...............]#015[███████████████████████████████████...............]#015[███████████████████████████████████...............]#015[███████████████████████████████████...............]#015[███████████████████████████████████...............]#015[████████████████████████████████████..............]#015[████████████████████████████████████..............]#015[████████████████████████████████████..............]#015[████████████████████████████████████..............]#015[████████████████████████████████████..............]#015[████████████████████████████████████..............]#015[████████████████████████████████████..............]#015[████████████████████████████████████..............]#015[████████████████████████████████████..............]#015[████████████████████████████████████..............]#015[████████████████████████████████████..............]#015[████████████████████████████████████..............]#015[████████████████████████████████████..............]#015[█████████████████████████████████████.............]#015[█████████████████████████████████████.............]#015[█████████████████████████████████████.............]#015[█████████████████████████████████████.............]#015[█████████████████████████████████████.............]#015[█████████████████████████████████████.............]#015[█████████████████████████████████████.............]#015[█████████████████████████████████████.............]#015[█████████████████████████████████████.............]#015[█████████████████████████████████████.............]#015[█████████████████████████████████████.............]#015[█████████████████████████████████████.............]#015[██████████████████████████████████████............]#015[██████████████████████████████████████............]#015[██████████████████████████████████████............]#015[██████████████████████████████████████............]#015[██████████████████████████████████████............]#015[██████████████████████████████████████............]#015[██████████████████████████████████████............]#015[██████████████████████████████████████............]#015[██████████████████████████████████████............]#015[██████████████████████████████████████............]#015[██████████████████████████████████████............]#015[██████████████████████████████████████............]#015[███████████████████████████████████████...........]#015[███████████████████████████████████████...........]#015[███████████████████████████████████████...........]#015[███████████████████████████████████████...........]#015[███████████████████████████████████████...........]#015[███████████████████████████████████████...........]#015[███████████████████████████████████████...........]#015[███████████████████████████████████████...........]#015[███████████████████████████████████████...........]#015[███████████████████████████████████████...........]#015[███████████████████████████████████████...........]#015[███████████████████████████████████████...........]#015[███████████████████████████████████████...........]#015[████████████████████████████████████████..........]#015[████████████████████████████████████████..........]#015[████████████████████████████████████████..........]#015[████████████████████████████████████████..........]#015[████████████████████████████████████████..........]#015[████████████████████████████████████████..........]#015[████████████████████████████████████████..........]#015[████████████████████████████████████████..........]#015[████████████████████████████████████████..........]#015[████████████████████████████████████████..........]#015[████████████████████████████████████████..........]#015[████████████████████████████████████████..........]#015[█████████████████████████████████████████.........]#015[█████████████████████████████████████████.........]#015[█████████████████████████████████████████.........]#015[█████████████████████████████████████████.........]#015[█████████████████████████████████████████.........]#015[█████████████████████████████████████████.........]#015[█████████████████████████████████████████.........]#015[█████████████████████████████████████████.........]#015[█████████████████████████████████████████.........]#015[█████████████████████████████████████████.........]#015[█████████████████████████████████████████.........]#015[█████████████████████████████████████████.........]#015[█████████████████████████████████████████.........]#015[██████████████████████████████████████████........]#015[█�\u001b[0m\n\n2020-06-09 11:34:23 Uploading - Uploading generated training model\u001b[34m��████████████████████████████████████████........]#015[██████████████████████████████████████████........]#015[██████████████████████████████████████████........]#015[██████████████████████████████████████████........]#015[██████████████████████████████████████████........]#015[██████████████████████████████████████████........]#015[██████████████████████████████████████████........]#015[██████████████████████████████████████████........]#015[██████████████████████████████████████████........]#015[██████████████████████████████████████████........]#015[██████████████████████████████████████████........]#015[███████████████████████████████████████████.......]#015[███████████████████████████████████████████.......]#015[███████████████████████████████████████████.......]#015[███████████████████████████████████████████.......]#015[███████████████████████████████████████████.......]#015[███████████████████████████████████████████.......]#015[███████████████████████████████████████████.......]#015[███████████████████████████████████████████.......]#015[███████████████████████████████████████████.......]#015[███████████████████████████████████████████.......]#015[███████████████████████████████████████████.......]#015[███████████████████████████████████████████.......]#015[████████████████████████████████████████████......]#015[████████████████████████████████████████████......]#015[████████████████████████████████████████████......]#015[████████████████████████████████████████████......]#015[████████████████████████████████████████████......]#015[████████████████████████████████████████████......]#015[████████████████████████████████████████████......]#015[████████████████████████████████████████████......]#015[████████████████████████████████████████████......]#015[████████████████████████████████████████████......]#015[████████████████████████████████████████████......]#015[████████████████████████████████████████████......]#015[████████████████████████████████████████████......]#015[█████████████████████████████████████████████.....]#015[█████████████████████████████████████████████.....]#015[█████████████████████████████████████████████.....]#015[█████████████████████████████████████████████.....]#015[█████████████████████████████████████████████.....]#015[█████████████████████████████████████████████.....]#015[█████████████████████████████████████████████.....]#015[█████████████████████████████████████████████.....]#015[█████████████████████████████████████████████.....]#015[█████████████████████████████████████████████.....]#015[█████████████████████████████████████████████.....]#015[█████████████████████████████████████████████.....]#015[██████████████████████████████████████████████....]#015[██████████████████████████████████████████████....]#015[██████████████████████████████████████████████....]#015[██████████████████████████████████████████████....]#015[██████████████████████████████████████████████....]#015[██████████████████████████████████████████████....]#015[██████████████████████████████████████████████....]#015[██████████████████████████████████████████████....]#015[██████████████████████████████████████████████....]#015[██████████████████████████████████████████████....]#015[██████████████████████████████████████████████....]#015[██████████████████████████████████████████████....]#015[██████████████████████████████████████████████....]#015[███████████████████████████████████████████████...]#015[███████████████████████████████████████████████...]#015[███████████████████████████████████████████████...]#015[███████████████████████████████████████████████...]#015[███████████████████████████████████████████████...]#015[███████████████████████████████████████████████...]#015[███████████████████████████████████████████████...]#015[███████████████████████████████████████████████...]#015[███████████████████████████████████████████████...]#015[███████████████████████████████████████████████...]#015[███████████████████████████████████████████████...]#015[███████████████████████████████████████████████...]#015[████████████████████████████████████████████████..]#015[████████████████████████████████████████████████..]#015[████████████████████████████████████████████████..]#015[████████████████████████████████████████████████..]#015[████████████████████████████████████████████████..]#015[████████████████████████████████████████████████..]#015[████████████████████████████████████████████████..]#015[████████████████████████████████████████████████..]#015[████████████████████████████████████████████████..]#015[████████████████████████████████████████████████..]#015[████████████████████████████████████████████████..]#015[████████████████████████████████████████████████..]#015[████████████████████████████████████████████████..]#015[█████████████████████████████████████████████████.]#015[█████████████████████████████████████████████████.]#015[█████████████████████████████████████████████████.]#015[█████████████████████████████████████████████████.]#015[█████████████████████████████████████████████████.]#015[█████████████████████████████████████████████████.]#015[█████████████████████████████████████████████████.]#015[█████████████████████████████████████████████████.]#015[█████████████████████████████████████████████████.]#015[█████████████████████████████████████████████████.]#015[█████████████████████████████████████████████████.]#015[█████████████████████████████████████████████████.]#015[██████████████████████████████████████████████████]\u001b[0m\n\u001b[34m#015[████████████████████████████████████████████......]#015[██████████████████████████████████████████████████]\u001b[0m\n\u001b[34mGPT2Model(\n  (_pos_embed): Embedding(1024 -> 768, float32)\n  (_embed): Embedding(50000 -> 768, float32)\n  (_drop): Dropout(p = 0.1, axes=())\n  (_logits_proj): Dense(768 -> 50000, linear)\n  (_self_attention_layers): HybridSequential(\n    (0): GPT2SelfAttentionLayer(\n      (_multi_head_qkv_proj): Dense(768 -> 2304, linear)\n      (_base_attn_cell): DotProductAttentionCell(\n        (_dropout_layer): Dropout(p = 0.1, axes=())\n      )\n      (_dropout_layer): Dropout(p = 0.1, axes=())\n      (_out_proj): Dense(768 -> 768, linear)\n    )\n    (1): GPT2SelfAttentionLayer(\n      (_multi_head_qkv_proj): Dense(768 -> 2304, linear)\n      (_base_attn_cell): DotProductAttentionCell(\n        (_dropout_layer): Dropout(p = 0.1, axes=())\n      )\n      (_dropout_layer): Dropout(p = 0.1, axes=())\n      (_out_proj): Dense(768 -> 768, linear)\n    )\n    (2): GPT2SelfAttentionLayer(\n      (_multi_head_qkv_proj): Dense(768 -> 2304, linear)\n      (_base_attn_cell): DotProductAttentionCell(\n        (_dropout_layer): Dropout(p = 0.1, axes=())\n      )\n      (_dropout_layer): Dropout(p = 0.1, axes=())\n      (_out_proj): Dense(768 -> 768, linear)\n    )\n    (3): GPT2SelfAttentionLayer(\n      (_multi_head_qkv_proj): Dense(768 -> 2304, linear)\n      (_base_attn_cell): DotProductAttentionCell(\n        (_dropout_layer): Dropout(p = 0.1, axes=())\n      )\n      (_dropout_layer): Dropout(p = 0.1, axes=())\n      (_out_proj): Dense(768 -> 768, linear)\n    )\n    (4): GPT2SelfAttentionLayer(\n      (_multi_head_qkv_proj): Dense(768 -> 2304, linear)\n      (_base_attn_cell): DotProductAttentionCell(\n        (_dropout_layer): Dropout(p = 0.1, axes=())\n      )\n      (_dropout_layer): Dropout(p = 0.1, axes=())\n      (_out_proj): Dense(768 -> 768, linear)\n    )\n    (5): GPT2SelfAttentionLayer(\n      (_multi_head_qkv_proj): Dense(768 -> 2304, linear)\n      (_base_attn_cell): DotProductAttentionCell(\n        (_dropout_layer): Dropout(p = 0.1, axes=())\n      )\n      (_dropout_layer): Dropout(p = 0.1, axes=())\n      (_out_proj): Dense(768 -> 768, linear)\n    )\n    (6): GPT2SelfAttentionLayer(\n      (_multi_head_qkv_proj): Dense(768 -> 2304, linear)\n      (_base_attn_cell): DotProductAttentionCell(\n        (_dropout_layer): Dropout(p = 0.1, axes=())\n      )\n      (_dropout_layer): Dropout(p = 0.1, axes=())\n      (_out_proj): Dense(768 -> 768, linear)\n    )\n    (7): GPT2SelfAttentionLayer(\n      (_multi_head_qkv_proj): Dense(768 -> 2304, linear)\n      (_base_attn_cell): DotProductAttentionCell(\n        (_dropout_layer): Dropout(p = 0.1, axes=())\n      )\n      (_dropout_layer): Dropout(p = 0.1, axes=())\n      (_out_proj): Dense(768 -> 768, linear)\n    )\n    (8): GPT2SelfAttentionLayer(\n      (_multi_head_qkv_proj): Dense(768 -> 2304, linear)\n      (_base_attn_cell): DotProductAttentionCell(\n        (_dropout_layer): Dropout(p = 0.1, axes=())\n      )\n      (_dropout_layer): Dropout(p = 0.1, axes=())\n      (_out_proj): Dense(768 -> 768, linear)\n    )\n    (9): GPT2SelfAttentionLayer(\n      (_multi_head_qkv_proj): Dense(768 -> 2304, linear)\n      (_base_attn_cell): DotProductAttentionCell(\n        (_dropout_layer): Dropout(p = 0.1, axes=())\n      )\n      (_dropout_layer): Dropout(p = 0.1, axes=())\n      (_out_proj): Dense(768 -> 768, linear)\n    )\n    (10): GPT2SelfAttentionLayer(\n      (_multi_head_qkv_proj): Dense(768 -> 2304, linear)\n      (_base_attn_cell): DotProductAttentionCell(\n        (_dropout_layer): Dropout(p = 0.1, axes=())\n      )\n      (_dropout_layer): Dropout(p = 0.1, axes=())\n      (_out_proj): Dense(768 -> 768, linear)\n    )\n    (11): GPT2SelfAttentionLayer(\n      (_multi_head_qkv_proj): Dense(768 -> 2304, linear)\n      (_base_attn_cell): DotProductAttentionCell(\n        (_dropout_layer): Dropout(p = 0.1, axes=())\n      )\n      (_dropout_layer): Dropout(p = 0.1, axes=())\n      (_out_proj): Dense(768 -> 768, linear)\n    )\n  )\n  (_ffn_layers): HybridSequential(\n    (0): GPT2FFNLayer(\n      (_hidden_map): Dense(768 -> 3072, linear)\n      (_out_map): Dense(3072 -> 768, linear)\n      (_act): GELU()\n      (_dropout_layer): Dropout(p = 0.1, axes=())\n    )\n    (1): GPT2FFNLayer(\n      (_hidden_map): Dense(768 -> 3072, linear)\n      (_out_map): Dense(3072 -> 768, linear)\n      (_act): GELU()\n      (_dropout_layer): Dropout(p = 0.1, axes=())\n    )\n    (2): GPT2FFNLayer(\n      (_hidden_map): Dense(768 -> 3072, linear)\n      (_out_map): Dense(3072 -> 768, linear)\n      (_act): GELU()\n      (_dropout_layer): Dropout(p = 0.1, axes=())\n    )\n    (3): GPT2FFNLayer(\n      (_hidden_map): Dense(768 -> 3072, linear)\n      (_out_map): Dense(3072 -> 768, linear)\n      (_act): GELU()\n      (_dropout_layer): Dropout(p = 0.1, axes=())\n    )\n    (4): GPT2FFNLayer(\n      (_hidden_map): Dense(768 -> 3072, linear)\n      (_out_map): Dense(3072 -> 768, linear)\n      (_act): GELU()\n      (_dropout_layer): Dropout(p = 0.1, axes=())\n    )\n    (5): GPT2FFNLayer(\n      (_hidden_map): Dense(768 -> 3072, linear)\n      (_out_map): Dense(3072 -> 768, linear)\n      (_act): GELU()\n      (_dropout_layer): Dropout(p = 0.1, axes=())\n    )\n    (6): GPT2FFNLayer(\n      (_hidden_map): Dense(768 -> 3072, linear)\n      (_out_map): Dense(3072 -> 768, linear)\n      (_act): GELU()\n      (_dropout_layer): Dropout(p = 0.1, axes=())\n    )\n    (7): GPT2FFNLayer(\n      (_hidden_map): Dense(768 -> 3072, linear)\n      (_out_map): Dense(3072 -> 768, linear)\n      (_act): GELU()\n      (_dropout_layer): Dropout(p = 0.1, axes=())\n    )\n    (8): GPT2FFNLayer(\n      (_hidden_map): Dense(768 -> 3072, linear)\n      (_out_map): Dense(3072 -> 768, linear)\n      (_act): GELU()\n      (_dropout_layer): Dropout(p = 0.1, axes=())\n    )\n    (9): GPT2FFNLayer(\n      (_hidden_map): Dense(768 -> 3072, linear)\n      (_out_map): Dense(3072 -> 768, linear)\n      (_act): GELU()\n      (_dropout_layer): Dropout(p = 0.1, axes=())\n    )\n    (10): GPT2FFNLayer(\n      (_hidden_map): Dense(768 -> 3072, linear)\n      (_out_map): Dense(3072 -> 768, linear)\n      (_act): GELU()\n      (_dropout_layer): Dropout(p = 0.1, axes=())\n    )\n    (11): GPT2FFNLayer(\n      (_hidden_map): Dense(768 -> 3072, linear)\n      (_out_map): Dense(3072 -> 768, linear)\n      (_act): GELU()\n      (_dropout_layer): Dropout(p = 0.1, axes=())\n    )\n  )\n  (_attn_ln): HybridSequential(\n    (0): LayerNorm(eps=1e-05, axis=-1, center=True, scale=True, in_channels=768)\n    (1): LayerNorm(eps=1e-05, axis=-1, center=True, scale=True, in_channels=768)\n    (2): LayerNorm(eps=1e-05, axis=-1, center=True, scale=True, in_channels=768)\n    (3): LayerNorm(eps=1e-05, axis=-1, center=True, scale=True, in_channels=768)\n    (4): LayerNorm(eps=1e-05, axis=-1, center=True, scale=True, in_channels=768)\n    (5): LayerNorm(eps=1e-05, axis=-1, center=True, scale=True, in_channels=768)\n    (6): LayerNorm(eps=1e-05, axis=-1, center=True, scale=True, in_channels=768)\n    (7): LayerNorm(eps=1e-05, axis=-1, center=True, scale=True, in_channels=768)\n    (8): LayerNorm(eps=1e-05, axis=-1, center=True, scale=True, in_channels=768)\n    (9): LayerNorm(eps=1e-05, axis=-1, center=True, scale=True, in_channels=768)\n    (10): LayerNorm(eps=1e-05, axis=-1, center=True, scale=True, in_channels=768)\n    (11): LayerNorm(eps=1e-05, axis=-1, center=True, scale=True, in_channels=768)\n  )\n  (_ffn_ln): HybridSequential(\n    (0): LayerNorm(eps=1e-05, axis=-1, center=True, scale=True, in_channels=768)\n    (1): LayerNorm(eps=1e-05, axis=-1, center=True, scale=True, in_channels=768)\n    (2): LayerNorm(eps=1e-05, axis=-1, center=True, scale=True, in_channels=768)\n    (3): LayerNorm(eps=1e-05, axis=-1, center=True, scale=True, in_channels=768)\n    (4): LayerNorm(eps=1e-05, axis=-1, center=True, scale=True, in_channels=768)\n    (5): LayerNorm(eps=1e-05, axis=-1, center=True, scale=True, in_channels=768)\n    (6): LayerNorm(eps=1e-05, axis=-1, center=True, scale=True, in_channels=768)\n    (7): LayerNorm(eps=1e-05, axis=-1, center=True, scale=True, in_channels=768)\n    (8): LayerNorm(eps=1e-05, axis=-1, center=True, scale=True, in_channels=768)\n    (9): LayerNorm(eps=1e-05, axis=-1, center=True, scale=True, in_channels=768)\n    (10): LayerNorm(eps=1e-05, axis=-1, center=True, scale=True, in_channels=768)\n    (11): LayerNorm(eps=1e-05, axis=-1, center=True, scale=True, in_channels=768)\n  )\n  (_final_ln): LayerNorm(eps=1e-05, axis=-1, center=True, scale=True, in_channels=768)\u001b[0m\n\u001b[34m)\u001b[0m\n\u001b[34mVocab(size=50000, unk=\"<unk>\", reserved=\"['<pad>', '<s>', '</s>']\")\u001b[0m\n\u001b[34mDONE\u001b[0m\n\u001b[34m2020-06-09 11:34:19,896 sagemaker-containers INFO     Reporting training SUCCESS\u001b[0m\n\n2020-06-09 11:35:50 Completed - Training job completed\nTraining seconds: 303\nBillable seconds: 303\n"
    }
   ],
   "source": [
    "m.fit(inputs)"
   ]
  },
  {
   "cell_type": "code",
   "execution_count": 7,
   "metadata": {},
   "outputs": [
    {
     "output_type": "stream",
     "name": "stderr",
     "text": "WARNING:sagemaker:Parameter image will be renamed to image_uri in SageMaker Python SDK v2.\ns3://sagemaker-us-west-2-294038372338/mxnet-training-2020-06-09-11-28-44-000/output/model.tar.gz\n"
    }
   ],
   "source": [
    "from sagemaker.mxnet.model import MXNetModel\n",
    "\n",
    "training_job_name = m.latest_training_job.name\n",
    "desc = sagemaker_session.sagemaker_client.describe_training_job(TrainingJobName=training_job_name)\n",
    "trained_model_location = desc['ModelArtifacts']['S3ModelArtifacts']\n",
    "print(trained_model_location)\n",
    "#s3://sagemaker-us-west-2-294038372338/mxnet-training-2020-06-07-02-55-29-667/output/model.tar.gz\n",
    "\n",
    "mm = MXNetModel(model_data=trained_model_location,\n",
    "          role=role,\n",
    "          framework_version='1.6.0',\n",
    "          entry_point='infer.py',\n",
    "          source_dir='KoGPT2',\n",
    "          py_version='py3',\n",
    "          model_server_workers=2)"
   ]
  },
  {
   "cell_type": "code",
   "execution_count": 8,
   "metadata": {},
   "outputs": [
    {
     "output_type": "stream",
     "name": "stderr",
     "text": "WARNING:sagemaker:'create_image_uri' will be deprecated in favor of 'ImageURIProvider' class in SageMaker Python SDK v2.\n-------------!"
    }
   ],
   "source": [
    "predictor = mm.deploy(initial_instance_count=1, \n",
    "                    instance_type='local')\n",
    "                    #instance_type='ml.c5.xlarge')"
   ]
  },
  {
   "cell_type": "code",
   "execution_count": 9,
   "metadata": {},
   "outputs": [
    {
     "output_type": "stream",
     "name": "stdout",
     "text": "mxnet-inference-2020-06-09-11-37-31-656\n"
    }
   ],
   "source": [
    "endpoint_name = predictor.endpoint\n",
    "print(endpoint_name)"
   ]
  },
  {
   "cell_type": "code",
   "execution_count": 10,
   "metadata": {},
   "outputs": [],
   "source": [
    "import sagemaker\n",
    "from sagemaker.mxnet.model import MXNetPredictor\n",
    "\n",
    "def infer(input_sentence='아기 공룡 둘리는 희동이와', debug=False):\n",
    "  predictor = MXNetPredictor(endpoint_name)\n",
    "\n",
    "  pred_latency_sum = 0\n",
    "  pred_count_sum = 0\n",
    "  pred_cnt = 0\n",
    "\n",
    "  for i in range(20):\n",
    "    pred_out = predictor.predict(input_sentence)\n",
    "    if i == 0:\n",
    "      continue\n",
    "    \n",
    "    predicted_sentence= pred_out[0]\n",
    "    predict_count = pred_out[1]\n",
    "    predict_latency = pred_out[2]\n",
    "  \n",
    "    pred_latency_sum += predict_latency\n",
    "    pred_count_sum =+ predict_count\n",
    "    pred_cnt += 1\n",
    "\n",
    "\n",
    "  avg_latency = pred_latency_sum / pred_cnt\n",
    "  avg_latency_per_inf = avg_latency / pred_count_sum\n",
    "\n",
    "  if debug:\n",
    "    print('Input sentence: {}'.format(input_sentence))\n",
    "    print('Predicted sentence: {}'.format(predicted_sentence))\n",
    "    print('Average number of inferenced token: {:.2f}'.format(pred_count_sum))\n",
    "    print('Average inference latency for a sentence completion: {:.2f}'.format(avg_latency))\n",
    "    print('Average inference latency per a token: {:.2f}\\n'.format(avg_latency_per_inf))\n",
    "  \n",
    "  return predicted_sentence"
   ]
  },
  {
   "cell_type": "code",
   "execution_count": 11,
   "metadata": {},
   "outputs": [
    {
     "output_type": "error",
     "ename": "ModelError",
     "evalue": "An error occurred (ModelError) when calling the InvokeEndpoint operation: Received server error (500) from model with message \"{\n  \"code\": 500,\n  \"type\": \"InternalServerException\",\n  \"message\": \"Worker died.\"\n}\n\". See https://us-west-2.console.aws.amazon.com/cloudwatch/home?region=us-west-2#logEventViewer:group=/aws/sagemaker/Endpoints/mxnet-inference-2020-06-09-11-37-31-656 in account 294038372338 for more information.",
     "traceback": [
      "\u001b[0;31m---------------------------------------------------------------------------\u001b[0m",
      "\u001b[0;31mModelError\u001b[0m                                Traceback (most recent call last)",
      "\u001b[0;32m<timed eval>\u001b[0m in \u001b[0;36m<module>\u001b[0;34m\u001b[0m\n",
      "\u001b[0;32m<ipython-input-10-60aa150907b0>\u001b[0m in \u001b[0;36minfer\u001b[0;34m(input_sentence, debug)\u001b[0m\n\u001b[1;32m     10\u001b[0m \u001b[0;34m\u001b[0m\u001b[0m\n\u001b[1;32m     11\u001b[0m   \u001b[0;32mfor\u001b[0m \u001b[0mi\u001b[0m \u001b[0;32min\u001b[0m \u001b[0mrange\u001b[0m\u001b[0;34m(\u001b[0m\u001b[0;36m20\u001b[0m\u001b[0;34m)\u001b[0m\u001b[0;34m:\u001b[0m\u001b[0;34m\u001b[0m\u001b[0;34m\u001b[0m\u001b[0m\n\u001b[0;32m---> 12\u001b[0;31m     \u001b[0mpred_out\u001b[0m \u001b[0;34m=\u001b[0m \u001b[0mpredictor\u001b[0m\u001b[0;34m.\u001b[0m\u001b[0mpredict\u001b[0m\u001b[0;34m(\u001b[0m\u001b[0minput_sentence\u001b[0m\u001b[0;34m)\u001b[0m\u001b[0;34m\u001b[0m\u001b[0;34m\u001b[0m\u001b[0m\n\u001b[0m\u001b[1;32m     13\u001b[0m     \u001b[0;32mif\u001b[0m \u001b[0mi\u001b[0m \u001b[0;34m==\u001b[0m \u001b[0;36m0\u001b[0m\u001b[0;34m:\u001b[0m\u001b[0;34m\u001b[0m\u001b[0;34m\u001b[0m\u001b[0m\n\u001b[1;32m     14\u001b[0m       \u001b[0;32mcontinue\u001b[0m\u001b[0;34m\u001b[0m\u001b[0;34m\u001b[0m\u001b[0m\n",
      "\u001b[0;32m~/work/sagemaker-aihub/.venv/lib/python3.7/site-packages/sagemaker/predictor.py\u001b[0m in \u001b[0;36mpredict\u001b[0;34m(self, data, initial_args, target_model)\u001b[0m\n\u001b[1;32m    108\u001b[0m \u001b[0;34m\u001b[0m\u001b[0m\n\u001b[1;32m    109\u001b[0m         \u001b[0mrequest_args\u001b[0m \u001b[0;34m=\u001b[0m \u001b[0mself\u001b[0m\u001b[0;34m.\u001b[0m\u001b[0m_create_request_args\u001b[0m\u001b[0;34m(\u001b[0m\u001b[0mdata\u001b[0m\u001b[0;34m,\u001b[0m \u001b[0minitial_args\u001b[0m\u001b[0;34m,\u001b[0m \u001b[0mtarget_model\u001b[0m\u001b[0;34m)\u001b[0m\u001b[0;34m\u001b[0m\u001b[0;34m\u001b[0m\u001b[0m\n\u001b[0;32m--> 110\u001b[0;31m         \u001b[0mresponse\u001b[0m \u001b[0;34m=\u001b[0m \u001b[0mself\u001b[0m\u001b[0;34m.\u001b[0m\u001b[0msagemaker_session\u001b[0m\u001b[0;34m.\u001b[0m\u001b[0msagemaker_runtime_client\u001b[0m\u001b[0;34m.\u001b[0m\u001b[0minvoke_endpoint\u001b[0m\u001b[0;34m(\u001b[0m\u001b[0;34m**\u001b[0m\u001b[0mrequest_args\u001b[0m\u001b[0;34m)\u001b[0m\u001b[0;34m\u001b[0m\u001b[0;34m\u001b[0m\u001b[0m\n\u001b[0m\u001b[1;32m    111\u001b[0m         \u001b[0;32mreturn\u001b[0m \u001b[0mself\u001b[0m\u001b[0;34m.\u001b[0m\u001b[0m_handle_response\u001b[0m\u001b[0;34m(\u001b[0m\u001b[0mresponse\u001b[0m\u001b[0;34m)\u001b[0m\u001b[0;34m\u001b[0m\u001b[0;34m\u001b[0m\u001b[0m\n\u001b[1;32m    112\u001b[0m \u001b[0;34m\u001b[0m\u001b[0m\n",
      "\u001b[0;32m~/work/sagemaker-aihub/.venv/lib/python3.7/site-packages/botocore/client.py\u001b[0m in \u001b[0;36m_api_call\u001b[0;34m(self, *args, **kwargs)\u001b[0m\n\u001b[1;32m    314\u001b[0m                     \"%s() only accepts keyword arguments.\" % py_operation_name)\n\u001b[1;32m    315\u001b[0m             \u001b[0;31m# The \"self\" in this scope is referring to the BaseClient.\u001b[0m\u001b[0;34m\u001b[0m\u001b[0;34m\u001b[0m\u001b[0;34m\u001b[0m\u001b[0m\n\u001b[0;32m--> 316\u001b[0;31m             \u001b[0;32mreturn\u001b[0m \u001b[0mself\u001b[0m\u001b[0;34m.\u001b[0m\u001b[0m_make_api_call\u001b[0m\u001b[0;34m(\u001b[0m\u001b[0moperation_name\u001b[0m\u001b[0;34m,\u001b[0m \u001b[0mkwargs\u001b[0m\u001b[0;34m)\u001b[0m\u001b[0;34m\u001b[0m\u001b[0;34m\u001b[0m\u001b[0m\n\u001b[0m\u001b[1;32m    317\u001b[0m \u001b[0;34m\u001b[0m\u001b[0m\n\u001b[1;32m    318\u001b[0m         \u001b[0m_api_call\u001b[0m\u001b[0;34m.\u001b[0m\u001b[0m__name__\u001b[0m \u001b[0;34m=\u001b[0m \u001b[0mstr\u001b[0m\u001b[0;34m(\u001b[0m\u001b[0mpy_operation_name\u001b[0m\u001b[0;34m)\u001b[0m\u001b[0;34m\u001b[0m\u001b[0;34m\u001b[0m\u001b[0m\n",
      "\u001b[0;32m~/work/sagemaker-aihub/.venv/lib/python3.7/site-packages/botocore/client.py\u001b[0m in \u001b[0;36m_make_api_call\u001b[0;34m(self, operation_name, api_params)\u001b[0m\n\u001b[1;32m    633\u001b[0m             \u001b[0merror_code\u001b[0m \u001b[0;34m=\u001b[0m \u001b[0mparsed_response\u001b[0m\u001b[0;34m.\u001b[0m\u001b[0mget\u001b[0m\u001b[0;34m(\u001b[0m\u001b[0;34m\"Error\"\u001b[0m\u001b[0;34m,\u001b[0m \u001b[0;34m{\u001b[0m\u001b[0;34m}\u001b[0m\u001b[0;34m)\u001b[0m\u001b[0;34m.\u001b[0m\u001b[0mget\u001b[0m\u001b[0;34m(\u001b[0m\u001b[0;34m\"Code\"\u001b[0m\u001b[0;34m)\u001b[0m\u001b[0;34m\u001b[0m\u001b[0;34m\u001b[0m\u001b[0m\n\u001b[1;32m    634\u001b[0m             \u001b[0merror_class\u001b[0m \u001b[0;34m=\u001b[0m \u001b[0mself\u001b[0m\u001b[0;34m.\u001b[0m\u001b[0mexceptions\u001b[0m\u001b[0;34m.\u001b[0m\u001b[0mfrom_code\u001b[0m\u001b[0;34m(\u001b[0m\u001b[0merror_code\u001b[0m\u001b[0;34m)\u001b[0m\u001b[0;34m\u001b[0m\u001b[0;34m\u001b[0m\u001b[0m\n\u001b[0;32m--> 635\u001b[0;31m             \u001b[0;32mraise\u001b[0m \u001b[0merror_class\u001b[0m\u001b[0;34m(\u001b[0m\u001b[0mparsed_response\u001b[0m\u001b[0;34m,\u001b[0m \u001b[0moperation_name\u001b[0m\u001b[0;34m)\u001b[0m\u001b[0;34m\u001b[0m\u001b[0;34m\u001b[0m\u001b[0m\n\u001b[0m\u001b[1;32m    636\u001b[0m         \u001b[0;32melse\u001b[0m\u001b[0;34m:\u001b[0m\u001b[0;34m\u001b[0m\u001b[0;34m\u001b[0m\u001b[0m\n\u001b[1;32m    637\u001b[0m             \u001b[0;32mreturn\u001b[0m \u001b[0mparsed_response\u001b[0m\u001b[0;34m\u001b[0m\u001b[0;34m\u001b[0m\u001b[0m\n",
      "\u001b[0;31mModelError\u001b[0m: An error occurred (ModelError) when calling the InvokeEndpoint operation: Received server error (500) from model with message \"{\n  \"code\": 500,\n  \"type\": \"InternalServerException\",\n  \"message\": \"Worker died.\"\n}\n\". See https://us-west-2.console.aws.amazon.com/cloudwatch/home?region=us-west-2#logEventViewer:group=/aws/sagemaker/Endpoints/mxnet-inference-2020-06-09-11-37-31-656 in account 294038372338 for more information."
     ]
    }
   ],
   "source": [
    "%%time\n",
    "infer()"
   ]
  },
  {
   "cell_type": "markdown",
   "metadata": {},
   "source": [
    "## Cleanup\n",
    "\n",
    "After you have finished with this example, remember to delete the prediction endpoint to release the instance(s) associated with it."
   ]
  },
  {
   "cell_type": "code",
   "execution_count": 12,
   "metadata": {},
   "outputs": [],
   "source": [
    "predictor.delete_endpoint()"
   ]
  }
 ],
 "metadata": {
  "language_info": {
   "codemirror_mode": {
    "name": "ipython",
    "version": 3
   },
   "file_extension": ".py",
   "mimetype": "text/x-python",
   "name": "python",
   "nbconvert_exporter": "python",
   "pygments_lexer": "ipython3",
   "version": "3.7.3-final"
  },
  "orig_nbformat": 2,
  "kernelspec": {
   "name": "python37364bitvenvvenvfbc6d215d2384daca7c44542d667cdba",
   "display_name": "Python 3.7.3 64-bit ('.venv': venv)"
  }
 },
 "nbformat": 4,
 "nbformat_minor": 2
}